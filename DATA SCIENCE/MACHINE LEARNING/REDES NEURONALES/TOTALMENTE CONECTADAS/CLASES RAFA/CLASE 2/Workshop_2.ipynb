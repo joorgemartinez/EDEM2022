{
  "nbformat": 4,
  "nbformat_minor": 0,
  "metadata": {
    "colab": {
      "provenance": []
    },
    "kernelspec": {
      "name": "python3",
      "display_name": "Python 3"
    },
    "language_info": {
      "name": "python"
    },
    "gpuClass": "standard"
  },
  "cells": [
    {
      "cell_type": "markdown",
      "source": [
        "# Workshop 2: Handwritten digit classification with PyTorch\n",
        "In this workshop we will learn how to train a neural network with images \n",
        "as input to classify hand-written digits\n",
        "([info of the data](http://yann.lecun.com/exdb/mnist/)). The main blocks of the workshop are:\n",
        "\n",
        "1. Get the data from PyTorch repository and visualize it.\n",
        "2. Pre-process the data.\n",
        "3. Design the network.\n",
        "4. Train the network.\n",
        "5. Evaluate the model."
      ],
      "metadata": {
        "id": "8nDKkFNROcyh"
      }
    },
    {
      "cell_type": "markdown",
      "source": [
        "# 1. Get the data from PyTorch repository and visualize it."
      ],
      "metadata": {
        "id": "zGT8jYviOh_h"
      }
    },
    {
      "cell_type": "code",
      "source": [
        "import torch\n",
        "import torch.nn as nn\n",
        "import torchvision.datasets as datasets\n",
        "import torchvision.transforms as transforms\n",
        "from torch.utils.data import DataLoader\n",
        "from torchsummary import summary\n",
        "\n",
        "import numpy as np\n",
        "import matplotlib.pyplot as plt"
      ],
      "metadata": {
        "id": "XpiiImoMO3px"
      },
      "execution_count": 1,
      "outputs": []
    },
    {
      "cell_type": "code",
      "source": [
        "# set random seed for reproducibility\n",
        "torch.manual_seed(42)"
      ],
      "metadata": {
        "id": "aiNE3lYRO3sV",
        "outputId": "06ff80a8-5f6e-43fa-8338-3fe1bddcfcc5",
        "colab": {
          "base_uri": "https://localhost:8080/"
        }
      },
      "execution_count": 2,
      "outputs": [
        {
          "output_type": "execute_result",
          "data": {
            "text/plain": [
              "<torch._C.Generator at 0x7f4571054c50>"
            ]
          },
          "metadata": {},
          "execution_count": 2
        }
      ]
    },
    {
      "cell_type": "code",
      "source": [
        "train_dataset = datasets.MNIST(root='./data', train=True, download=True)\n",
        "test_dataset = datasets.MNIST(root='./data', train=False, download=True)"
      ],
      "metadata": {
        "id": "J4hR3DQgO3vC",
        "outputId": "c9d99d0e-af32-4452-e142-de862b2a2782",
        "colab": {
          "base_uri": "https://localhost:8080/"
        }
      },
      "execution_count": 3,
      "outputs": [
        {
          "output_type": "stream",
          "name": "stdout",
          "text": [
            "Downloading http://yann.lecun.com/exdb/mnist/train-images-idx3-ubyte.gz\n",
            "Downloading http://yann.lecun.com/exdb/mnist/train-images-idx3-ubyte.gz to ./data/MNIST/raw/train-images-idx3-ubyte.gz\n"
          ]
        },
        {
          "output_type": "stream",
          "name": "stderr",
          "text": [
            "100%|██████████| 9912422/9912422 [00:00<00:00, 73106707.14it/s]\n"
          ]
        },
        {
          "output_type": "stream",
          "name": "stdout",
          "text": [
            "Extracting ./data/MNIST/raw/train-images-idx3-ubyte.gz to ./data/MNIST/raw\n",
            "\n",
            "Downloading http://yann.lecun.com/exdb/mnist/train-labels-idx1-ubyte.gz\n",
            "Downloading http://yann.lecun.com/exdb/mnist/train-labels-idx1-ubyte.gz to ./data/MNIST/raw/train-labels-idx1-ubyte.gz\n"
          ]
        },
        {
          "output_type": "stream",
          "name": "stderr",
          "text": [
            "100%|██████████| 28881/28881 [00:00<00:00, 37352973.74it/s]\n"
          ]
        },
        {
          "output_type": "stream",
          "name": "stdout",
          "text": [
            "Extracting ./data/MNIST/raw/train-labels-idx1-ubyte.gz to ./data/MNIST/raw\n",
            "\n",
            "Downloading http://yann.lecun.com/exdb/mnist/t10k-images-idx3-ubyte.gz\n",
            "Downloading http://yann.lecun.com/exdb/mnist/t10k-images-idx3-ubyte.gz to ./data/MNIST/raw/t10k-images-idx3-ubyte.gz\n"
          ]
        },
        {
          "output_type": "stream",
          "name": "stderr",
          "text": [
            "100%|██████████| 1648877/1648877 [00:00<00:00, 25746770.05it/s]\n"
          ]
        },
        {
          "output_type": "stream",
          "name": "stdout",
          "text": [
            "Extracting ./data/MNIST/raw/t10k-images-idx3-ubyte.gz to ./data/MNIST/raw\n",
            "\n",
            "Downloading http://yann.lecun.com/exdb/mnist/t10k-labels-idx1-ubyte.gz\n",
            "Downloading http://yann.lecun.com/exdb/mnist/t10k-labels-idx1-ubyte.gz to ./data/MNIST/raw/t10k-labels-idx1-ubyte.gz\n"
          ]
        },
        {
          "output_type": "stream",
          "name": "stderr",
          "text": [
            "100%|██████████| 4542/4542 [00:00<00:00, 13093146.92it/s]\n"
          ]
        },
        {
          "output_type": "stream",
          "name": "stdout",
          "text": [
            "Extracting ./data/MNIST/raw/t10k-labels-idx1-ubyte.gz to ./data/MNIST/raw\n",
            "\n"
          ]
        }
      ]
    },
    {
      "cell_type": "code",
      "source": [
        "train_dataset"
      ],
      "metadata": {
        "id": "JMqtEH0FO3xi",
        "outputId": "44f33dac-d472-4b91-9e6a-ffc1f793ed28",
        "colab": {
          "base_uri": "https://localhost:8080/"
        }
      },
      "execution_count": 4,
      "outputs": [
        {
          "output_type": "execute_result",
          "data": {
            "text/plain": [
              "Dataset MNIST\n",
              "    Number of datapoints: 60000\n",
              "    Root location: ./data\n",
              "    Split: Train"
            ]
          },
          "metadata": {},
          "execution_count": 4
        }
      ]
    },
    {
      "cell_type": "code",
      "source": [
        "train_dataset[0]"
      ],
      "metadata": {
        "id": "TJ2memw0PUsN",
        "outputId": "0a187c44-83f2-4b78-d006-0546d92dff00",
        "colab": {
          "base_uri": "https://localhost:8080/"
        }
      },
      "execution_count": 5,
      "outputs": [
        {
          "output_type": "execute_result",
          "data": {
            "text/plain": [
              "(<PIL.Image.Image image mode=L size=28x28 at 0x7F459370EE60>, 5)"
            ]
          },
          "metadata": {},
          "execution_count": 5
        }
      ]
    },
    {
      "cell_type": "code",
      "source": [
        "train_dataset[0][0].show()"
      ],
      "metadata": {
        "id": "bOgihSAFPbT4",
        "outputId": "01d46aa4-bc9a-4a21-99d0-447ef32f2043",
        "colab": {
          "base_uri": "https://localhost:8080/",
          "height": 45
        }
      },
      "execution_count": 6,
      "outputs": [
        {
          "output_type": "display_data",
          "data": {
            "text/plain": [
              "<PIL.Image.Image image mode=L size=28x28 at 0x7F44D12522F0>"
            ],
            "image/png": "[encoded data removed]"
          },
          "metadata": {}
        }
      ]
    },
    {
      "cell_type": "code",
      "source": [
        "sample_array = np.array(train_dataset[0][0])\n",
        "print(\"Sample shape:\", sample_array.shape)\n",
        "print(\"Sample min value:\", sample_array.min())\n",
        "print(\"Sample max value:\", sample_array.max())"
      ],
      "metadata": {
        "id": "YCVKE7ABQQxw",
        "outputId": "99486bd4-797d-4541-e622-885d38075202",
        "colab": {
          "base_uri": "https://localhost:8080/"
        }
      },
      "execution_count": 7,
      "outputs": [
        {
          "output_type": "stream",
          "name": "stdout",
          "text": [
            "Sample shape: (28, 28)\n",
            "Sample min value: 0\n",
            "Sample max value: 255\n"
          ]
        }
      ]
    },
    {
      "cell_type": "code",
      "source": [
        "test_dataset"
      ],
      "metadata": {
        "id": "avxdZ7MfO31K",
        "outputId": "f7b0fd72-9f54-4151-8c94-4173e2686a43",
        "colab": {
          "base_uri": "https://localhost:8080/"
        }
      },
      "execution_count": 8,
      "outputs": [
        {
          "output_type": "execute_result",
          "data": {
            "text/plain": [
              "Dataset MNIST\n",
              "    Number of datapoints: 10000\n",
              "    Root location: ./data\n",
              "    Split: Test"
            ]
          },
          "metadata": {},
          "execution_count": 8
        }
      ]
    },
    {
      "cell_type": "code",
      "source": [
        "test_dataset[0]"
      ],
      "metadata": {
        "id": "EYHSIsUnPmxW",
        "outputId": "1bafa5ae-de53-401f-ddd0-51a7de3eb3e0",
        "colab": {
          "base_uri": "https://localhost:8080/"
        }
      },
      "execution_count": 9,
      "outputs": [
        {
          "output_type": "execute_result",
          "data": {
            "text/plain": [
              "(<PIL.Image.Image image mode=L size=28x28 at 0x7F44D1251EA0>, 7)"
            ]
          },
          "metadata": {},
          "execution_count": 9
        }
      ]
    },
    {
      "cell_type": "code",
      "source": [
        "test_dataset[0][0].show()"
      ],
      "metadata": {
        "id": "Los9fm0fPotz",
        "outputId": "51facccf-bdae-4a60-a6ec-f3e40738f538",
        "colab": {
          "base_uri": "https://localhost:8080/",
          "height": 45
        }
      },
      "execution_count": 10,
      "outputs": [
        {
          "output_type": "display_data",
          "data": {
            "text/plain": [
              "<PIL.Image.Image image mode=L size=28x28 at 0x7F44D1253E50>"
            ],
            "image/png": "[encoded data removed]"
          },
          "metadata": {}
        }
      ]
    },
    {
      "cell_type": "markdown",
      "source": [
        "# 2. Pre-process the data."
      ],
      "metadata": {
        "id": "pwN15HgCOqHX"
      }
    },
    {
      "cell_type": "code",
      "source": [
        "transform = transforms.Compose([\n",
        "    transforms.ToTensor(),\n",
        "])\n",
        "train_dataset = datasets.MNIST(root='./data', train=True, download=True, transform=transform)\n",
        "test_dataset = datasets.MNIST(root='./data', train=False, download=True, transform=transform)\n",
        "# Split the test set into validation and test sets\n",
        "valid_dataset, test_dataset = torch.utils.data.random_split(test_dataset, [5000, 5000])\n",
        "train_loader = DataLoader(train_dataset, batch_size=64, shuffle=True)#Shuffle significa que entre epochs va barajando los datos para no pasarselos en el mismo orden y aprenda de ello. \n",
        "valid_loader = DataLoader(valid_dataset, batch_size=64, shuffle=False)\n",
        "test_loader = DataLoader(test_dataset, batch_size=64, shuffle=False)"
      ],
      "metadata": {
        "id": "lv3_v7TiTeos"
      },
      "execution_count": 11,
      "outputs": []
    },
    {
      "cell_type": "code",
      "source": [
        "images, labels = next(iter(train_loader)) #Lo convertimos en un iterable de Python\n",
        "print(\"Sample shape:\", images.shape) #Sale el 1 porque es que es en blanco y negro. \n",
        "print(\"Sample min value:\", images.min())\n",
        "print(\"Sample max value:\", images.max())"
      ],
      "metadata": {
        "id": "Gy4zlU_OVcvF",
        "outputId": "3c7b0489-e928-4694-d51e-a41bba3e1031",
        "colab": {
          "base_uri": "https://localhost:8080/"
        }
      },
      "execution_count": 12,
      "outputs": [
        {
          "output_type": "stream",
          "name": "stdout",
          "text": [
            "Sample shape: torch.Size([64, 1, 28, 28])\n",
            "Sample min value: tensor(0.)\n",
            "Sample max value: tensor(1.)\n"
          ]
        }
      ]
    },
    {
      "cell_type": "code",
      "source": [
        "# Import dependence for visualization of images\n",
        "plt.rcParams['figure.figsize'] = (10,10)  # Configure figure size for \n",
        "                                          # appropriate visualization"
      ],
      "metadata": {
        "id": "1ue573nPU73F"
      },
      "execution_count": 13,
      "outputs": []
    },
    {
      "cell_type": "code",
      "source": [
        "# Plot the images in a 3x3 grid\n",
        "nrows = 3\n",
        "ncols = 3\n",
        "nsamples = nrows*ncols\n",
        "for i in range(nsamples):\n",
        "    plt.subplot(3,3,i+1)\n",
        "    plt.imshow(images[i, 0, :, :], cmap='gray', interpolation='none')\n",
        "    plt.title(\"Class {}\".format(labels[i]))"
      ],
      "metadata": {
        "id": "38GGWDGYTjLv",
        "outputId": "d4120d03-2595-4a94-fc6d-227ca7fe7418",
        "colab": {
          "base_uri": "https://localhost:8080/",
          "height": 853
        }
      },
      "execution_count": 14,
      "outputs": [
        {
          "output_type": "display_data",
          "data": {
            "text/plain": [
              "<Figure size 1000x1000 with 9 Axes>"
            ],
            "image/png": "[encoded data removed]"
          },
          "metadata": {}
        }
      ]
    },
    {
      "cell_type": "markdown",
      "source": [
        "# 3. Design the network."
      ],
      "metadata": {
        "id": "ELzY49vBOqKM"
      }
    },
    {
      "cell_type": "code",
      "source": [
        "# Define model\n",
        "\n",
        "#En pytorch nuestra red neuronal va a ser una clase. \n",
        "\n",
        "class Net(nn.Module):\n",
        "    def __init__(self):  # Declaramos las capas que va a tener la red\n",
        "        super(Net, self).__init__()  # Esto siempre igual\n",
        "        self.fc1 = nn.Linear(784, 32) # Linear es una capa que esta totalmente conectada. A cada capa le decimos cuantas variables va atener a la salida y cuantas neuronas va a tener en la capa oculta\n",
        "        self.fc2 = nn.Linear(32, 10)  #Aqui la capa de entrada es 32 porque la capa de salida de la neurona anterior era 32. Tiene 10 neuronas de salida porque tenemos 10 capas. \n",
        "\n",
        "    def forward(self, x): #Aqui vamos a definir como unas capas se conectan con otras\n",
        "        x = x.view(-1, 784) #Hace un reshape a la capa de entrada. -1 es la dimension del batch. se queda tal cual. La segunda dimension en 784 porque es el size de los pixeles en fila\n",
        "        x = torch.relu(self.fc1(x)) #Aplica relu en la primera capa\n",
        "        x = torch.softmax(self.fc2(x), dim=1) #Aplica softmax en la segunda\n",
        "        return x\n",
        "\n",
        "model = Net()"
      ],
      "metadata": {
        "id": "n469-4MfWrWC"
      },
      "execution_count": 15,
      "outputs": []
    },
    {
      "cell_type": "code",
      "source": [
        "summary(model, (1, 28, 28))"
      ],
      "metadata": {
        "id": "3m2SwbvKYPiO",
        "outputId": "84c18e8d-29fb-4731-83bd-14f1ba042c9d",
        "colab": {
          "base_uri": "https://localhost:8080/"
        }
      },
      "execution_count": 17,
      "outputs": [
        {
          "output_type": "stream",
          "name": "stdout",
          "text": [
            "----------------------------------------------------------------\n",
            "        Layer (type)               Output Shape         Param #\n",
            "================================================================\n",
            "            Linear-1                   [-1, 32]          25,120\n",
            "            Linear-2                   [-1, 10]             330\n",
            "================================================================\n",
            "Total params: 25,450\n",
            "Trainable params: 25,450\n",
            "Non-trainable params: 0\n",
            "----------------------------------------------------------------\n",
            "Input size (MB): 0.00\n",
            "Forward/backward pass size (MB): 0.00\n",
            "Params size (MB): 0.10\n",
            "Estimated Total Size (MB): 0.10\n",
            "----------------------------------------------------------------\n"
          ]
        }
      ]
    },
    {
      "cell_type": "code",
      "source": [
        "# Define loss function and optimizer\n",
        "criterion = nn.CrossEntropyLoss()\n",
        "optimizer = torch.optim.Adam(model.parameters(), lr=0.001)"
      ],
      "metadata": {
        "id": "ZYbemSz8XIF2"
      },
      "execution_count": 18,
      "outputs": []
    },
    {
      "cell_type": "markdown",
      "source": [
        "# 4. Train the network."
      ],
      "metadata": {
        "id": "68YkMwOaOqNc"
      }
    },
    {
      "cell_type": "code",
      "source": [
        "def get_accuracy(y_pred, y_true):\n",
        "    \"\"\"Calculate the accuracy between predicted and true labels\"\"\"\n",
        "    _, y_pred = torch.max(y_pred, dim=1)\n",
        "    correct = torch.sum(y_pred == y_true).float()\n",
        "    acc = correct / len(y_true)\n",
        "    return acc"
      ],
      "metadata": {
        "id": "JJLCMQHjjaz9"
      },
      "execution_count": 19,
      "outputs": []
    },
    {
      "cell_type": "code",
      "source": [
        "# Train the model\n",
        "device = torch.device(\"cuda\" if torch.cuda.is_available() else \"cpu\") # Le indicamos el dispositivo. Cuda es el software funciona sobre las GPU de Nvidia. \n",
        "model.to(device)\n",
        "\n",
        "train_loss_history = []\n",
        "valid_loss_history = []\n",
        "train_accuracy_history = []\n",
        "valid_accuracy_history = []\n",
        "\n",
        "num_epochs = 10\n",
        "\n",
        "for epoch in range(num_epochs):\n",
        "    for i, (images, labels) in enumerate(train_loader): #En batches de 64 me va pasando todo el train_loader\n",
        "\n",
        "        # Clear gradients\n",
        "        optimizer.zero_grad() \n",
        "\n",
        "        # Move images and labels to device\n",
        "        # Pasamos imagenes y etiquetas a la GPU. \n",
        "        images = images.to(device)\n",
        "        labels = labels.to(device)\n",
        "\n",
        "        # Forward pass\n",
        "        # Generamos las predicciones de entrenamiento de las imagenes para cada batch de 64\n",
        "        outputs = model(images)\n",
        "\n",
        "        # Compute loss\n",
        "        # Ahora vemos como lo ha hecho el modelo y vemos el loss. \n",
        "        loss = criterion(outputs, labels)\n",
        "\n",
        "        # Backward pass\n",
        "        # Calculamos los gradientes para cada uno de los pesos\n",
        "        loss.backward()\n",
        "\n",
        "        # Update weights en consecuencia de los gradientes\n",
        "        optimizer.step()\n",
        "\n",
        "    # Calculate accuracy\n",
        "    train_loss = 0\n",
        "    valid_loss = 0\n",
        "    train_accuracy = 0\n",
        "    valid_accuracy = 0\n",
        "\n",
        "# A partir de aqui a la red neuronal no le pasa nada. Esto es informacion para nosotros. La red aprende con lo de arriba\n",
        "\n",
        "    # Turn off gradients for validation to speed up inference\n",
        "    with torch.no_grad(): \n",
        "        for images, labels in train_loader: # Hacemos un bucle para los datos de training y otro para los de validacion\n",
        "\n",
        "            # Move images and labels to device\n",
        "            images, labels = images.to(device), labels.to(device)\n",
        "            \n",
        "            # Forward pass\n",
        "            output = model(images)\n",
        "\n",
        "            # Calculate loss\n",
        "            train_loss += criterion(output, labels)\n",
        "\n",
        "            # Calculate accuracy\n",
        "            train_accuracy += get_accuracy(output, labels)\n",
        "        \n",
        "        train_loss_history.append(train_loss.cpu().numpy() / len(train_loader)) # Vamos haciendo un append a la lista que hemos creado arriba\n",
        "        train_accuracy_history.append(train_accuracy.cpu().numpy() / len(train_loader))\n",
        "\n",
        "        for images, labels in valid_loader: #Aquí el bucle para validación\n",
        "\n",
        "            # Move images and labels to device\n",
        "            images, labels = images.to(device), labels.to(device)\n",
        "            \n",
        "            # Forward pass\n",
        "            output = model(images)\n",
        "\n",
        "            # Calculate loss\n",
        "            valid_loss += criterion(output, labels)\n",
        "\n",
        "            # Calculate accuracy\n",
        "            valid_accuracy += get_accuracy(output, labels)\n",
        "        \n",
        "        valid_loss_history.append(valid_loss.cpu().numpy() / len(valid_loader))\n",
        "        valid_accuracy_history.append(valid_accuracy.cpu().numpy() / len(valid_loader))\n",
        "\n",
        "        print(f\"Epoch {epoch+1}/{num_epochs} | \"\n",
        "              f\"Train loss: {train_loss/len(train_loader):.3f} | \"\n",
        "              f\"Train accuracy: {train_accuracy/len(train_loader):.3f} | \"\n",
        "              f\"Valid loss: {valid_loss/len(valid_loader):.3f} | \"\n",
        "              f\"Valid accuracy: {valid_accuracy/len(valid_loader):.3f}\")"
      ],
      "metadata": {
        "id": "TE_6nPVfXYA1",
        "outputId": "69cd8ad6-7423-4462-b57b-eb1ec2e938e9",
        "colab": {
          "base_uri": "https://localhost:8080/"
        }
      },
      "execution_count": 20,
      "outputs": [
        {
          "output_type": "stream",
          "name": "stdout",
          "text": [
            "Epoch 1/10 | Train loss: 1.559 | Train accuracy: 0.918 | Valid loss: 1.552 | Valid accuracy: 0.922\n",
            "Epoch 2/10 | Train loss: 1.543 | Train accuracy: 0.928 | Valid loss: 1.536 | Valid accuracy: 0.934\n",
            "Epoch 3/10 | Train loss: 1.534 | Train accuracy: 0.935 | Valid loss: 1.528 | Valid accuracy: 0.941\n",
            "Epoch 4/10 | Train loss: 1.527 | Train accuracy: 0.942 | Valid loss: 1.524 | Valid accuracy: 0.944\n",
            "Epoch 5/10 | Train loss: 1.521 | Train accuracy: 0.946 | Valid loss: 1.520 | Valid accuracy: 0.946\n",
            "Epoch 6/10 | Train loss: 1.517 | Train accuracy: 0.949 | Valid loss: 1.517 | Valid accuracy: 0.950\n",
            "Epoch 7/10 | Train loss: 1.514 | Train accuracy: 0.953 | Valid loss: 1.514 | Valid accuracy: 0.950\n",
            "Epoch 8/10 | Train loss: 1.512 | Train accuracy: 0.953 | Valid loss: 1.514 | Valid accuracy: 0.951\n",
            "Epoch 9/10 | Train loss: 1.508 | Train accuracy: 0.957 | Valid loss: 1.513 | Valid accuracy: 0.951\n",
            "Epoch 10/10 | Train loss: 1.505 | Train accuracy: 0.959 | Valid loss: 1.510 | Valid accuracy: 0.955\n"
          ]
        }
      ]
    },
    {
      "cell_type": "code",
      "source": [
        "# Plot training and validation accuracy\n",
        "plt.plot(train_accuracy_history)\n",
        "plt.plot(valid_accuracy_history)\n",
        "plt.title('Model accuracy')\n",
        "plt.ylabel('Accuracy')\n",
        "plt.xlabel('Epoch')\n",
        "plt.legend(['Train', 'Val'], loc='upper left')\n",
        "plt.show()"
      ],
      "metadata": {
        "id": "zUkSdhbrSfjr",
        "outputId": "d560fad5-c3eb-4982-b1d4-41432bf16bff",
        "colab": {
          "base_uri": "https://localhost:8080/",
          "height": 872
        }
      },
      "execution_count": 21,
      "outputs": [
        {
          "output_type": "display_data",
          "data": {
            "text/plain": [
              "<Figure size 1000x1000 with 1 Axes>"
            ],
            "image/png": "[encoded data removed]"
          },
          "metadata": {}
        }
      ]
    },
    {
      "cell_type": "code",
      "source": [
        "# Plot training and validation accuracy\n",
        "plt.plot(train_loss_history)\n",
        "plt.plot(valid_loss_history)\n",
        "plt.title('Model loss')\n",
        "plt.ylabel('Loss')\n",
        "plt.xlabel('Epoch')\n",
        "plt.legend(['Train', 'Val'], loc='upper left')\n",
        "plt.show()"
      ],
      "metadata": {
        "id": "SOuwjFRPTJR3",
        "outputId": "7b8c8576-d295-4b98-afb8-3497e5ba571a",
        "colab": {
          "base_uri": "https://localhost:8080/",
          "height": 872
        }
      },
      "execution_count": 22,
      "outputs": [
        {
          "output_type": "display_data",
          "data": {
            "text/plain": [
              "<Figure size 1000x1000 with 1 Axes>"
            ],
            "image/png": "[encoded data removed]"
          },
          "metadata": {}
        }
      ]
    },
    {
      "cell_type": "markdown",
      "source": [
        "# 5. Evaluate the model."
      ],
      "metadata": {
        "id": "Ohk85u8QOqYh"
      }
    },
    {
      "cell_type": "code",
      "source": [
        "# Calculate metrics in the test partition\n",
        "test_loss = 0\n",
        "test_accuracy = 0\n",
        "for images, labels in test_loader:\n",
        "\n",
        "    # Move images and labels to device\n",
        "    images, labels = images.to(device), labels.to(device)\n",
        "    \n",
        "    # Forward pass\n",
        "    output = model(images)\n",
        "\n",
        "    # Calculate loss\n",
        "    test_loss += criterion(output, labels)\n",
        "\n",
        "    # Calculate accuracy\n",
        "    test_accuracy += get_accuracy(output, labels)\n",
        "print(\"Test loss:\", test_loss / len(test_loader))\n",
        "print(\"Test accuracy:\", test_accuracy / len(test_loader))"
      ],
      "metadata": {
        "id": "OafHOLxsSeeB",
        "outputId": "58d113b1-46c3-4521-c6d1-7daa03f015bc",
        "colab": {
          "base_uri": "https://localhost:8080/"
        }
      },
      "execution_count": 23,
      "outputs": [
        {
          "output_type": "stream",
          "name": "stdout",
          "text": [
            "Test loss: tensor(1.5199, grad_fn=<DivBackward0>)\n",
            "Test accuracy: tensor(0.9422)\n"
          ]
        }
      ]
    },
    {
      "cell_type": "markdown",
      "metadata": {
        "id": "XFikgbMtE7vv"
      },
      "source": [
        "# Exercise 1: Create a new model with 512 neurons in the hidden layer and repeat the process"
      ]
    },
    {
      "cell_type": "code",
      "metadata": {
        "id": "AHsnnITjE7Bi"
      },
      "source": [
        "# Design the model\n",
        "\n",
        "class Net(nn.Module):\n",
        "    def __init__(self):  # Declaramos las capas que va a tener la red\n",
        "        super(Net, self).__init__()  # Esto siempre igual\n",
        "        self.fc1 = nn.Linear(784, 512) # Linear es una capa que esta totalmente conectada. A cada capa le decimos cuantas variables va atener a la salida y cuantas neuronas va a tener en la capa oculta\n",
        "        self.fc2 = nn.Linear(512, 10)  #Aqui la capa de entrada es 32 porque la capa de salida de la neurona anterior era 32. Tiene 10 neuronas de salida porque tenemos 10 capas. \n",
        "\n",
        "    def forward(self, x): #Aqui vamos a definir como unas capas se conectan con otras\n",
        "        x = x.view(-1, 784) #Hace un reshape a la capa de entrada. -1 es la dimension del batch. se queda tal cual. La segunda dimension en 784 porque es el size de los pixeles en fila\n",
        "        x = torch.relu(self.fc1(x)) #Aplica relu en la primera capa\n",
        "        x = torch.softmax(self.fc2(x), dim=1) #Aplica softmax en la segunda\n",
        "        return x\n",
        "\n",
        "model = Net()"
      ],
      "execution_count": 24,
      "outputs": []
    },
    {
      "cell_type": "code",
      "metadata": {
        "id": "Ecq4qZiRG1r2",
        "outputId": "831202c0-77e2-487b-e9a2-94ceeb229f7b",
        "colab": {
          "base_uri": "https://localhost:8080/"
        }
      },
      "source": [
        "# Show summary of the model\n",
        "summary(model, (1, 28, 28))"
      ],
      "execution_count": 25,
      "outputs": [
        {
          "output_type": "stream",
          "name": "stdout",
          "text": [
            "----------------------------------------------------------------\n",
            "        Layer (type)               Output Shape         Param #\n",
            "================================================================\n",
            "            Linear-1                  [-1, 512]         401,920\n",
            "            Linear-2                   [-1, 10]           5,130\n",
            "================================================================\n",
            "Total params: 407,050\n",
            "Trainable params: 407,050\n",
            "Non-trainable params: 0\n",
            "----------------------------------------------------------------\n",
            "Input size (MB): 0.00\n",
            "Forward/backward pass size (MB): 0.00\n",
            "Params size (MB): 1.55\n",
            "Estimated Total Size (MB): 1.56\n",
            "----------------------------------------------------------------\n"
          ]
        }
      ]
    },
    {
      "cell_type": "code",
      "source": [
        "# Define loss function and optimizer\n",
        "criterion = nn.CrossEntropyLoss()\n",
        "optimizer = torch.optim.Adam(model.parameters(), lr=0.001)"
      ],
      "metadata": {
        "id": "JmE-8AtDZdA4"
      },
      "execution_count": 26,
      "outputs": []
    },
    {
      "cell_type": "code",
      "metadata": {
        "id": "PoEN_hmFGa01",
        "outputId": "243f9369-b7ba-4374-c4e2-79235fd16f2d",
        "colab": {
          "base_uri": "https://localhost:8080/"
        }
      },
      "source": [
        "# Train the model\n",
        "# Train the model\n",
        "device = torch.device(\"cuda\" if torch.cuda.is_available() else \"cpu\") # Le indicamos el dispositivo. Cuda es el software funciona sobre las GPU de Nvidia. \n",
        "model.to(device)\n",
        "\n",
        "train_loss_history = []\n",
        "valid_loss_history = []\n",
        "train_accuracy_history = []\n",
        "valid_accuracy_history = []\n",
        "\n",
        "num_epochs = 10\n",
        "\n",
        "for epoch in range(num_epochs):\n",
        "    for i, (images, labels) in enumerate(train_loader): #En batches de 64 me va pasando todo el train_loader\n",
        "\n",
        "        # Clear gradients\n",
        "        optimizer.zero_grad() \n",
        "\n",
        "        # Move images and labels to device\n",
        "        # Pasamos imagenes y etiquetas a la GPU. \n",
        "        images = images.to(device)\n",
        "        labels = labels.to(device)\n",
        "\n",
        "        # Forward pass\n",
        "        # Generamos las predicciones de entrenamiento de las imagenes para cada batch de 64\n",
        "        outputs = model(images)\n",
        "\n",
        "        # Compute loss\n",
        "        # Ahora vemos como lo ha hecho el modelo y vemos el loss. \n",
        "        loss = criterion(outputs, labels)\n",
        "\n",
        "        # Backward pass\n",
        "        # Calculamos los gradientes para cada uno de los pesos\n",
        "        loss.backward()\n",
        "\n",
        "        # Update weights en consecuencia de los gradientes\n",
        "        optimizer.step()\n",
        "\n",
        "    # Calculate accuracy\n",
        "    train_loss = 0\n",
        "    valid_loss = 0\n",
        "    train_accuracy = 0\n",
        "    valid_accuracy = 0\n",
        "\n",
        "# A partir de aqui a la red neuronal no le pasa nada. Esto es informacion para nosotros. La red aprende con lo de arriba\n",
        "\n",
        "    # Turn off gradients for validation to speed up inference\n",
        "    with torch.no_grad(): \n",
        "        for images, labels in train_loader: # Hacemos un bucle para los datos de training y otro para los de validacion\n",
        "\n",
        "            # Move images and labels to device\n",
        "            images, labels = images.to(device), labels.to(device)\n",
        "            \n",
        "            # Forward pass\n",
        "            output = model(images)\n",
        "\n",
        "            # Calculate loss\n",
        "            train_loss += criterion(output, labels)\n",
        "\n",
        "            # Calculate accuracy\n",
        "            train_accuracy += get_accuracy(output, labels)\n",
        "        \n",
        "        train_loss_history.append(train_loss.cpu().numpy() / len(train_loader)) # Vamos haciendo un append a la lista que hemos creado arriba\n",
        "        train_accuracy_history.append(train_accuracy.cpu().numpy() / len(train_loader))\n",
        "\n",
        "        for images, labels in valid_loader: #Aquí el bucle para validación\n",
        "\n",
        "            # Move images and labels to device\n",
        "            images, labels = images.to(device), labels.to(device)\n",
        "            \n",
        "            # Forward pass\n",
        "            output = model(images)\n",
        "\n",
        "            # Calculate loss\n",
        "            valid_loss += criterion(output, labels)\n",
        "\n",
        "            # Calculate accuracy\n",
        "            valid_accuracy += get_accuracy(output, labels)\n",
        "        \n",
        "        valid_loss_history.append(valid_loss.cpu().numpy() / len(valid_loader))\n",
        "        valid_accuracy_history.append(valid_accuracy.cpu().numpy() / len(valid_loader))\n",
        "\n",
        "        print(f\"Epoch {epoch+1}/{num_epochs} | \"\n",
        "              f\"Train loss: {train_loss/len(train_loader):.3f} | \"\n",
        "              f\"Train accuracy: {train_accuracy/len(train_loader):.3f} | \"\n",
        "              f\"Valid loss: {valid_loss/len(valid_loader):.3f} | \"\n",
        "              f\"Valid accuracy: {valid_accuracy/len(valid_loader):.3f}\")"
      ],
      "execution_count": 27,
      "outputs": [
        {
          "output_type": "stream",
          "name": "stdout",
          "text": [
            "Epoch 1/10 | Train loss: 1.523 | Train accuracy: 0.945 | Valid loss: 1.521 | Valid accuracy: 0.946\n",
            "Epoch 2/10 | Train loss: 1.504 | Train accuracy: 0.962 | Valid loss: 1.502 | Valid accuracy: 0.962\n",
            "Epoch 3/10 | Train loss: 1.492 | Train accuracy: 0.973 | Valid loss: 1.494 | Valid accuracy: 0.970\n",
            "Epoch 4/10 | Train loss: 1.488 | Train accuracy: 0.976 | Valid loss: 1.491 | Valid accuracy: 0.971\n",
            "Epoch 5/10 | Train loss: 1.482 | Train accuracy: 0.982 | Valid loss: 1.487 | Valid accuracy: 0.977\n",
            "Epoch 6/10 | Train loss: 1.480 | Train accuracy: 0.984 | Valid loss: 1.488 | Valid accuracy: 0.975\n",
            "Epoch 7/10 | Train loss: 1.476 | Train accuracy: 0.987 | Valid loss: 1.483 | Valid accuracy: 0.979\n",
            "Epoch 8/10 | Train loss: 1.473 | Train accuracy: 0.989 | Valid loss: 1.482 | Valid accuracy: 0.980\n",
            "Epoch 9/10 | Train loss: 1.479 | Train accuracy: 0.984 | Valid loss: 1.490 | Valid accuracy: 0.973\n",
            "Epoch 10/10 | Train loss: 1.472 | Train accuracy: 0.990 | Valid loss: 1.481 | Valid accuracy: 0.981\n"
          ]
        }
      ]
    },
    {
      "cell_type": "code",
      "metadata": {
        "id": "7be6fqJwIXIJ",
        "outputId": "28d4fce1-7130-4195-fcdf-2cebd85fe6c8",
        "colab": {
          "base_uri": "https://localhost:8080/"
        }
      },
      "source": [
        "# Obtain metrics in the test partition\n",
        "test_loss = 0\n",
        "test_accuracy = 0\n",
        "for images, labels in test_loader:\n",
        "\n",
        "    # Move images and labels to device\n",
        "    images, labels = images.to(device), labels.to(device)\n",
        "    \n",
        "    # Forward pass\n",
        "    output = model(images)\n",
        "\n",
        "    # Calculate loss\n",
        "    test_loss += criterion(output, labels)\n",
        "\n",
        "    # Calculate accuracy\n",
        "    test_accuracy += get_accuracy(output, labels)\n",
        "print(\"Test loss:\", test_loss / len(test_loader))\n",
        "print(\"Test accuracy:\", test_accuracy / len(test_loader))"
      ],
      "execution_count": 28,
      "outputs": [
        {
          "output_type": "stream",
          "name": "stdout",
          "text": [
            "Test loss: tensor(1.4863, grad_fn=<DivBackward0>)\n",
            "Test accuracy: tensor(0.9753)\n"
          ]
        }
      ]
    },
    {
      "cell_type": "markdown",
      "metadata": {
        "id": "BqlE4Fn6Fi1G"
      },
      "source": [
        "# Exercise 2: Add a hidden layer with 512 neurons to the model of exercise 1 and repeat the process"
      ]
    },
    {
      "cell_type": "code",
      "metadata": {
        "id": "GmP3tEOOZ_Hh"
      },
      "source": [
        "# Design the model\n",
        "\n",
        "class Net(nn.Module):\n",
        "    def __init__(self):  # Declaramos las capas que va a tener la red\n",
        "        super(Net, self).__init__()  # Esto siempre igual\n",
        "        self.fc1 = nn.Linear(784, 512) # Linear es una capa que esta totalmente conectada. A cada capa le decimos cuantas variables va atener a la salida y cuantas neuronas va a tener en la capa oculta\n",
        "        self.fc2 = nn.Linear(512, 512)\n",
        "        self.fc3 = nn.Linear(512, 10)  #Aqui la capa de entrada es 32 porque la capa de salida de la neurona anterior era 32. Tiene 10 neuronas de salida porque tenemos 10 capas. \n",
        "\n",
        "    def forward(self, x): #Aqui vamos a definir como unas capas se conectan con otras\n",
        "        x = x.view(-1, 784) #Hace un reshape a la capa de entrada. -1 es la dimension del batch. se queda tal cual. La segunda dimension en 784 porque es el size de los pixeles en fila\n",
        "        x = torch.relu(self.fc1(x)) #Aplica relu en la primera capa\n",
        "        x = torch.relu(self.fc2(x))\n",
        "        x = torch.softmax(self.fc3(x), dim=1) #Aplica softmax en la segunda\n",
        "        return x\n",
        "\n",
        "model = Net()"
      ],
      "execution_count": 29,
      "outputs": []
    },
    {
      "cell_type": "code",
      "metadata": {
        "id": "rARt_5FOZ_Hq",
        "outputId": "e70a66a1-5270-4973-e371-be53533972ec",
        "colab": {
          "base_uri": "https://localhost:8080/"
        }
      },
      "source": [
        "# Show summary of the model\n",
        "summary(model, (1, 28, 28))"
      ],
      "execution_count": 30,
      "outputs": [
        {
          "output_type": "stream",
          "name": "stdout",
          "text": [
            "----------------------------------------------------------------\n",
            "        Layer (type)               Output Shape         Param #\n",
            "================================================================\n",
            "            Linear-1                  [-1, 512]         401,920\n",
            "            Linear-2                  [-1, 512]         262,656\n",
            "            Linear-3                   [-1, 10]           5,130\n",
            "================================================================\n",
            "Total params: 669,706\n",
            "Trainable params: 669,706\n",
            "Non-trainable params: 0\n",
            "----------------------------------------------------------------\n",
            "Input size (MB): 0.00\n",
            "Forward/backward pass size (MB): 0.01\n",
            "Params size (MB): 2.55\n",
            "Estimated Total Size (MB): 2.57\n",
            "----------------------------------------------------------------\n"
          ]
        }
      ]
    },
    {
      "cell_type": "code",
      "source": [
        "# Define loss function and optimizer\n",
        "criterion = nn.CrossEntropyLoss()\n",
        "optimizer = torch.optim.Adam(model.parameters(), lr=0.001)"
      ],
      "metadata": {
        "id": "Pl4uwKNLZ_Hr"
      },
      "execution_count": 31,
      "outputs": []
    },
    {
      "cell_type": "code",
      "metadata": {
        "id": "gqU47hrwZ_Hr",
        "outputId": "2561adcd-e59b-45d1-d7ce-275e467a1d87",
        "colab": {
          "base_uri": "https://localhost:8080/"
        }
      },
      "source": [
        "# Train the model\n",
        "\n",
        "device = torch.device(\"cuda\" if torch.cuda.is_available() else \"cpu\") # Le indicamos el dispositivo. Cuda es el software funciona sobre las GPU de Nvidia. \n",
        "model.to(device)\n",
        "\n",
        "train_loss_history = []\n",
        "valid_loss_history = []\n",
        "train_accuracy_history = []\n",
        "valid_accuracy_history = []\n",
        "\n",
        "num_epochs = 10\n",
        "\n",
        "for epoch in range(num_epochs):\n",
        "    for i, (images, labels) in enumerate(train_loader): #En batches de 64 me va pasando todo el train_loader\n",
        "\n",
        "        # Clear gradients\n",
        "        optimizer.zero_grad() \n",
        "\n",
        "        # Move images and labels to device\n",
        "        # Pasamos imagenes y etiquetas a la GPU. \n",
        "        images = images.to(device)\n",
        "        labels = labels.to(device)\n",
        "\n",
        "        # Forward pass\n",
        "        # Generamos las predicciones de entrenamiento de las imagenes para cada batch de 64\n",
        "        outputs = model(images)\n",
        "\n",
        "        # Compute loss\n",
        "        # Ahora vemos como lo ha hecho el modelo y vemos el loss. \n",
        "        loss = criterion(outputs, labels)\n",
        "\n",
        "        # Backward pass\n",
        "        # Calculamos los gradientes para cada uno de los pesos\n",
        "        loss.backward()\n",
        "\n",
        "        # Update weights en consecuencia de los gradientes\n",
        "        optimizer.step()\n",
        "\n",
        "    # Calculate accuracy\n",
        "    train_loss = 0\n",
        "    valid_loss = 0\n",
        "    train_accuracy = 0\n",
        "    valid_accuracy = 0\n",
        "\n",
        "# A partir de aqui a la red neuronal no le pasa nada. Esto es informacion para nosotros. La red aprende con lo de arriba\n",
        "\n",
        "    # Turn off gradients for validation to speed up inference\n",
        "    with torch.no_grad(): \n",
        "        for images, labels in train_loader: # Hacemos un bucle para los datos de training y otro para los de validacion\n",
        "\n",
        "            # Move images and labels to device\n",
        "            images, labels = images.to(device), labels.to(device)\n",
        "            \n",
        "            # Forward pass\n",
        "            output = model(images)\n",
        "\n",
        "            # Calculate loss\n",
        "            train_loss += criterion(output, labels)\n",
        "\n",
        "            # Calculate accuracy\n",
        "            train_accuracy += get_accuracy(output, labels)\n",
        "        \n",
        "        train_loss_history.append(train_loss.cpu().numpy() / len(train_loader)) # Vamos haciendo un append a la lista que hemos creado arriba\n",
        "        train_accuracy_history.append(train_accuracy.cpu().numpy() / len(train_loader))\n",
        "\n",
        "        for images, labels in valid_loader: #Aquí el bucle para validación\n",
        "\n",
        "            # Move images and labels to device\n",
        "            images, labels = images.to(device), labels.to(device)\n",
        "            \n",
        "            # Forward pass\n",
        "            output = model(images)\n",
        "\n",
        "            # Calculate loss\n",
        "            valid_loss += criterion(output, labels)\n",
        "\n",
        "            # Calculate accuracy\n",
        "            valid_accuracy += get_accuracy(output, labels)\n",
        "        \n",
        "        valid_loss_history.append(valid_loss.cpu().numpy() / len(valid_loader))\n",
        "        valid_accuracy_history.append(valid_accuracy.cpu().numpy() / len(valid_loader))\n",
        "\n",
        "        print(f\"Epoch {epoch+1}/{num_epochs} | \"\n",
        "              f\"Train loss: {train_loss/len(train_loader):.3f} | \"\n",
        "              f\"Train accuracy: {train_accuracy/len(train_loader):.3f} | \"\n",
        "              f\"Valid loss: {valid_loss/len(valid_loader):.3f} | \"\n",
        "              f\"Valid accuracy: {valid_accuracy/len(valid_loader):.3f}\")"
      ],
      "execution_count": 32,
      "outputs": [
        {
          "output_type": "stream",
          "name": "stdout",
          "text": [
            "Epoch 1/10 | Train loss: 1.515 | Train accuracy: 0.948 | Valid loss: 1.510 | Valid accuracy: 0.953\n",
            "Epoch 2/10 | Train loss: 1.498 | Train accuracy: 0.964 | Valid loss: 1.498 | Valid accuracy: 0.963\n",
            "Epoch 3/10 | Train loss: 1.491 | Train accuracy: 0.970 | Valid loss: 1.495 | Valid accuracy: 0.966\n",
            "Epoch 4/10 | Train loss: 1.493 | Train accuracy: 0.969 | Valid loss: 1.494 | Valid accuracy: 0.968\n",
            "Epoch 5/10 | Train loss: 1.488 | Train accuracy: 0.973 | Valid loss: 1.491 | Valid accuracy: 0.969\n",
            "Epoch 6/10 | Train loss: 1.487 | Train accuracy: 0.974 | Valid loss: 1.491 | Valid accuracy: 0.971\n",
            "Epoch 7/10 | Train loss: 1.486 | Train accuracy: 0.975 | Valid loss: 1.490 | Valid accuracy: 0.971\n",
            "Epoch 8/10 | Train loss: 1.486 | Train accuracy: 0.975 | Valid loss: 1.488 | Valid accuracy: 0.974\n",
            "Epoch 9/10 | Train loss: 1.480 | Train accuracy: 0.982 | Valid loss: 1.486 | Valid accuracy: 0.975\n",
            "Epoch 10/10 | Train loss: 1.479 | Train accuracy: 0.982 | Valid loss: 1.483 | Valid accuracy: 0.978\n"
          ]
        }
      ]
    },
    {
      "cell_type": "code",
      "metadata": {
        "id": "ZGcrukkIZ_Hr",
        "outputId": "f1909eda-dc32-421d-c5ac-4c26608fd360",
        "colab": {
          "base_uri": "https://localhost:8080/"
        }
      },
      "source": [
        "# Obtain metrics in the test partition\n",
        "test_loss = 0\n",
        "test_accuracy = 0\n",
        "for images, labels in test_loader:\n",
        "\n",
        "    # Move images and labels to device\n",
        "    images, labels = images.to(device), labels.to(device)\n",
        "    \n",
        "    # Forward pass\n",
        "    output = model(images)\n",
        "\n",
        "    # Calculate loss\n",
        "    test_loss += criterion(output, labels)\n",
        "\n",
        "    # Calculate accuracy\n",
        "    test_accuracy += get_accuracy(output, labels)\n",
        "print(\"Test loss:\", test_loss / len(test_loader))\n",
        "print(\"Test accuracy:\", test_accuracy / len(test_loader))"
      ],
      "execution_count": 33,
      "outputs": [
        {
          "output_type": "stream",
          "name": "stdout",
          "text": [
            "Test loss: tensor(1.4899, grad_fn=<DivBackward0>)\n",
            "Test accuracy: tensor(0.9717)\n"
          ]
        }
      ]
    },
    {
      "cell_type": "markdown",
      "source": [
        "# Exercise 3: Add 20 epochs to the model of exercise 1 and repeat the process"
      ],
      "metadata": {
        "id": "5RWAVBJ4pzZR"
      }
    },
    {
      "cell_type": "code",
      "source": [
        "# Design the model\n",
        "\n",
        "class Net(nn.Module):\n",
        "    def __init__(self):  # Declaramos las capas que va a tener la red\n",
        "        super(Net, self).__init__()  # Esto siempre igual\n",
        "        self.fc1 = nn.Linear(784, 512) # Linear es una capa que esta totalmente conectada. A cada capa le decimos cuantas variables va atener a la salida y cuantas neuronas va a tener en la capa oculta\n",
        "        self.fc2 = nn.Linear(512, 10)  #Aqui la capa de entrada es 32 porque la capa de salida de la neurona anterior era 32. Tiene 10 neuronas de salida porque tenemos 10 capas. \n",
        "\n",
        "    def forward(self, x): #Aqui vamos a definir como unas capas se conectan con otras\n",
        "        x = x.view(-1, 784) #Hace un reshape a la capa de entrada. -1 es la dimension del batch. se queda tal cual. La segunda dimension en 784 porque es el size de los pixeles en fila\n",
        "        x = torch.relu(self.fc1(x)) #Aplica relu en la primera capa\n",
        "        x = torch.softmax(self.fc2(x), dim=1) #Aplica softmax en la segunda\n",
        "        return x\n",
        "\n",
        "model = Net()"
      ],
      "metadata": {
        "id": "dZoxZYcRp4VC"
      },
      "execution_count": 34,
      "outputs": []
    },
    {
      "cell_type": "code",
      "source": [
        "# Show summary of the model\n",
        "summary(model, (1, 28, 28))"
      ],
      "metadata": {
        "id": "Anb-AJwUp7no",
        "outputId": "f9922346-4de8-43b9-d820-6bdc791addc9",
        "colab": {
          "base_uri": "https://localhost:8080/"
        }
      },
      "execution_count": 35,
      "outputs": [
        {
          "output_type": "stream",
          "name": "stdout",
          "text": [
            "----------------------------------------------------------------\n",
            "        Layer (type)               Output Shape         Param #\n",
            "================================================================\n",
            "            Linear-1                  [-1, 512]         401,920\n",
            "            Linear-2                   [-1, 10]           5,130\n",
            "================================================================\n",
            "Total params: 407,050\n",
            "Trainable params: 407,050\n",
            "Non-trainable params: 0\n",
            "----------------------------------------------------------------\n",
            "Input size (MB): 0.00\n",
            "Forward/backward pass size (MB): 0.00\n",
            "Params size (MB): 1.55\n",
            "Estimated Total Size (MB): 1.56\n",
            "----------------------------------------------------------------\n"
          ]
        }
      ]
    },
    {
      "cell_type": "code",
      "source": [
        "# Define loss function and optimizer\n",
        "criterion = nn.CrossEntropyLoss()\n",
        "optimizer = torch.optim.Adam(model.parameters(), lr=0.001)"
      ],
      "metadata": {
        "id": "3NLe12t2qCM2"
      },
      "execution_count": 36,
      "outputs": []
    },
    {
      "cell_type": "code",
      "source": [
        "# Train the model\n",
        "\n",
        "device = torch.device(\"cuda\" if torch.cuda.is_available() else \"cpu\") # Le indicamos el dispositivo. Cuda es el software funciona sobre las GPU de Nvidia. \n",
        "model.to(device)\n",
        "\n",
        "train_loss_history = []\n",
        "valid_loss_history = []\n",
        "train_accuracy_history = []\n",
        "valid_accuracy_history = []\n",
        "\n",
        "num_epochs = 20\n",
        "\n",
        "for epoch in range(num_epochs):\n",
        "    for i, (images, labels) in enumerate(train_loader): #En batches de 64 me va pasando todo el train_loader\n",
        "\n",
        "        # Clear gradients\n",
        "        optimizer.zero_grad() \n",
        "\n",
        "        # Move images and labels to device\n",
        "        # Pasamos imagenes y etiquetas a la GPU. \n",
        "        images = images.to(device)\n",
        "        labels = labels.to(device)\n",
        "\n",
        "        # Forward pass\n",
        "        # Generamos las predicciones de entrenamiento de las imagenes para cada batch de 64\n",
        "        outputs = model(images)\n",
        "\n",
        "        # Compute loss\n",
        "        # Ahora vemos como lo ha hecho el modelo y vemos el loss. \n",
        "        loss = criterion(outputs, labels)\n",
        "\n",
        "        # Backward pass\n",
        "        # Calculamos los gradientes para cada uno de los pesos\n",
        "        loss.backward()\n",
        "\n",
        "        # Update weights en consecuencia de los gradientes\n",
        "        optimizer.step()\n",
        "\n",
        "    # Calculate accuracy\n",
        "    train_loss = 0\n",
        "    valid_loss = 0\n",
        "    train_accuracy = 0\n",
        "    valid_accuracy = 0\n",
        "\n",
        "# A partir de aqui a la red neuronal no le pasa nada. Esto es informacion para nosotros. La red aprende con lo de arriba\n",
        "\n",
        "    # Turn off gradients for validation to speed up inference\n",
        "    with torch.no_grad(): \n",
        "        for images, labels in train_loader: # Hacemos un bucle para los datos de training y otro para los de validacion\n",
        "\n",
        "            # Move images and labels to device\n",
        "            images, labels = images.to(device), labels.to(device)\n",
        "            \n",
        "            # Forward pass\n",
        "            output = model(images)\n",
        "\n",
        "            # Calculate loss\n",
        "            train_loss += criterion(output, labels)\n",
        "\n",
        "            # Calculate accuracy\n",
        "            train_accuracy += get_accuracy(output, labels)\n",
        "        \n",
        "        train_loss_history.append(train_loss.cpu().numpy() / len(train_loader)) # Vamos haciendo un append a la lista que hemos creado arriba\n",
        "        train_accuracy_history.append(train_accuracy.cpu().numpy() / len(train_loader))\n",
        "\n",
        "        for images, labels in valid_loader: #Aquí el bucle para validación\n",
        "\n",
        "            # Move images and labels to device\n",
        "            images, labels = images.to(device), labels.to(device)\n",
        "            \n",
        "            # Forward pass\n",
        "            output = model(images)\n",
        "\n",
        "            # Calculate loss\n",
        "            valid_loss += criterion(output, labels)\n",
        "\n",
        "            # Calculate accuracy\n",
        "            valid_accuracy += get_accuracy(output, labels)\n",
        "        \n",
        "        valid_loss_history.append(valid_loss.cpu().numpy() / len(valid_loader))\n",
        "        valid_accuracy_history.append(valid_accuracy.cpu().numpy() / len(valid_loader))\n",
        "\n",
        "        print(f\"Epoch {epoch+1}/{num_epochs} | \"\n",
        "              f\"Train loss: {train_loss/len(train_loader):.3f} | \"\n",
        "              f\"Train accuracy: {train_accuracy/len(train_loader):.3f} | \"\n",
        "              f\"Valid loss: {valid_loss/len(valid_loader):.3f} | \"\n",
        "              f\"Valid accuracy: {valid_accuracy/len(valid_loader):.3f}\")"
      ],
      "metadata": {
        "id": "fhhTvcdwqDxP",
        "outputId": "6355e18f-8e3f-4921-a5b4-4182e1dff5bc",
        "colab": {
          "base_uri": "https://localhost:8080/"
        }
      },
      "execution_count": 37,
      "outputs": [
        {
          "output_type": "stream",
          "name": "stdout",
          "text": [
            "Epoch 1/20 | Train loss: 1.522 | Train accuracy: 0.944 | Valid loss: 1.517 | Valid accuracy: 0.951\n",
            "Epoch 2/20 | Train loss: 1.501 | Train accuracy: 0.964 | Valid loss: 1.503 | Valid accuracy: 0.961\n",
            "Epoch 3/20 | Train loss: 1.490 | Train accuracy: 0.973 | Valid loss: 1.493 | Valid accuracy: 0.972\n",
            "Epoch 4/20 | Train loss: 1.486 | Train accuracy: 0.977 | Valid loss: 1.491 | Valid accuracy: 0.972\n",
            "Epoch 5/20 | Train loss: 1.485 | Train accuracy: 0.978 | Valid loss: 1.491 | Valid accuracy: 0.972\n",
            "Epoch 6/20 | Train loss: 1.479 | Train accuracy: 0.984 | Valid loss: 1.484 | Valid accuracy: 0.980\n",
            "Epoch 7/20 | Train loss: 1.476 | Train accuracy: 0.986 | Valid loss: 1.484 | Valid accuracy: 0.978\n",
            "Epoch 8/20 | Train loss: 1.474 | Train accuracy: 0.988 | Valid loss: 1.481 | Valid accuracy: 0.981\n",
            "Epoch 9/20 | Train loss: 1.473 | Train accuracy: 0.989 | Valid loss: 1.482 | Valid accuracy: 0.980\n",
            "Epoch 10/20 | Train loss: 1.471 | Train accuracy: 0.991 | Valid loss: 1.481 | Valid accuracy: 0.981\n",
            "Epoch 11/20 | Train loss: 1.472 | Train accuracy: 0.990 | Valid loss: 1.482 | Valid accuracy: 0.979\n",
            "Epoch 12/20 | Train loss: 1.469 | Train accuracy: 0.992 | Valid loss: 1.479 | Valid accuracy: 0.983\n",
            "Epoch 13/20 | Train loss: 1.468 | Train accuracy: 0.993 | Valid loss: 1.478 | Valid accuracy: 0.983\n",
            "Epoch 14/20 | Train loss: 1.470 | Train accuracy: 0.992 | Valid loss: 1.480 | Valid accuracy: 0.982\n",
            "Epoch 15/20 | Train loss: 1.469 | Train accuracy: 0.993 | Valid loss: 1.479 | Valid accuracy: 0.983\n",
            "Epoch 16/20 | Train loss: 1.468 | Train accuracy: 0.993 | Valid loss: 1.478 | Valid accuracy: 0.983\n",
            "Epoch 17/20 | Train loss: 1.470 | Train accuracy: 0.992 | Valid loss: 1.482 | Valid accuracy: 0.980\n",
            "Epoch 18/20 | Train loss: 1.468 | Train accuracy: 0.994 | Valid loss: 1.481 | Valid accuracy: 0.980\n",
            "Epoch 19/20 | Train loss: 1.468 | Train accuracy: 0.994 | Valid loss: 1.479 | Valid accuracy: 0.983\n",
            "Epoch 20/20 | Train loss: 1.470 | Train accuracy: 0.992 | Valid loss: 1.483 | Valid accuracy: 0.979\n"
          ]
        }
      ]
    },
    {
      "cell_type": "code",
      "source": [
        "# Obtain metrics in the test partition\n",
        "test_loss = 0\n",
        "test_accuracy = 0\n",
        "for images, labels in test_loader:\n",
        "\n",
        "    # Move images and labels to device\n",
        "    images, labels = images.to(device), labels.to(device)\n",
        "    \n",
        "    # Forward pass\n",
        "    output = model(images)\n",
        "\n",
        "    # Calculate loss\n",
        "    test_loss += criterion(output, labels)\n",
        "\n",
        "    # Calculate accuracy\n",
        "    test_accuracy += get_accuracy(output, labels)\n",
        "print(\"Test loss:\", test_loss / len(test_loader))\n",
        "print(\"Test accuracy:\", test_accuracy / len(test_loader))"
      ],
      "metadata": {
        "id": "B93nOydhqJWc",
        "outputId": "92d5d18a-ad49-49ae-d253-3ca30816dbf7",
        "colab": {
          "base_uri": "https://localhost:8080/"
        }
      },
      "execution_count": 38,
      "outputs": [
        {
          "output_type": "stream",
          "name": "stdout",
          "text": [
            "Test loss: tensor(1.4871, grad_fn=<DivBackward0>)\n",
            "Test accuracy: tensor(0.9741)\n"
          ]
        }
      ]
    },
    {
      "cell_type": "code",
      "source": [
        "# Plot training and validation accuracy\n",
        "plt.plot(train_accuracy_history)\n",
        "plt.plot(valid_accuracy_history)\n",
        "plt.title('Model accuracy')\n",
        "plt.ylabel('Accuracy')\n",
        "plt.xlabel('Epoch')\n",
        "plt.legend(['Train', 'Val'], loc='upper left')\n",
        "plt.show()"
      ],
      "metadata": {
        "id": "mW-Ryql6rM-I",
        "outputId": "7b88a5e7-9e5b-4bde-936b-7c8c9d62b88a",
        "colab": {
          "base_uri": "https://localhost:8080/",
          "height": 872
        }
      },
      "execution_count": 39,
      "outputs": [
        {
          "output_type": "display_data",
          "data": {
            "text/plain": [
              "<Figure size 1000x1000 with 1 Axes>"
            ],
            "image/png": "[encoded data removed]"
          },
          "metadata": {}
        }
      ]
    }
  ]
}