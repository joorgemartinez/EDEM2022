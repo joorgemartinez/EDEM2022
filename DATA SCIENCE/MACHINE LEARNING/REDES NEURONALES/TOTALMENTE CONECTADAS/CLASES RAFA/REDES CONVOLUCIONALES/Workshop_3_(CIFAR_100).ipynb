{
  "nbformat": 4,
  "nbformat_minor": 0,
  "metadata": {
    "colab": {
      "provenance": [],
      "gpuType": "T4"
    },
    "kernelspec": {
      "name": "python3",
      "display_name": "Python 3"
    },
    "accelerator": "GPU",
    "gpuClass": "standard"
  },
  "cells": [
    {
      "cell_type": "markdown",
      "metadata": {
        "id": "AL8RQZGoqqQJ"
      },
      "source": [
        "# Workshop 3: Advanced Techniques\n",
        "\n",
        "In this workshop we will learn techniques to increase the performance of CNN and how to use state of the art architectures. The structure of the workshop will be the following:\n",
        "\n",
        "\n",
        "\n",
        "1.   Dropout\n",
        "2.   Batch Normalization\n",
        "3.   Data Augmentation\n",
        "4.   Transfer learning\n",
        "\n"
      ]
    },
    {
      "cell_type": "markdown",
      "metadata": {
        "id": "y91AuX2jrJDo"
      },
      "source": [
        "## 1. Dropout"
      ]
    },
    {
      "cell_type": "code",
      "metadata": {
        "id": "jxUYGXkFPG98"
      },
      "source": [
        "# Import dependence for downloading CIFAR100\n",
        "from tensorflow import keras\n",
        "from keras.datasets import cifar100"
      ],
      "execution_count": 40,
      "outputs": []
    },
    {
      "cell_type": "code",
      "metadata": {
        "id": "aaGDZgZkS9c1"
      },
      "source": [
        "(X_train, y_train), (X_testval, y_testval) = cifar100.load_data()"
      ],
      "execution_count": 41,
      "outputs": []
    },
    {
      "cell_type": "code",
      "metadata": {
        "id": "nA-qauKITM-O"
      },
      "source": [
        "# Import dependence for handling arrays\n",
        "import numpy as np"
      ],
      "execution_count": 42,
      "outputs": []
    },
    {
      "cell_type": "code",
      "metadata": {
        "id": "KZ5vh3g8Xh_j"
      },
      "source": [
        "# Change the range of pixels from [0 255] to [0 1]\n",
        "X_train_fl = X_train.astype('float32')\n",
        "X_testval_fl = X_testval.astype('float32')\n",
        "X_train_fl /= 255\n",
        "X_testval_fl /= 255"
      ],
      "execution_count": 43,
      "outputs": []
    },
    {
      "cell_type": "code",
      "metadata": {
        "id": "Nj74QnR4Vbt1"
      },
      "source": [
        "# Import dependence for one-hot encoding\n",
        "from sklearn.preprocessing import OneHotEncoder"
      ],
      "execution_count": 44,
      "outputs": []
    },
    {
      "cell_type": "code",
      "metadata": {
        "id": "_nTRJ7yeVeN3"
      },
      "source": [
        "# One-hot encoding of labels\n",
        "onehot_enc = OneHotEncoder()\n",
        "y_train_oh = onehot_enc.fit_transform(y_train.reshape(X_train.shape[0], 1)).toarray()\n",
        "y_testval_oh = onehot_enc.fit_transform(y_testval.reshape(X_testval.shape[0], 1)).toarray()"
      ],
      "execution_count": 45,
      "outputs": []
    },
    {
      "cell_type": "code",
      "metadata": {
        "id": "ry7H5BvPVl6D",
        "colab": {
          "base_uri": "https://localhost:8080/"
        },
        "outputId": "af979b90-d186-419d-8f73-9bfe8573aa5f"
      },
      "source": [
        "# Show one-hot encoded labels shape\n",
        "print(\"Training one-hot encoded labels shape:\", y_train_oh.shape)\n",
        "print(\"Testing one-hot encoded labels shape:\", y_testval_oh.shape)"
      ],
      "execution_count": 46,
      "outputs": [
        {
          "output_type": "stream",
          "name": "stdout",
          "text": [
            "Training one-hot encoded labels shape: (50000, 100)\n",
            "Testing one-hot encoded labels shape: (10000, 100)\n"
          ]
        }
      ]
    },
    {
      "cell_type": "code",
      "metadata": {
        "id": "7PoZUM_sVoi6"
      },
      "source": [
        "# Divide testval in test and validation partitions\n",
        "samples_test_nb = int(X_testval.shape[0]/2)\n",
        "X_val = X_testval_fl[:samples_test_nb]\n",
        "y_val = y_testval_oh[:samples_test_nb]\n",
        "X_test = X_testval_fl[samples_test_nb:]\n",
        "y_test = y_testval_oh[samples_test_nb:]"
      ],
      "execution_count": 47,
      "outputs": []
    },
    {
      "cell_type": "code",
      "metadata": {
        "id": "ofgM7brWVsN1",
        "colab": {
          "base_uri": "https://localhost:8080/"
        },
        "outputId": "ac64b4f8-1e43-464e-c8ca-45495bfe0a0c"
      },
      "source": [
        "# Show shapes of test and validation partitions\n",
        "print(\"Validation matrix shape:\", X_val.shape)\n",
        "print(\"Testing matrix shape:\", X_test.shape)"
      ],
      "execution_count": 48,
      "outputs": [
        {
          "output_type": "stream",
          "name": "stdout",
          "text": [
            "Validation matrix shape: (5000, 32, 32, 3)\n",
            "Testing matrix shape: (5000, 32, 32, 3)\n"
          ]
        }
      ]
    },
    {
      "cell_type": "code",
      "metadata": {
        "id": "Eo5FvhBYubiQ"
      },
      "source": [
        "# Import depence for CNN\n",
        "from keras.models import Model\n",
        "from keras.layers import Input, Conv2D, MaxPool2D, Flatten, Dense, Dropout"
      ],
      "execution_count": 49,
      "outputs": []
    },
    {
      "cell_type": "code",
      "metadata": {
        "id": "Hrbz0cUmtuU7"
      },
      "source": [
        "# Define the model\n",
        "input_layer = Input(shape=(X_train.shape[1],X_train.shape[2], X_train.shape[3]))\n",
        "conv_layer_1 = Conv2D(filters=8, kernel_size=(3, 3), activation='relu')(input_layer)\n",
        "maxpool_layer_1 = MaxPool2D(pool_size=(2, 2))(conv_layer_1)\n",
        "conv_layer_2 = Conv2D(filters=16, kernel_size=(3, 3), activation='relu')(maxpool_layer_1)\n",
        "maxpool_layer_2 = MaxPool2D(pool_size=(2, 2))(conv_layer_2)\n",
        "conv_layer_3 = Conv2D(filters=32, kernel_size=(3, 3), activation='relu')(maxpool_layer_2)\n",
        "flatten_layer = Flatten()(conv_layer_3)\n",
        "dense_layer = Dense(128, activation='relu')(flatten_layer)\n",
        "dropout = Dropout(rate=0.4)(dense_layer)\n",
        "output_layer = Dense(100, activation='softmax')(dropout)\n",
        "model= Model(inputs=input_layer, outputs=output_layer)"
      ],
      "execution_count": 50,
      "outputs": []
    },
    {
      "cell_type": "code",
      "metadata": {
        "id": "Dzt4Th7iV1tF",
        "colab": {
          "base_uri": "https://localhost:8080/"
        },
        "outputId": "a09c4076-64a2-4151-c586-e704394b5647"
      },
      "source": [
        "# Show a summary of the model\n",
        "model.summary()"
      ],
      "execution_count": 13,
      "outputs": [
        {
          "output_type": "stream",
          "name": "stdout",
          "text": [
            "Model: \"model\"\n",
            "_________________________________________________________________\n",
            " Layer (type)                Output Shape              Param #   \n",
            "=================================================================\n",
            " input_1 (InputLayer)        [(None, 32, 32, 3)]       0         \n",
            "                                                                 \n",
            " conv2d (Conv2D)             (None, 30, 30, 8)         224       \n",
            "                                                                 \n",
            " max_pooling2d (MaxPooling2D  (None, 15, 15, 8)        0         \n",
            " )                                                               \n",
            "                                                                 \n",
            " conv2d_1 (Conv2D)           (None, 13, 13, 16)        1168      \n",
            "                                                                 \n",
            " max_pooling2d_1 (MaxPooling  (None, 6, 6, 16)         0         \n",
            " 2D)                                                             \n",
            "                                                                 \n",
            " conv2d_2 (Conv2D)           (None, 4, 4, 32)          4640      \n",
            "                                                                 \n",
            " flatten (Flatten)           (None, 512)               0         \n",
            "                                                                 \n",
            " dense (Dense)               (None, 128)               65664     \n",
            "                                                                 \n",
            " dropout (Dropout)           (None, 128)               0         \n",
            "                                                                 \n",
            " dense_1 (Dense)             (None, 100)               12900     \n",
            "                                                                 \n",
            "=================================================================\n",
            "Total params: 84,596\n",
            "Trainable params: 84,596\n",
            "Non-trainable params: 0\n",
            "_________________________________________________________________\n"
          ]
        }
      ]
    },
    {
      "cell_type": "code",
      "metadata": {
        "id": "bFM5py6aV4DM"
      },
      "source": [
        "# Compile the model\n",
        "model.compile(loss='categorical_crossentropy', optimizer='adam', \n",
        "              metrics=['accuracy'])"
      ],
      "execution_count": 14,
      "outputs": []
    },
    {
      "cell_type": "code",
      "metadata": {
        "id": "-a6viyT4V_9_",
        "colab": {
          "base_uri": "https://localhost:8080/"
        },
        "outputId": "bf150743-71a9-4cc8-b431-d2b3c56488b1"
      },
      "source": [
        "# Train the model\n",
        "history = model.fit(X_train_fl, y_train_oh, epochs=50, batch_size=128,\n",
        "                    validation_data=(X_val, y_val))"
      ],
      "execution_count": 14,
      "outputs": [
        {
          "output_type": "stream",
          "name": "stdout",
          "text": [
            "Epoch 1/50\n",
            "391/391 [==============================] - 18s 13ms/step - loss: 4.2301 - accuracy: 0.0564 - val_loss: 3.8137 - val_accuracy: 0.1208\n",
            "Epoch 2/50\n",
            "391/391 [==============================] - 3s 9ms/step - loss: 3.7706 - accuracy: 0.1239 - val_loss: 3.4947 - val_accuracy: 0.1738\n",
            "Epoch 3/50\n",
            "391/391 [==============================] - 3s 8ms/step - loss: 3.5588 - accuracy: 0.1585 - val_loss: 3.3389 - val_accuracy: 0.2066\n",
            "Epoch 4/50\n",
            "391/391 [==============================] - 2s 6ms/step - loss: 3.4313 - accuracy: 0.1777 - val_loss: 3.2750 - val_accuracy: 0.2136\n",
            "Epoch 5/50\n",
            "391/391 [==============================] - 2s 6ms/step - loss: 3.3397 - accuracy: 0.1944 - val_loss: 3.1833 - val_accuracy: 0.2278\n",
            "Epoch 6/50\n",
            "391/391 [==============================] - 2s 6ms/step - loss: 3.2705 - accuracy: 0.2078 - val_loss: 3.1194 - val_accuracy: 0.2448\n",
            "Epoch 7/50\n",
            "391/391 [==============================] - 2s 6ms/step - loss: 3.2250 - accuracy: 0.2139 - val_loss: 3.0849 - val_accuracy: 0.2496\n",
            "Epoch 8/50\n",
            "391/391 [==============================] - 3s 7ms/step - loss: 3.1733 - accuracy: 0.2247 - val_loss: 3.0597 - val_accuracy: 0.2574\n",
            "Epoch 9/50\n",
            "391/391 [==============================] - 2s 6ms/step - loss: 3.1425 - accuracy: 0.2318 - val_loss: 3.0217 - val_accuracy: 0.2590\n",
            "Epoch 10/50\n",
            "391/391 [==============================] - 2s 6ms/step - loss: 3.1014 - accuracy: 0.2393 - val_loss: 2.9953 - val_accuracy: 0.2662\n",
            "Epoch 11/50\n",
            "391/391 [==============================] - 2s 6ms/step - loss: 3.0803 - accuracy: 0.2428 - val_loss: 2.9852 - val_accuracy: 0.2628\n",
            "Epoch 12/50\n",
            "391/391 [==============================] - 2s 6ms/step - loss: 3.0440 - accuracy: 0.2466 - val_loss: 2.9266 - val_accuracy: 0.2772\n",
            "Epoch 13/50\n",
            "391/391 [==============================] - 3s 7ms/step - loss: 3.0268 - accuracy: 0.2518 - val_loss: 2.9141 - val_accuracy: 0.2792\n",
            "Epoch 14/50\n",
            "391/391 [==============================] - 2s 6ms/step - loss: 3.0013 - accuracy: 0.2561 - val_loss: 2.8993 - val_accuracy: 0.2814\n",
            "Epoch 15/50\n",
            "391/391 [==============================] - 2s 6ms/step - loss: 2.9821 - accuracy: 0.2594 - val_loss: 2.8871 - val_accuracy: 0.2872\n",
            "Epoch 16/50\n",
            "391/391 [==============================] - 2s 6ms/step - loss: 2.9741 - accuracy: 0.2624 - val_loss: 2.8946 - val_accuracy: 0.2874\n",
            "Epoch 17/50\n",
            "391/391 [==============================] - 2s 6ms/step - loss: 2.9510 - accuracy: 0.2654 - val_loss: 2.8638 - val_accuracy: 0.2974\n",
            "Epoch 18/50\n",
            "391/391 [==============================] - 3s 7ms/step - loss: 2.9287 - accuracy: 0.2690 - val_loss: 2.8496 - val_accuracy: 0.2952\n",
            "Epoch 19/50\n",
            "391/391 [==============================] - 3s 7ms/step - loss: 2.9064 - accuracy: 0.2724 - val_loss: 2.8552 - val_accuracy: 0.2960\n",
            "Epoch 20/50\n",
            "391/391 [==============================] - 2s 6ms/step - loss: 2.8961 - accuracy: 0.2772 - val_loss: 2.8185 - val_accuracy: 0.2980\n",
            "Epoch 21/50\n",
            "391/391 [==============================] - 2s 6ms/step - loss: 2.8763 - accuracy: 0.2809 - val_loss: 2.8548 - val_accuracy: 0.2886\n",
            "Epoch 22/50\n",
            "391/391 [==============================] - 2s 6ms/step - loss: 2.8680 - accuracy: 0.2797 - val_loss: 2.8202 - val_accuracy: 0.2978\n",
            "Epoch 23/50\n",
            "391/391 [==============================] - 2s 6ms/step - loss: 2.8576 - accuracy: 0.2805 - val_loss: 2.8122 - val_accuracy: 0.3080\n",
            "Epoch 24/50\n",
            "391/391 [==============================] - 3s 8ms/step - loss: 2.8414 - accuracy: 0.2858 - val_loss: 2.7985 - val_accuracy: 0.3036\n",
            "Epoch 25/50\n",
            "391/391 [==============================] - 2s 6ms/step - loss: 2.8308 - accuracy: 0.2874 - val_loss: 2.7917 - val_accuracy: 0.3030\n",
            "Epoch 26/50\n",
            "391/391 [==============================] - 2s 6ms/step - loss: 2.8235 - accuracy: 0.2900 - val_loss: 2.8028 - val_accuracy: 0.3010\n",
            "Epoch 27/50\n",
            "391/391 [==============================] - 2s 6ms/step - loss: 2.8005 - accuracy: 0.2931 - val_loss: 2.8049 - val_accuracy: 0.2982\n",
            "Epoch 28/50\n",
            "391/391 [==============================] - 3s 8ms/step - loss: 2.7944 - accuracy: 0.2944 - val_loss: 2.7791 - val_accuracy: 0.3032\n",
            "Epoch 29/50\n",
            "391/391 [==============================] - 4s 9ms/step - loss: 2.7874 - accuracy: 0.2953 - val_loss: 2.7787 - val_accuracy: 0.3162\n",
            "Epoch 30/50\n",
            "391/391 [==============================] - 2s 6ms/step - loss: 2.7708 - accuracy: 0.2987 - val_loss: 2.8150 - val_accuracy: 0.3016\n",
            "Epoch 31/50\n",
            "391/391 [==============================] - 2s 6ms/step - loss: 2.7648 - accuracy: 0.3007 - val_loss: 2.7715 - val_accuracy: 0.3078\n",
            "Epoch 32/50\n",
            "391/391 [==============================] - 2s 6ms/step - loss: 2.7471 - accuracy: 0.3012 - val_loss: 2.8092 - val_accuracy: 0.3042\n",
            "Epoch 33/50\n",
            "391/391 [==============================] - 2s 6ms/step - loss: 2.7422 - accuracy: 0.3040 - val_loss: 2.7618 - val_accuracy: 0.3158\n",
            "Epoch 34/50\n",
            "391/391 [==============================] - 3s 7ms/step - loss: 2.7270 - accuracy: 0.3049 - val_loss: 2.7699 - val_accuracy: 0.3064\n",
            "Epoch 35/50\n",
            "391/391 [==============================] - 2s 6ms/step - loss: 2.7304 - accuracy: 0.3067 - val_loss: 2.7827 - val_accuracy: 0.3044\n",
            "Epoch 36/50\n",
            "391/391 [==============================] - 2s 6ms/step - loss: 2.7187 - accuracy: 0.3072 - val_loss: 2.7616 - val_accuracy: 0.3116\n",
            "Epoch 37/50\n",
            "391/391 [==============================] - 2s 6ms/step - loss: 2.7127 - accuracy: 0.3115 - val_loss: 2.7565 - val_accuracy: 0.3114\n",
            "Epoch 38/50\n",
            "391/391 [==============================] - 2s 6ms/step - loss: 2.7110 - accuracy: 0.3092 - val_loss: 2.8264 - val_accuracy: 0.3012\n",
            "Epoch 39/50\n",
            "391/391 [==============================] - 3s 7ms/step - loss: 2.6935 - accuracy: 0.3110 - val_loss: 2.7562 - val_accuracy: 0.3136\n",
            "Epoch 40/50\n",
            "391/391 [==============================] - 3s 7ms/step - loss: 2.6950 - accuracy: 0.3157 - val_loss: 2.7487 - val_accuracy: 0.3152\n",
            "Epoch 41/50\n",
            "391/391 [==============================] - 2s 6ms/step - loss: 2.6839 - accuracy: 0.3133 - val_loss: 2.7666 - val_accuracy: 0.3112\n",
            "Epoch 42/50\n",
            "391/391 [==============================] - 2s 6ms/step - loss: 2.6817 - accuracy: 0.3155 - val_loss: 2.7625 - val_accuracy: 0.3150\n",
            "Epoch 43/50\n",
            "391/391 [==============================] - 2s 6ms/step - loss: 2.6567 - accuracy: 0.3198 - val_loss: 2.7477 - val_accuracy: 0.3202\n",
            "Epoch 44/50\n",
            "391/391 [==============================] - 3s 7ms/step - loss: 2.6524 - accuracy: 0.3197 - val_loss: 2.7399 - val_accuracy: 0.3152\n",
            "Epoch 45/50\n",
            "391/391 [==============================] - 3s 7ms/step - loss: 2.6471 - accuracy: 0.3220 - val_loss: 2.7736 - val_accuracy: 0.3104\n",
            "Epoch 46/50\n",
            "391/391 [==============================] - 2s 6ms/step - loss: 2.6552 - accuracy: 0.3172 - val_loss: 2.7542 - val_accuracy: 0.3162\n",
            "Epoch 47/50\n",
            "391/391 [==============================] - 2s 6ms/step - loss: 2.6381 - accuracy: 0.3238 - val_loss: 2.7466 - val_accuracy: 0.3202\n",
            "Epoch 48/50\n",
            "391/391 [==============================] - 3s 6ms/step - loss: 2.6297 - accuracy: 0.3253 - val_loss: 2.7305 - val_accuracy: 0.3216\n",
            "Epoch 49/50\n",
            "391/391 [==============================] - 3s 9ms/step - loss: 2.6218 - accuracy: 0.3260 - val_loss: 2.7374 - val_accuracy: 0.3160\n",
            "Epoch 50/50\n",
            "391/391 [==============================] - 3s 7ms/step - loss: 2.6147 - accuracy: 0.3278 - val_loss: 2.7253 - val_accuracy: 0.3178\n"
          ]
        }
      ]
    },
    {
      "cell_type": "code",
      "metadata": {
        "id": "Hsc8-QX1xVWL"
      },
      "source": [
        "# Import dependence for visualization of images\n",
        "import matplotlib.pyplot as plt"
      ],
      "execution_count": 15,
      "outputs": []
    },
    {
      "cell_type": "code",
      "metadata": {
        "id": "cAR15yICV6hU",
        "colab": {
          "base_uri": "https://localhost:8080/",
          "height": 472
        },
        "outputId": "f372b459-b88e-44a9-d857-02c29bcfc399"
      },
      "source": [
        "# Plot training and validation accuracy\n",
        "plt.plot(history.history['accuracy'])\n",
        "plt.plot(history.history['val_accuracy'])\n",
        "plt.title('Model accuracy')\n",
        "plt.ylabel('Accuracy')\n",
        "plt.xlabel('Epoch')\n",
        "plt.legend(['Train', 'Val'], loc='upper left')\n",
        "plt.ylim(0, 1)\n",
        "plt.show()"
      ],
      "execution_count": 16,
      "outputs": [
        {
          "output_type": "display_data",
          "data": {
            "text/plain": [
              "<Figure size 640x480 with 1 Axes>"
            ],
            "image/png": "[encoded data removed]"
          },
          "metadata": {}
        }
      ]
    },
    {
      "cell_type": "code",
      "metadata": {
        "id": "-OM3GB9SV86n",
        "colab": {
          "base_uri": "https://localhost:8080/",
          "height": 472
        },
        "outputId": "216aca9b-cf83-4950-eb2f-ad6d4a69a585"
      },
      "source": [
        "# Plot training and test loss\n",
        "plt.plot(history.history['loss']) \n",
        "plt.plot(history.history['val_loss']) \n",
        "plt.title('Model loss') \n",
        "plt.ylabel('Loss') \n",
        "plt.xlabel('Epoch') \n",
        "plt.legend(['Train', 'Val'], loc='upper left') \n",
        "plt.show()"
      ],
      "execution_count": 17,
      "outputs": [
        {
          "output_type": "display_data",
          "data": {
            "text/plain": [
              "<Figure size 640x480 with 1 Axes>"
            ],
            "image/png": "[encoded data removed]"
          },
          "metadata": {}
        }
      ]
    },
    {
      "cell_type": "markdown",
      "metadata": {
        "id": "z1huEX1wx5bn"
      },
      "source": [
        "## 2. Batch Normalization"
      ]
    },
    {
      "cell_type": "code",
      "metadata": {
        "id": "FEFeuHMNvQxy"
      },
      "source": [
        "from keras.layers import BatchNormalization\n",
        "from tensorflow.keras.optimizers import Adam"
      ],
      "execution_count": 16,
      "outputs": []
    },
    {
      "cell_type": "code",
      "metadata": {
        "id": "rZfVtoxky-8m"
      },
      "source": [
        "# Define the model\n",
        "input_layer = Input(shape=(X_train.shape[1],X_train.shape[2], X_train.shape[3]))\n",
        "conv_layer_1 = Conv2D(filters=8, kernel_size=(3, 3), activation='relu')(input_layer)\n",
        "bn_1 = BatchNormalization()(conv_layer_1)\n",
        "maxpool_layer_1 = MaxPool2D(pool_size=(2, 2))(bn_1)\n",
        "conv_layer_2 = Conv2D(filters=16, kernel_size=(3, 3), activation='relu')(maxpool_layer_1)\n",
        "bn_2 = BatchNormalization()(conv_layer_2)\n",
        "maxpool_layer_2 = MaxPool2D(pool_size=(2, 2))(bn_2)\n",
        "conv_layer_3 = Conv2D(filters=32, kernel_size=(3, 3), activation='relu')(maxpool_layer_2)\n",
        "bn_3 = BatchNormalization()(conv_layer_3)\n",
        "flatten_layer = Flatten()(bn_3)\n",
        "dense_layer = Dense(128, activation='relu')(flatten_layer)\n",
        "dropout = Dropout(rate=0.4)(dense_layer)\n",
        "output_layer = Dense(100, activation='softmax')(dropout)\n",
        "model= Model(inputs=input_layer, outputs=output_layer)"
      ],
      "execution_count": 17,
      "outputs": []
    },
    {
      "cell_type": "code",
      "metadata": {
        "id": "jG1aPlHFze4L"
      },
      "source": [
        "# Compile the model\n",
        "model.compile(loss='categorical_crossentropy', optimizer=Adam(),\n",
        "              metrics=['accuracy'])"
      ],
      "execution_count": 18,
      "outputs": []
    },
    {
      "cell_type": "code",
      "metadata": {
        "id": "UIJo6a5kze4P",
        "colab": {
          "base_uri": "https://localhost:8080/"
        },
        "outputId": "6f0c3d0a-f175-49d1-fb9e-ef8cb3f49e02"
      },
      "source": [
        "# Train the model\n",
        "history = model.fit(X_train_fl, y_train_oh, epochs=20, batch_size=128,\n",
        "                    validation_data=(X_val, y_val))"
      ],
      "execution_count": 21,
      "outputs": [
        {
          "output_type": "stream",
          "name": "stdout",
          "text": [
            "Epoch 1/20\n",
            "391/391 [==============================] - 8s 13ms/step - loss: 4.1521 - accuracy: 0.0836 - val_loss: 4.0441 - val_accuracy: 0.0876\n",
            "Epoch 2/20\n",
            "391/391 [==============================] - 3s 7ms/step - loss: 3.5858 - accuracy: 0.1576 - val_loss: 3.3078 - val_accuracy: 0.2034\n",
            "Epoch 3/20\n",
            "391/391 [==============================] - 3s 7ms/step - loss: 3.3356 - accuracy: 0.1997 - val_loss: 3.1086 - val_accuracy: 0.2348\n",
            "Epoch 4/20\n",
            "391/391 [==============================] - 3s 7ms/step - loss: 3.1646 - accuracy: 0.2306 - val_loss: 3.0383 - val_accuracy: 0.2538\n",
            "Epoch 5/20\n",
            "391/391 [==============================] - 3s 7ms/step - loss: 3.0472 - accuracy: 0.2498 - val_loss: 2.9222 - val_accuracy: 0.2776\n",
            "Epoch 6/20\n",
            "391/391 [==============================] - 3s 8ms/step - loss: 2.9508 - accuracy: 0.2689 - val_loss: 2.8594 - val_accuracy: 0.2898\n",
            "Epoch 7/20\n",
            "391/391 [==============================] - 3s 7ms/step - loss: 2.8770 - accuracy: 0.2807 - val_loss: 2.9118 - val_accuracy: 0.2878\n",
            "Epoch 8/20\n",
            "391/391 [==============================] - 3s 7ms/step - loss: 2.8059 - accuracy: 0.2959 - val_loss: 2.7585 - val_accuracy: 0.3070\n",
            "Epoch 9/20\n",
            "391/391 [==============================] - 3s 6ms/step - loss: 2.7729 - accuracy: 0.3033 - val_loss: 2.9691 - val_accuracy: 0.2716\n",
            "Epoch 10/20\n",
            "391/391 [==============================] - 3s 8ms/step - loss: 2.7214 - accuracy: 0.3117 - val_loss: 2.7398 - val_accuracy: 0.3126\n",
            "Epoch 11/20\n",
            "391/391 [==============================] - 3s 7ms/step - loss: 2.6859 - accuracy: 0.3184 - val_loss: 2.7310 - val_accuracy: 0.3224\n",
            "Epoch 12/20\n",
            "391/391 [==============================] - 3s 7ms/step - loss: 2.6532 - accuracy: 0.3246 - val_loss: 2.7620 - val_accuracy: 0.3124\n",
            "Epoch 13/20\n",
            "391/391 [==============================] - 3s 7ms/step - loss: 2.6159 - accuracy: 0.3313 - val_loss: 2.6594 - val_accuracy: 0.3324\n",
            "Epoch 14/20\n",
            "391/391 [==============================] - 3s 7ms/step - loss: 2.5865 - accuracy: 0.3370 - val_loss: 2.6587 - val_accuracy: 0.3362\n",
            "Epoch 15/20\n",
            "391/391 [==============================] - 3s 8ms/step - loss: 2.5743 - accuracy: 0.3377 - val_loss: 2.9928 - val_accuracy: 0.2774\n",
            "Epoch 16/20\n",
            "391/391 [==============================] - 3s 7ms/step - loss: 2.5511 - accuracy: 0.3432 - val_loss: 2.8137 - val_accuracy: 0.3068\n",
            "Epoch 17/20\n",
            "391/391 [==============================] - 3s 6ms/step - loss: 2.5255 - accuracy: 0.3446 - val_loss: 2.6882 - val_accuracy: 0.3272\n",
            "Epoch 18/20\n",
            "391/391 [==============================] - 3s 6ms/step - loss: 2.5058 - accuracy: 0.3522 - val_loss: 2.6277 - val_accuracy: 0.3330\n",
            "Epoch 19/20\n",
            "391/391 [==============================] - 3s 7ms/step - loss: 2.4887 - accuracy: 0.3537 - val_loss: 2.6465 - val_accuracy: 0.3326\n",
            "Epoch 20/20\n",
            "391/391 [==============================] - 3s 8ms/step - loss: 2.4684 - accuracy: 0.3582 - val_loss: 2.6960 - val_accuracy: 0.3270\n"
          ]
        }
      ]
    },
    {
      "cell_type": "code",
      "metadata": {
        "id": "efPQki1pzZ9z",
        "colab": {
          "base_uri": "https://localhost:8080/"
        },
        "outputId": "618f8895-d1a1-4a48-e0c3-b74340e2692a"
      },
      "source": [
        "# Compile the model with new learning rate\n",
        "model= Model(inputs=input_layer, outputs=output_layer)\n",
        "model.compile(loss='categorical_crossentropy', optimizer=Adam(lr=0.01),\n",
        "              metrics=['accuracy'])"
      ],
      "execution_count": 22,
      "outputs": [
        {
          "output_type": "stream",
          "name": "stderr",
          "text": [
            "WARNING:absl:`lr` is deprecated in Keras optimizer, please use `learning_rate` or use the legacy optimizer, e.g.,tf.keras.optimizers.legacy.Adam.\n"
          ]
        }
      ]
    },
    {
      "cell_type": "code",
      "metadata": {
        "id": "Oo6f1rlo0qWs",
        "colab": {
          "base_uri": "https://localhost:8080/"
        },
        "outputId": "f71fb102-8e40-43fe-d993-dfb41ad9951f"
      },
      "source": [
        "# Train the model\n",
        "history = model.fit(X_train_fl, y_train_oh, epochs=20, batch_size=128,\n",
        "                    validation_data=(X_val, y_val))"
      ],
      "execution_count": 23,
      "outputs": [
        {
          "output_type": "stream",
          "name": "stdout",
          "text": [
            "Epoch 1/20\n",
            "391/391 [==============================] - 7s 7ms/step - loss: 2.4598 - accuracy: 0.3594 - val_loss: 2.7699 - val_accuracy: 0.3210\n",
            "Epoch 2/20\n",
            "391/391 [==============================] - 3s 9ms/step - loss: 2.4437 - accuracy: 0.3631 - val_loss: 2.6454 - val_accuracy: 0.3400\n",
            "Epoch 3/20\n",
            "391/391 [==============================] - 3s 7ms/step - loss: 2.4270 - accuracy: 0.3663 - val_loss: 2.6413 - val_accuracy: 0.3410\n",
            "Epoch 4/20\n",
            "391/391 [==============================] - 3s 7ms/step - loss: 2.4096 - accuracy: 0.3698 - val_loss: 2.8699 - val_accuracy: 0.3010\n",
            "Epoch 5/20\n",
            "391/391 [==============================] - 3s 7ms/step - loss: 2.3980 - accuracy: 0.3721 - val_loss: 2.6219 - val_accuracy: 0.3468\n",
            "Epoch 6/20\n",
            "391/391 [==============================] - 3s 8ms/step - loss: 2.3805 - accuracy: 0.3737 - val_loss: 2.6421 - val_accuracy: 0.3386\n",
            "Epoch 7/20\n",
            "391/391 [==============================] - 3s 7ms/step - loss: 2.3746 - accuracy: 0.3758 - val_loss: 2.5827 - val_accuracy: 0.3558\n",
            "Epoch 8/20\n",
            "391/391 [==============================] - 3s 7ms/step - loss: 2.3591 - accuracy: 0.3803 - val_loss: 2.6125 - val_accuracy: 0.3442\n",
            "Epoch 9/20\n",
            "391/391 [==============================] - 3s 7ms/step - loss: 2.3467 - accuracy: 0.3826 - val_loss: 2.6312 - val_accuracy: 0.3402\n",
            "Epoch 10/20\n",
            "391/391 [==============================] - 3s 7ms/step - loss: 2.3490 - accuracy: 0.3790 - val_loss: 2.6630 - val_accuracy: 0.3418\n",
            "Epoch 11/20\n",
            "391/391 [==============================] - 3s 8ms/step - loss: 2.3254 - accuracy: 0.3845 - val_loss: 2.7470 - val_accuracy: 0.3302\n",
            "Epoch 12/20\n",
            "391/391 [==============================] - 3s 7ms/step - loss: 2.3257 - accuracy: 0.3842 - val_loss: 2.7251 - val_accuracy: 0.3282\n",
            "Epoch 13/20\n",
            "391/391 [==============================] - 3s 7ms/step - loss: 2.3113 - accuracy: 0.3891 - val_loss: 2.6314 - val_accuracy: 0.3408\n",
            "Epoch 14/20\n",
            "391/391 [==============================] - 3s 6ms/step - loss: 2.3026 - accuracy: 0.3884 - val_loss: 2.6447 - val_accuracy: 0.3420\n",
            "Epoch 15/20\n",
            "391/391 [==============================] - 3s 8ms/step - loss: 2.2950 - accuracy: 0.3897 - val_loss: 2.6251 - val_accuracy: 0.3430\n",
            "Epoch 16/20\n",
            "391/391 [==============================] - 3s 7ms/step - loss: 2.2842 - accuracy: 0.3908 - val_loss: 2.6825 - val_accuracy: 0.3324\n",
            "Epoch 17/20\n",
            "391/391 [==============================] - 2s 6ms/step - loss: 2.2771 - accuracy: 0.3919 - val_loss: 2.7600 - val_accuracy: 0.3236\n",
            "Epoch 18/20\n",
            "391/391 [==============================] - 3s 6ms/step - loss: 2.2753 - accuracy: 0.3912 - val_loss: 2.6768 - val_accuracy: 0.3364\n",
            "Epoch 19/20\n",
            "391/391 [==============================] - 2s 6ms/step - loss: 2.2665 - accuracy: 0.3938 - val_loss: 2.6523 - val_accuracy: 0.3402\n",
            "Epoch 20/20\n",
            "391/391 [==============================] - 3s 8ms/step - loss: 2.2651 - accuracy: 0.3926 - val_loss: 2.6561 - val_accuracy: 0.3422\n"
          ]
        }
      ]
    },
    {
      "cell_type": "markdown",
      "metadata": {
        "id": "-vsfjI7S2eCH"
      },
      "source": [
        "## 3. Data Augmentation"
      ]
    },
    {
      "cell_type": "code",
      "metadata": {
        "id": "JGqUrVUa063z"
      },
      "source": [
        "from keras.preprocessing.image import ImageDataGenerator"
      ],
      "execution_count": 51,
      "outputs": []
    },
    {
      "cell_type": "code",
      "metadata": {
        "id": "yjoPmQc32nmw"
      },
      "source": [
        "# Define data generator\n",
        "train_datagen = ImageDataGenerator(\n",
        "    shear_range = 0.2,\n",
        "    zoom_range = 0.2,\n",
        "    horizontal_flip = True,\n",
        "    rotation_range = 10,\n",
        ")"
      ],
      "execution_count": 52,
      "outputs": []
    },
    {
      "cell_type": "code",
      "metadata": {
        "id": "DeXelmgq6IkN"
      },
      "source": [
        "# Function to convert a categorical class to its corresponding string\n",
        "def class_to_string(class_int):\n",
        "    class_names = [\n",
        "    'apple', 'aquarium_fish', 'baby', 'bear', 'beaver', 'bed', 'bee', 'beetle', 'bicycle', 'bottle',\n",
        "    'bowl', 'boy', 'bridge', 'bus', 'butterfly', 'camel', 'can', 'castle', 'caterpillar', 'cattle',\n",
        "    'chair', 'chimpanzee', 'clock', 'cloud', 'cockroach', 'couch', 'crab', 'crocodile', 'cup',\n",
        "    'dinosaur', 'dolphin', 'elephant', 'flatfish', 'forest', 'fox', 'girl', 'hamster', 'house', 'kangaroo',\n",
        "    'keyboard', 'lamp', 'lawn_mower', 'leopard', 'lion', 'lizard', 'lobster', 'man', 'maple_tree',\n",
        "    'motorcycle', 'mountain', 'mouse', 'mushroom', 'oak_tree', 'orange', 'orchid', 'otter', 'palm_tree',\n",
        "    'pear', 'pickup_truck', 'pine_tree', 'plain', 'plate', 'poppy', 'porcupine', 'possum', 'rabbit',\n",
        "    'raccoon', 'ray', 'road', 'rocket', 'rose', 'sea', 'seal', 'shark', 'shrew', 'skunk',\n",
        "    'skyscraper', 'snail', 'snake', 'spider', 'squirrel', 'streetcar', 'sunflower', 'sweet_pepper', 'table', 'tank',\n",
        "    'telephone', 'television', 'tiger', 'tractor', 'train', 'trout', 'tulip', 'turtle', 'wardrobe', 'whale',\n",
        "    'willow_tree', 'wolf', 'woman', 'worm']\n",
        "    return class_names[class_int]"
      ],
      "execution_count": 53,
      "outputs": []
    },
    {
      "cell_type": "code",
      "metadata": {
        "id": "VgMWPtwx6fTF"
      },
      "source": [
        "plt.rcParams['figure.figsize'] = (10,10)  # Configure figure size for \n",
        "                                          # appropriate visualization"
      ],
      "execution_count": 54,
      "outputs": []
    },
    {
      "cell_type": "code",
      "metadata": {
        "id": "1gp_wWxK3xc5",
        "colab": {
          "base_uri": "https://localhost:8080/",
          "height": 853
        },
        "outputId": "49c71518-6a82-4172-bf92-41362562e463"
      },
      "source": [
        "# Show generated data\n",
        "iterator = train_datagen.flow(X_train_fl, y_train_oh, batch_size=9)\n",
        "samples, labels = next(iterator)\n",
        "for i in range(9):\n",
        "    plt.subplot(3,3,i+1)\n",
        "    plt.imshow(samples[i], interpolation='none')\n",
        "    class_str = class_to_string(np.argmax(labels[i]))\n",
        "    plt.title(\"Class: \" + class_str)"
      ],
      "execution_count": 62,
      "outputs": [
        {
          "output_type": "display_data",
          "data": {
            "text/plain": [
              "<Figure size 1000x1000 with 9 Axes>"
            ],
            "image/png": "[encoded data removed]"
          },
          "metadata": {}
        }
      ]
    },
    {
      "cell_type": "code",
      "metadata": {
        "id": "Kj3tqJnv74Yn",
        "colab": {
          "base_uri": "https://localhost:8080/"
        },
        "outputId": "0de1eb06-5895-469e-9134-403f96f4973d"
      },
      "source": [
        "# Compile the model with new learning rate\n",
        "model= Model(inputs=input_layer, outputs=output_layer)\n",
        "model.compile(loss='categorical_crossentropy', optimizer=Adam(lr=0.001),\n",
        "              metrics=['accuracy'])"
      ],
      "execution_count": 56,
      "outputs": [
        {
          "output_type": "stream",
          "name": "stderr",
          "text": [
            "WARNING:absl:`lr` is deprecated in Keras optimizer, please use `learning_rate` or use the legacy optimizer, e.g.,tf.keras.optimizers.legacy.Adam.\n"
          ]
        }
      ]
    },
    {
      "cell_type": "code",
      "metadata": {
        "id": "dW6z6oqi74Yu",
        "colab": {
          "base_uri": "https://localhost:8080/"
        },
        "outputId": "22a70a3f-f484-4af1-d7fe-6e78f6c20777"
      },
      "source": [
        "# Train the model\n",
        "batch_size = 100\n",
        "steps_per_epoch = X_train.shape[0] / batch_size\n",
        "history = model.fit(train_datagen.flow(X_train_fl, y_train_oh, \n",
        "                                                 batch_size=batch_size), \n",
        "                              epochs=20,\n",
        "                              steps_per_epoch=steps_per_epoch, \n",
        "                              validation_data=(X_val, y_val))"
      ],
      "execution_count": 58,
      "outputs": [
        {
          "output_type": "stream",
          "name": "stdout",
          "text": [
            "Epoch 1/20\n",
            "500/500 [==============================] - 26s 52ms/step - loss: 3.9263 - accuracy: 0.0970 - val_loss: 3.6086 - val_accuracy: 0.1622\n",
            "Epoch 2/20\n",
            "500/500 [==============================] - 25s 50ms/step - loss: 3.6632 - accuracy: 0.1416 - val_loss: 3.4817 - val_accuracy: 0.1792\n",
            "Epoch 3/20\n",
            "500/500 [==============================] - 25s 51ms/step - loss: 3.5089 - accuracy: 0.1666 - val_loss: 3.3070 - val_accuracy: 0.2134\n",
            "Epoch 4/20\n",
            "500/500 [==============================] - 26s 52ms/step - loss: 3.4087 - accuracy: 0.1829 - val_loss: 3.2022 - val_accuracy: 0.2332\n",
            "Epoch 5/20\n",
            "500/500 [==============================] - 25s 50ms/step - loss: 3.3317 - accuracy: 0.1958 - val_loss: 3.1423 - val_accuracy: 0.2416\n",
            "Epoch 6/20\n",
            "500/500 [==============================] - 25s 50ms/step - loss: 3.2830 - accuracy: 0.2059 - val_loss: 3.1035 - val_accuracy: 0.2508\n",
            "Epoch 7/20\n",
            "500/500 [==============================] - 25s 49ms/step - loss: 3.2383 - accuracy: 0.2162 - val_loss: 3.0586 - val_accuracy: 0.2606\n",
            "Epoch 8/20\n",
            "500/500 [==============================] - 25s 49ms/step - loss: 3.2082 - accuracy: 0.2183 - val_loss: 3.0055 - val_accuracy: 0.2666\n",
            "Epoch 9/20\n",
            "500/500 [==============================] - 25s 49ms/step - loss: 3.1679 - accuracy: 0.2254 - val_loss: 3.0227 - val_accuracy: 0.2624\n",
            "Epoch 10/20\n",
            "500/500 [==============================] - 25s 49ms/step - loss: 3.1581 - accuracy: 0.2279 - val_loss: 2.9940 - val_accuracy: 0.2666\n",
            "Epoch 11/20\n",
            "500/500 [==============================] - 25s 50ms/step - loss: 3.1361 - accuracy: 0.2337 - val_loss: 2.9469 - val_accuracy: 0.2788\n",
            "Epoch 12/20\n",
            "500/500 [==============================] - 25s 50ms/step - loss: 3.1091 - accuracy: 0.2357 - val_loss: 2.9529 - val_accuracy: 0.2738\n",
            "Epoch 13/20\n",
            "500/500 [==============================] - 24s 49ms/step - loss: 3.0920 - accuracy: 0.2407 - val_loss: 2.8775 - val_accuracy: 0.2874\n",
            "Epoch 14/20\n",
            "500/500 [==============================] - 25s 50ms/step - loss: 3.0704 - accuracy: 0.2441 - val_loss: 2.8972 - val_accuracy: 0.2866\n",
            "Epoch 15/20\n",
            "500/500 [==============================] - 26s 53ms/step - loss: 3.0650 - accuracy: 0.2482 - val_loss: 2.9119 - val_accuracy: 0.2866\n",
            "Epoch 16/20\n",
            "500/500 [==============================] - 25s 49ms/step - loss: 3.0483 - accuracy: 0.2470 - val_loss: 2.8688 - val_accuracy: 0.2934\n",
            "Epoch 17/20\n",
            "500/500 [==============================] - 25s 50ms/step - loss: 3.0340 - accuracy: 0.2520 - val_loss: 2.8523 - val_accuracy: 0.2968\n",
            "Epoch 18/20\n",
            "500/500 [==============================] - 25s 51ms/step - loss: 3.0179 - accuracy: 0.2554 - val_loss: 2.8648 - val_accuracy: 0.2900\n",
            "Epoch 19/20\n",
            "500/500 [==============================] - 26s 51ms/step - loss: 3.0152 - accuracy: 0.2546 - val_loss: 2.8472 - val_accuracy: 0.2916\n",
            "Epoch 20/20\n",
            "500/500 [==============================] - 26s 51ms/step - loss: 3.0004 - accuracy: 0.2570 - val_loss: 2.9409 - val_accuracy: 0.2772\n"
          ]
        }
      ]
    },
    {
      "cell_type": "code",
      "metadata": {
        "id": "TGTb98saDb6J",
        "colab": {
          "base_uri": "https://localhost:8080/",
          "height": 1000
        },
        "outputId": "bc48f4a1-00ee-409b-9d55-1aaa12dd7b2d"
      },
      "source": [
        "# Train the model\n",
        "batch_size = 100\n",
        "steps_per_epoch = X_train.shape[0] / batch_size\n",
        "history = model.fit_generator(train_datagen.flow(X_train_fl, y_train_oh, \n",
        "                                                 batch_size=batch_size), \n",
        "                              epochs=100,\n",
        "                              steps_per_epoch=steps_per_epoch, \n",
        "                              validation_data=(X_val, y_val))"
      ],
      "execution_count": 63,
      "outputs": [
        {
          "output_type": "stream",
          "name": "stdout",
          "text": [
            "Epoch 1/100\n",
            "  1/500 [..............................] - ETA: 28s - loss: 2.8185 - accuracy: 0.3000"
          ]
        },
        {
          "output_type": "stream",
          "name": "stderr",
          "text": [
            "<ipython-input-63-ffd31a9f8c82>:4: UserWarning: `Model.fit_generator` is deprecated and will be removed in a future version. Please use `Model.fit`, which supports generators.\n",
            "  history = model.fit_generator(train_datagen.flow(X_train_fl, y_train_oh,\n"
          ]
        },
        {
          "output_type": "stream",
          "name": "stdout",
          "text": [
            "500/500 [==============================] - 26s 51ms/step - loss: 2.9735 - accuracy: 0.2647 - val_loss: 2.7787 - val_accuracy: 0.3050\n",
            "Epoch 2/100\n",
            "500/500 [==============================] - 25s 50ms/step - loss: 2.9608 - accuracy: 0.2650 - val_loss: 2.8214 - val_accuracy: 0.2938\n",
            "Epoch 3/100\n",
            "500/500 [==============================] - 25s 50ms/step - loss: 2.9553 - accuracy: 0.2674 - val_loss: 2.8089 - val_accuracy: 0.3000\n",
            "Epoch 4/100\n",
            "500/500 [==============================] - 25s 50ms/step - loss: 2.9384 - accuracy: 0.2673 - val_loss: 2.7655 - val_accuracy: 0.3028\n",
            "Epoch 5/100\n",
            "500/500 [==============================] - 25s 49ms/step - loss: 2.9354 - accuracy: 0.2680 - val_loss: 2.8068 - val_accuracy: 0.2950\n",
            "Epoch 6/100\n",
            "500/500 [==============================] - 25s 50ms/step - loss: 2.9207 - accuracy: 0.2709 - val_loss: 2.7800 - val_accuracy: 0.3038\n",
            "Epoch 7/100\n",
            "500/500 [==============================] - 25s 50ms/step - loss: 2.9185 - accuracy: 0.2726 - val_loss: 2.7167 - val_accuracy: 0.3214\n",
            "Epoch 8/100\n",
            "500/500 [==============================] - 25s 51ms/step - loss: 2.9186 - accuracy: 0.2715 - val_loss: 2.7139 - val_accuracy: 0.3144\n",
            "Epoch 9/100\n",
            "500/500 [==============================] - 25s 50ms/step - loss: 2.9025 - accuracy: 0.2746 - val_loss: 2.8212 - val_accuracy: 0.2926\n",
            "Epoch 10/100\n",
            "500/500 [==============================] - 26s 52ms/step - loss: 2.8877 - accuracy: 0.2801 - val_loss: 2.7247 - val_accuracy: 0.3120\n",
            "Epoch 11/100\n",
            "500/500 [==============================] - 25s 50ms/step - loss: 2.8951 - accuracy: 0.2781 - val_loss: 2.7065 - val_accuracy: 0.3192\n",
            "Epoch 12/100\n",
            "500/500 [==============================] - 25s 50ms/step - loss: 2.8781 - accuracy: 0.2839 - val_loss: 2.6939 - val_accuracy: 0.3220\n",
            "Epoch 13/100\n",
            "500/500 [==============================] - 25s 50ms/step - loss: 2.8748 - accuracy: 0.2774 - val_loss: 2.7275 - val_accuracy: 0.3116\n",
            "Epoch 14/100\n",
            "500/500 [==============================] - 25s 49ms/step - loss: 2.8646 - accuracy: 0.2818 - val_loss: 2.6817 - val_accuracy: 0.3210\n",
            "Epoch 15/100\n",
            "500/500 [==============================] - 25s 50ms/step - loss: 2.8675 - accuracy: 0.2802 - val_loss: 2.7069 - val_accuracy: 0.3172\n",
            "Epoch 16/100\n",
            "500/500 [==============================] - 26s 51ms/step - loss: 2.8511 - accuracy: 0.2831 - val_loss: 2.6909 - val_accuracy: 0.3250\n",
            "Epoch 17/100\n",
            "500/500 [==============================] - 26s 51ms/step - loss: 2.8516 - accuracy: 0.2843 - val_loss: 2.6792 - val_accuracy: 0.3248\n",
            "Epoch 18/100\n",
            "500/500 [==============================] - 25s 51ms/step - loss: 2.8452 - accuracy: 0.2841 - val_loss: 2.7296 - val_accuracy: 0.3216\n",
            "Epoch 19/100\n",
            "500/500 [==============================] - 26s 53ms/step - loss: 2.8452 - accuracy: 0.2884 - val_loss: 2.6437 - val_accuracy: 0.3288\n",
            "Epoch 20/100\n",
            "500/500 [==============================] - 25s 50ms/step - loss: 2.8418 - accuracy: 0.2893 - val_loss: 2.6515 - val_accuracy: 0.3298\n",
            "Epoch 21/100\n",
            "500/500 [==============================] - 25s 50ms/step - loss: 2.8313 - accuracy: 0.2885 - val_loss: 2.6518 - val_accuracy: 0.3306\n",
            "Epoch 22/100\n",
            "500/500 [==============================] - 25s 50ms/step - loss: 2.8292 - accuracy: 0.2885 - val_loss: 2.6496 - val_accuracy: 0.3254\n",
            "Epoch 23/100\n",
            "500/500 [==============================] - 25s 50ms/step - loss: 2.8289 - accuracy: 0.2899 - val_loss: 2.6652 - val_accuracy: 0.3276\n",
            "Epoch 24/100\n",
            "500/500 [==============================] - 25s 50ms/step - loss: 2.8167 - accuracy: 0.2935 - val_loss: 2.7237 - val_accuracy: 0.3072\n",
            "Epoch 25/100\n",
            "500/500 [==============================] - 25s 50ms/step - loss: 2.8157 - accuracy: 0.2930 - val_loss: 2.6302 - val_accuracy: 0.3316\n",
            "Epoch 26/100\n",
            "500/500 [==============================] - 25s 51ms/step - loss: 2.8054 - accuracy: 0.2932 - val_loss: 2.6336 - val_accuracy: 0.3294\n",
            "Epoch 27/100\n",
            "500/500 [==============================] - 24s 49ms/step - loss: 2.8070 - accuracy: 0.2931 - val_loss: 2.6797 - val_accuracy: 0.3214\n",
            "Epoch 28/100\n",
            "500/500 [==============================] - 26s 52ms/step - loss: 2.7986 - accuracy: 0.2946 - val_loss: 2.6777 - val_accuracy: 0.3268\n",
            "Epoch 29/100\n",
            "500/500 [==============================] - 25s 50ms/step - loss: 2.8068 - accuracy: 0.2930 - val_loss: 2.6816 - val_accuracy: 0.3202\n",
            "Epoch 30/100\n",
            "436/500 [=========================>....] - ETA: 3s - loss: 2.8024 - accuracy: 0.2946"
          ]
        },
        {
          "output_type": "error",
          "ename": "KeyboardInterrupt",
          "evalue": "ignored",
          "traceback": [
            "\u001b[0;31m---------------------------------------------------------------------------\u001b[0m",
            "\u001b[0;31mKeyboardInterrupt\u001b[0m                         Traceback (most recent call last)",
            "\u001b[0;32m<ipython-input-63-ffd31a9f8c82>\u001b[0m in \u001b[0;36m<cell line: 4>\u001b[0;34m()\u001b[0m\n\u001b[1;32m      2\u001b[0m \u001b[0mbatch_size\u001b[0m \u001b[0;34m=\u001b[0m \u001b[0;36m100\u001b[0m\u001b[0;34m\u001b[0m\u001b[0;34m\u001b[0m\u001b[0m\n\u001b[1;32m      3\u001b[0m \u001b[0msteps_per_epoch\u001b[0m \u001b[0;34m=\u001b[0m \u001b[0mX_train\u001b[0m\u001b[0;34m.\u001b[0m\u001b[0mshape\u001b[0m\u001b[0;34m[\u001b[0m\u001b[0;36m0\u001b[0m\u001b[0;34m]\u001b[0m \u001b[0;34m/\u001b[0m \u001b[0mbatch_size\u001b[0m\u001b[0;34m\u001b[0m\u001b[0;34m\u001b[0m\u001b[0m\n\u001b[0;32m----> 4\u001b[0;31m history = model.fit_generator(train_datagen.flow(X_train_fl, y_train_oh, \n\u001b[0m\u001b[1;32m      5\u001b[0m                                                  batch_size=batch_size), \n\u001b[1;32m      6\u001b[0m                               \u001b[0mepochs\u001b[0m\u001b[0;34m=\u001b[0m\u001b[0;36m100\u001b[0m\u001b[0;34m,\u001b[0m\u001b[0;34m\u001b[0m\u001b[0;34m\u001b[0m\u001b[0m\n",
            "\u001b[0;32m/usr/local/lib/python3.10/dist-packages/keras/engine/training.py\u001b[0m in \u001b[0;36mfit_generator\u001b[0;34m(self, generator, steps_per_epoch, epochs, verbose, callbacks, validation_data, validation_steps, validation_freq, class_weight, max_queue_size, workers, use_multiprocessing, shuffle, initial_epoch)\u001b[0m\n\u001b[1;32m   2634\u001b[0m             \u001b[0mstacklevel\u001b[0m\u001b[0;34m=\u001b[0m\u001b[0;36m2\u001b[0m\u001b[0;34m,\u001b[0m\u001b[0;34m\u001b[0m\u001b[0;34m\u001b[0m\u001b[0m\n\u001b[1;32m   2635\u001b[0m         )\n\u001b[0;32m-> 2636\u001b[0;31m         return self.fit(\n\u001b[0m\u001b[1;32m   2637\u001b[0m             \u001b[0mgenerator\u001b[0m\u001b[0;34m,\u001b[0m\u001b[0;34m\u001b[0m\u001b[0;34m\u001b[0m\u001b[0m\n\u001b[1;32m   2638\u001b[0m             \u001b[0msteps_per_epoch\u001b[0m\u001b[0;34m=\u001b[0m\u001b[0msteps_per_epoch\u001b[0m\u001b[0;34m,\u001b[0m\u001b[0;34m\u001b[0m\u001b[0;34m\u001b[0m\u001b[0m\n",
            "\u001b[0;32m/usr/local/lib/python3.10/dist-packages/keras/utils/traceback_utils.py\u001b[0m in \u001b[0;36merror_handler\u001b[0;34m(*args, **kwargs)\u001b[0m\n\u001b[1;32m     63\u001b[0m         \u001b[0mfiltered_tb\u001b[0m \u001b[0;34m=\u001b[0m \u001b[0;32mNone\u001b[0m\u001b[0;34m\u001b[0m\u001b[0;34m\u001b[0m\u001b[0m\n\u001b[1;32m     64\u001b[0m         \u001b[0;32mtry\u001b[0m\u001b[0;34m:\u001b[0m\u001b[0;34m\u001b[0m\u001b[0;34m\u001b[0m\u001b[0m\n\u001b[0;32m---> 65\u001b[0;31m             \u001b[0;32mreturn\u001b[0m \u001b[0mfn\u001b[0m\u001b[0;34m(\u001b[0m\u001b[0;34m*\u001b[0m\u001b[0margs\u001b[0m\u001b[0;34m,\u001b[0m \u001b[0;34m**\u001b[0m\u001b[0mkwargs\u001b[0m\u001b[0;34m)\u001b[0m\u001b[0;34m\u001b[0m\u001b[0;34m\u001b[0m\u001b[0m\n\u001b[0m\u001b[1;32m     66\u001b[0m         \u001b[0;32mexcept\u001b[0m \u001b[0mException\u001b[0m \u001b[0;32mas\u001b[0m \u001b[0me\u001b[0m\u001b[0;34m:\u001b[0m\u001b[0;34m\u001b[0m\u001b[0;34m\u001b[0m\u001b[0m\n\u001b[1;32m     67\u001b[0m             \u001b[0mfiltered_tb\u001b[0m \u001b[0;34m=\u001b[0m \u001b[0m_process_traceback_frames\u001b[0m\u001b[0;34m(\u001b[0m\u001b[0me\u001b[0m\u001b[0;34m.\u001b[0m\u001b[0m__traceback__\u001b[0m\u001b[0;34m)\u001b[0m\u001b[0;34m\u001b[0m\u001b[0;34m\u001b[0m\u001b[0m\n",
            "\u001b[0;32m/usr/local/lib/python3.10/dist-packages/keras/engine/training.py\u001b[0m in \u001b[0;36mfit\u001b[0;34m(self, x, y, batch_size, epochs, verbose, callbacks, validation_split, validation_data, shuffle, class_weight, sample_weight, initial_epoch, steps_per_epoch, validation_steps, validation_batch_size, validation_freq, max_queue_size, workers, use_multiprocessing)\u001b[0m\n\u001b[1;32m   1683\u001b[0m                         ):\n\u001b[1;32m   1684\u001b[0m                             \u001b[0mcallbacks\u001b[0m\u001b[0;34m.\u001b[0m\u001b[0mon_train_batch_begin\u001b[0m\u001b[0;34m(\u001b[0m\u001b[0mstep\u001b[0m\u001b[0;34m)\u001b[0m\u001b[0;34m\u001b[0m\u001b[0;34m\u001b[0m\u001b[0m\n\u001b[0;32m-> 1685\u001b[0;31m                             \u001b[0mtmp_logs\u001b[0m \u001b[0;34m=\u001b[0m \u001b[0mself\u001b[0m\u001b[0;34m.\u001b[0m\u001b[0mtrain_function\u001b[0m\u001b[0;34m(\u001b[0m\u001b[0miterator\u001b[0m\u001b[0;34m)\u001b[0m\u001b[0;34m\u001b[0m\u001b[0;34m\u001b[0m\u001b[0m\n\u001b[0m\u001b[1;32m   1686\u001b[0m                             \u001b[0;32mif\u001b[0m \u001b[0mdata_handler\u001b[0m\u001b[0;34m.\u001b[0m\u001b[0mshould_sync\u001b[0m\u001b[0;34m:\u001b[0m\u001b[0;34m\u001b[0m\u001b[0;34m\u001b[0m\u001b[0m\n\u001b[1;32m   1687\u001b[0m                                 \u001b[0mcontext\u001b[0m\u001b[0;34m.\u001b[0m\u001b[0masync_wait\u001b[0m\u001b[0;34m(\u001b[0m\u001b[0;34m)\u001b[0m\u001b[0;34m\u001b[0m\u001b[0;34m\u001b[0m\u001b[0m\n",
            "\u001b[0;32m/usr/local/lib/python3.10/dist-packages/tensorflow/python/util/traceback_utils.py\u001b[0m in \u001b[0;36merror_handler\u001b[0;34m(*args, **kwargs)\u001b[0m\n\u001b[1;32m    148\u001b[0m     \u001b[0mfiltered_tb\u001b[0m \u001b[0;34m=\u001b[0m \u001b[0;32mNone\u001b[0m\u001b[0;34m\u001b[0m\u001b[0;34m\u001b[0m\u001b[0m\n\u001b[1;32m    149\u001b[0m     \u001b[0;32mtry\u001b[0m\u001b[0;34m:\u001b[0m\u001b[0;34m\u001b[0m\u001b[0;34m\u001b[0m\u001b[0m\n\u001b[0;32m--> 150\u001b[0;31m       \u001b[0;32mreturn\u001b[0m \u001b[0mfn\u001b[0m\u001b[0;34m(\u001b[0m\u001b[0;34m*\u001b[0m\u001b[0margs\u001b[0m\u001b[0;34m,\u001b[0m \u001b[0;34m**\u001b[0m\u001b[0mkwargs\u001b[0m\u001b[0;34m)\u001b[0m\u001b[0;34m\u001b[0m\u001b[0;34m\u001b[0m\u001b[0m\n\u001b[0m\u001b[1;32m    151\u001b[0m     \u001b[0;32mexcept\u001b[0m \u001b[0mException\u001b[0m \u001b[0;32mas\u001b[0m \u001b[0me\u001b[0m\u001b[0;34m:\u001b[0m\u001b[0;34m\u001b[0m\u001b[0;34m\u001b[0m\u001b[0m\n\u001b[1;32m    152\u001b[0m       \u001b[0mfiltered_tb\u001b[0m \u001b[0;34m=\u001b[0m \u001b[0m_process_traceback_frames\u001b[0m\u001b[0;34m(\u001b[0m\u001b[0me\u001b[0m\u001b[0;34m.\u001b[0m\u001b[0m__traceback__\u001b[0m\u001b[0;34m)\u001b[0m\u001b[0;34m\u001b[0m\u001b[0;34m\u001b[0m\u001b[0m\n",
            "\u001b[0;32m/usr/local/lib/python3.10/dist-packages/tensorflow/python/eager/polymorphic_function/polymorphic_function.py\u001b[0m in \u001b[0;36m__call__\u001b[0;34m(self, *args, **kwds)\u001b[0m\n\u001b[1;32m    892\u001b[0m \u001b[0;34m\u001b[0m\u001b[0m\n\u001b[1;32m    893\u001b[0m       \u001b[0;32mwith\u001b[0m \u001b[0mOptionalXlaContext\u001b[0m\u001b[0;34m(\u001b[0m\u001b[0mself\u001b[0m\u001b[0;34m.\u001b[0m\u001b[0m_jit_compile\u001b[0m\u001b[0;34m)\u001b[0m\u001b[0;34m:\u001b[0m\u001b[0;34m\u001b[0m\u001b[0;34m\u001b[0m\u001b[0m\n\u001b[0;32m--> 894\u001b[0;31m         \u001b[0mresult\u001b[0m \u001b[0;34m=\u001b[0m \u001b[0mself\u001b[0m\u001b[0;34m.\u001b[0m\u001b[0m_call\u001b[0m\u001b[0;34m(\u001b[0m\u001b[0;34m*\u001b[0m\u001b[0margs\u001b[0m\u001b[0;34m,\u001b[0m \u001b[0;34m**\u001b[0m\u001b[0mkwds\u001b[0m\u001b[0;34m)\u001b[0m\u001b[0;34m\u001b[0m\u001b[0;34m\u001b[0m\u001b[0m\n\u001b[0m\u001b[1;32m    895\u001b[0m \u001b[0;34m\u001b[0m\u001b[0m\n\u001b[1;32m    896\u001b[0m       \u001b[0mnew_tracing_count\u001b[0m \u001b[0;34m=\u001b[0m \u001b[0mself\u001b[0m\u001b[0;34m.\u001b[0m\u001b[0mexperimental_get_tracing_count\u001b[0m\u001b[0;34m(\u001b[0m\u001b[0;34m)\u001b[0m\u001b[0;34m\u001b[0m\u001b[0;34m\u001b[0m\u001b[0m\n",
            "\u001b[0;32m/usr/local/lib/python3.10/dist-packages/tensorflow/python/eager/polymorphic_function/polymorphic_function.py\u001b[0m in \u001b[0;36m_call\u001b[0;34m(self, *args, **kwds)\u001b[0m\n\u001b[1;32m    924\u001b[0m       \u001b[0;31m# In this case we have created variables on the first call, so we run the\u001b[0m\u001b[0;34m\u001b[0m\u001b[0;34m\u001b[0m\u001b[0m\n\u001b[1;32m    925\u001b[0m       \u001b[0;31m# defunned version which is guaranteed to never create variables.\u001b[0m\u001b[0;34m\u001b[0m\u001b[0;34m\u001b[0m\u001b[0m\n\u001b[0;32m--> 926\u001b[0;31m       \u001b[0;32mreturn\u001b[0m \u001b[0mself\u001b[0m\u001b[0;34m.\u001b[0m\u001b[0m_no_variable_creation_fn\u001b[0m\u001b[0;34m(\u001b[0m\u001b[0;34m*\u001b[0m\u001b[0margs\u001b[0m\u001b[0;34m,\u001b[0m \u001b[0;34m**\u001b[0m\u001b[0mkwds\u001b[0m\u001b[0;34m)\u001b[0m  \u001b[0;31m# pylint: disable=not-callable\u001b[0m\u001b[0;34m\u001b[0m\u001b[0;34m\u001b[0m\u001b[0m\n\u001b[0m\u001b[1;32m    927\u001b[0m     \u001b[0;32melif\u001b[0m \u001b[0mself\u001b[0m\u001b[0;34m.\u001b[0m\u001b[0m_variable_creation_fn\u001b[0m \u001b[0;32mis\u001b[0m \u001b[0;32mnot\u001b[0m \u001b[0;32mNone\u001b[0m\u001b[0;34m:\u001b[0m\u001b[0;34m\u001b[0m\u001b[0;34m\u001b[0m\u001b[0m\n\u001b[1;32m    928\u001b[0m       \u001b[0;31m# Release the lock early so that multiple threads can perform the call\u001b[0m\u001b[0;34m\u001b[0m\u001b[0;34m\u001b[0m\u001b[0m\n",
            "\u001b[0;32m/usr/local/lib/python3.10/dist-packages/tensorflow/python/eager/polymorphic_function/tracing_compiler.py\u001b[0m in \u001b[0;36m__call__\u001b[0;34m(self, *args, **kwargs)\u001b[0m\n\u001b[1;32m    141\u001b[0m       (concrete_function,\n\u001b[1;32m    142\u001b[0m        filtered_flat_args) = self._maybe_define_function(args, kwargs)\n\u001b[0;32m--> 143\u001b[0;31m     return concrete_function._call_flat(\n\u001b[0m\u001b[1;32m    144\u001b[0m         filtered_flat_args, captured_inputs=concrete_function.captured_inputs)  # pylint: disable=protected-access\n\u001b[1;32m    145\u001b[0m \u001b[0;34m\u001b[0m\u001b[0m\n",
            "\u001b[0;32m/usr/local/lib/python3.10/dist-packages/tensorflow/python/eager/polymorphic_function/monomorphic_function.py\u001b[0m in \u001b[0;36m_call_flat\u001b[0;34m(self, args, captured_inputs, cancellation_manager)\u001b[0m\n\u001b[1;32m   1755\u001b[0m         and executing_eagerly):\n\u001b[1;32m   1756\u001b[0m       \u001b[0;31m# No tape is watching; skip to running the function.\u001b[0m\u001b[0;34m\u001b[0m\u001b[0;34m\u001b[0m\u001b[0m\n\u001b[0;32m-> 1757\u001b[0;31m       return self._build_call_outputs(self._inference_function.call(\n\u001b[0m\u001b[1;32m   1758\u001b[0m           ctx, args, cancellation_manager=cancellation_manager))\n\u001b[1;32m   1759\u001b[0m     forward_backward = self._select_forward_and_backward_functions(\n",
            "\u001b[0;32m/usr/local/lib/python3.10/dist-packages/tensorflow/python/eager/polymorphic_function/monomorphic_function.py\u001b[0m in \u001b[0;36mcall\u001b[0;34m(self, ctx, args, cancellation_manager)\u001b[0m\n\u001b[1;32m    379\u001b[0m       \u001b[0;32mwith\u001b[0m \u001b[0m_InterpolateFunctionError\u001b[0m\u001b[0;34m(\u001b[0m\u001b[0mself\u001b[0m\u001b[0;34m)\u001b[0m\u001b[0;34m:\u001b[0m\u001b[0;34m\u001b[0m\u001b[0;34m\u001b[0m\u001b[0m\n\u001b[1;32m    380\u001b[0m         \u001b[0;32mif\u001b[0m \u001b[0mcancellation_manager\u001b[0m \u001b[0;32mis\u001b[0m \u001b[0;32mNone\u001b[0m\u001b[0;34m:\u001b[0m\u001b[0;34m\u001b[0m\u001b[0;34m\u001b[0m\u001b[0m\n\u001b[0;32m--> 381\u001b[0;31m           outputs = execute.execute(\n\u001b[0m\u001b[1;32m    382\u001b[0m               \u001b[0mstr\u001b[0m\u001b[0;34m(\u001b[0m\u001b[0mself\u001b[0m\u001b[0;34m.\u001b[0m\u001b[0msignature\u001b[0m\u001b[0;34m.\u001b[0m\u001b[0mname\u001b[0m\u001b[0;34m)\u001b[0m\u001b[0;34m,\u001b[0m\u001b[0;34m\u001b[0m\u001b[0;34m\u001b[0m\u001b[0m\n\u001b[1;32m    383\u001b[0m               \u001b[0mnum_outputs\u001b[0m\u001b[0;34m=\u001b[0m\u001b[0mself\u001b[0m\u001b[0;34m.\u001b[0m\u001b[0m_num_outputs\u001b[0m\u001b[0;34m,\u001b[0m\u001b[0;34m\u001b[0m\u001b[0;34m\u001b[0m\u001b[0m\n",
            "\u001b[0;32m/usr/local/lib/python3.10/dist-packages/tensorflow/python/eager/execute.py\u001b[0m in \u001b[0;36mquick_execute\u001b[0;34m(op_name, num_outputs, inputs, attrs, ctx, name)\u001b[0m\n\u001b[1;32m     50\u001b[0m   \u001b[0;32mtry\u001b[0m\u001b[0;34m:\u001b[0m\u001b[0;34m\u001b[0m\u001b[0;34m\u001b[0m\u001b[0m\n\u001b[1;32m     51\u001b[0m     \u001b[0mctx\u001b[0m\u001b[0;34m.\u001b[0m\u001b[0mensure_initialized\u001b[0m\u001b[0;34m(\u001b[0m\u001b[0;34m)\u001b[0m\u001b[0;34m\u001b[0m\u001b[0;34m\u001b[0m\u001b[0m\n\u001b[0;32m---> 52\u001b[0;31m     tensors = pywrap_tfe.TFE_Py_Execute(ctx._handle, device_name, op_name,\n\u001b[0m\u001b[1;32m     53\u001b[0m                                         inputs, attrs, num_outputs)\n\u001b[1;32m     54\u001b[0m   \u001b[0;32mexcept\u001b[0m \u001b[0mcore\u001b[0m\u001b[0;34m.\u001b[0m\u001b[0m_NotOkStatusException\u001b[0m \u001b[0;32mas\u001b[0m \u001b[0me\u001b[0m\u001b[0;34m:\u001b[0m\u001b[0;34m\u001b[0m\u001b[0;34m\u001b[0m\u001b[0m\n",
            "\u001b[0;31mKeyboardInterrupt\u001b[0m: "
          ]
        }
      ]
    },
    {
      "cell_type": "markdown",
      "metadata": {
        "id": "ZBnVN5aoL_MJ"
      },
      "source": [
        "## 4. Transfer Learning"
      ]
    },
    {
      "cell_type": "code",
      "metadata": {
        "id": "VaqBTy80-PfP"
      },
      "source": [
        "# Import dependences for transfer learning\n",
        "from tensorflow.keras.applications import ResNet50\n",
        "from keras.models import Sequential\n",
        "from keras.layers import UpSampling2D\n",
        "from tensorflow.keras.optimizers import RMSprop"
      ],
      "execution_count": 64,
      "outputs": []
    },
    {
      "cell_type": "code",
      "metadata": {
        "id": "aoz0Dt6SV3QN"
      },
      "source": [
        "# Define the model\n",
        "resnet_model = ResNet50(weights='imagenet', include_top=False, \n",
        "                        input_shape=(256, 256, 3))\n",
        "model = Sequential()\n",
        "model.add(UpSampling2D((2,2)))\n",
        "model.add(UpSampling2D((2,2)))\n",
        "model.add(UpSampling2D((2,2)))\n",
        "model.add(resnet_model)\n",
        "model.add(Flatten())\n",
        "model.add(BatchNormalization())\n",
        "model.add(Dense(128, activation='relu'))\n",
        "model.add(Dropout(0.5))\n",
        "model.add(BatchNormalization())\n",
        "model.add(Dense(64, activation='relu'))\n",
        "model.add(Dropout(0.5))\n",
        "model.add(BatchNormalization())\n",
        "model.add(Dense(100, activation='softmax'))"
      ],
      "execution_count": 68,
      "outputs": []
    },
    {
      "cell_type": "code",
      "metadata": {
        "id": "arWFKw9yZF9k",
        "colab": {
          "base_uri": "https://localhost:8080/"
        },
        "outputId": "9514b048-e314-4fbf-cf69-bd539ace5430"
      },
      "source": [
        "# Compile the model\n",
        "model.compile(optimizer=RMSprop(lr=2e-5), loss='categorical_crossentropy', \n",
        "              metrics=['acc'])"
      ],
      "execution_count": 69,
      "outputs": [
        {
          "output_type": "stream",
          "name": "stderr",
          "text": [
            "WARNING:absl:`lr` is deprecated in Keras optimizer, please use `learning_rate` or use the legacy optimizer, e.g.,tf.keras.optimizers.legacy.RMSprop.\n"
          ]
        }
      ]
    },
    {
      "cell_type": "code",
      "metadata": {
        "id": "Q4zR1iAiZQbO",
        "colab": {
          "base_uri": "https://localhost:8080/"
        },
        "outputId": "01ff2509-393a-4af8-cab3-169544ad4726"
      },
      "source": [
        "# Train the model\n",
        "history = model.fit(X_train_fl, y_train_oh, epochs=5, batch_size=50, \n",
        "                    validation_data=(X_val, y_val))"
      ],
      "execution_count": null,
      "outputs": [
        {
          "output_type": "stream",
          "name": "stdout",
          "text": [
            "Epoch 1/5\n",
            "1000/1000 [==============================] - 641s 605ms/step - loss: 4.5608 - acc: 0.0251 - val_loss: 4.6179 - val_acc: 0.0142\n",
            "Epoch 2/5\n",
            " 580/1000 [================>.............] - ETA: 4:06 - loss: 4.2138 - acc: 0.0509"
          ]
        }
      ]
    },
    {
      "cell_type": "code",
      "metadata": {
        "id": "zp2NFx0MiXPz"
      },
      "source": [
        "# Train the model\n",
        "batch_size = 20\n",
        "steps_per_epoch = X_train.shape[0] / batch_size\n",
        "history = model.fit_generator(train_datagen.flow(X_train_fl, y_train_oh, \n",
        "                                                 batch_size=batch_size), \n",
        "                              epochs=5,\n",
        "                              steps_per_epoch=steps_per_epoch, \n",
        "                              validation_data=(X_val, y_val))"
      ],
      "execution_count": null,
      "outputs": []
    },
    {
      "cell_type": "markdown",
      "metadata": {
        "id": "L9_3YAJta7x0"
      },
      "source": [
        "# Exercise 1: Experiment with other pre-trained models to evaluate results"
      ]
    },
    {
      "cell_type": "code",
      "metadata": {
        "id": "t2ZhdVS-iNOA"
      },
      "source": [
        "# Import dependences for transfer learning\n",
        "from tensorflow.keras.applications import EfficientNetV2S\n",
        "from keras.models import Sequential\n",
        "from keras.layers import UpSampling2D\n",
        "from tensorflow.keras.optimizers import RMSprop"
      ],
      "execution_count": null,
      "outputs": []
    },
    {
      "cell_type": "code",
      "source": [
        "# Define the model\n",
        "EffNet_model = EfficientNetV2S(weights='imagenet', include_top=False, \n",
        "                        input_shape=(256, 256, 3))\n",
        "model = Sequential()\n",
        "model.add(UpSampling2D((2,2)))\n",
        "model.add(UpSampling2D((2,2)))\n",
        "model.add(UpSampling2D((2,2)))\n",
        "model.add(EffNet_model)\n",
        "model.add(Flatten())\n",
        "model.add(BatchNormalization())\n",
        "model.add(Dense(128, activation='relu'))\n",
        "model.add(Dropout(0.5))\n",
        "model.add(BatchNormalization())\n",
        "model.add(Dense(64, activation='relu'))\n",
        "model.add(Dropout(0.5))\n",
        "model.add(BatchNormalization())\n",
        "model.add(Dense(10, activation='softmax'))"
      ],
      "metadata": {
        "id": "378bnWdOCc0s",
        "outputId": "f6aec9ed-9f3f-4c85-a395-8d2e3c6bdd13",
        "colab": {
          "base_uri": "https://localhost:8080/"
        }
      },
      "execution_count": null,
      "outputs": [
        {
          "output_type": "stream",
          "name": "stdout",
          "text": [
            "Downloading data from https://storage.googleapis.com/tensorflow/keras-applications/efficientnet_v2/efficientnetv2-s_notop.h5\n",
            "82420632/82420632 [==============================] - 1s 0us/step\n"
          ]
        }
      ]
    },
    {
      "cell_type": "code",
      "source": [
        "# Compile the model\n",
        "model.compile(optimizer=RMSprop(lr=2e-5), loss='categorical_crossentropy', \n",
        "              metrics=['acc'])"
      ],
      "metadata": {
        "id": "V42Ot9KFCpm7",
        "outputId": "9107705e-ee46-4af5-bb0a-cfa39bd5dd9d",
        "colab": {
          "base_uri": "https://localhost:8080/"
        }
      },
      "execution_count": null,
      "outputs": [
        {
          "output_type": "stream",
          "name": "stderr",
          "text": [
            "WARNING:absl:`lr` is deprecated in Keras optimizer, please use `learning_rate` or use the legacy optimizer, e.g.,tf.keras.optimizers.legacy.RMSprop.\n"
          ]
        }
      ]
    },
    {
      "cell_type": "code",
      "source": [
        "# Train the model\n",
        "history = model.fit(X_train_fl, y_train_oh, epochs=5, batch_size=50, \n",
        "                    validation_data=(X_val, y_val))"
      ],
      "metadata": {
        "id": "ae8PNm3cCrvj",
        "outputId": "d5519495-5123-4807-9f16-943b266cd683",
        "colab": {
          "base_uri": "https://localhost:8080/"
        }
      },
      "execution_count": null,
      "outputs": [
        {
          "output_type": "stream",
          "name": "stdout",
          "text": [
            "Epoch 1/5\n",
            "1000/1000 [==============================] - 1085s 1s/step - loss: 0.8097 - acc: 0.7650 - val_loss: 0.8715 - val_acc: 0.7312\n",
            "Epoch 2/5\n",
            "1000/1000 [==============================] - 1000s 1000ms/step - loss: 0.4177 - acc: 0.8841 - val_loss: 0.8869 - val_acc: 0.7350\n",
            "Epoch 3/5\n",
            "1000/1000 [==============================] - 999s 999ms/step - loss: 0.3278 - acc: 0.9117 - val_loss: 0.6549 - val_acc: 0.7830\n",
            "Epoch 4/5\n",
            "1000/1000 [==============================] - 980s 980ms/step - loss: 0.2655 - acc: 0.9292 - val_loss: 0.9227 - val_acc: 0.7350\n",
            "Epoch 5/5\n",
            "1000/1000 [==============================] - 979s 979ms/step - loss: 0.2200 - acc: 0.9409 - val_loss: 2.6999 - val_acc: 0.2076\n"
          ]
        }
      ]
    },
    {
      "cell_type": "markdown",
      "source": [
        "## 1.2 EFFICIENT NET + IMAGE GENERATOR"
      ],
      "metadata": {
        "id": "k8UejRYoIOrG"
      }
    },
    {
      "cell_type": "code",
      "source": [
        "# Import dependences for transfer learning\n",
        "from tensorflow.keras.applications import EfficientNetV2S\n",
        "from keras.models import Sequential\n",
        "from keras.layers import UpSampling2D\n",
        "from tensorflow.keras.optimizers import RMSprop"
      ],
      "metadata": {
        "id": "lncAVnZXI-uV"
      },
      "execution_count": null,
      "outputs": []
    },
    {
      "cell_type": "code",
      "source": [
        "# Define the model\n",
        "EffNet_model = EfficientNetV2S(weights='imagenet', include_top=False, \n",
        "                        input_shape=(256, 256, 3))\n",
        "model = Sequential()\n",
        "model.add(UpSampling2D((2,2)))\n",
        "model.add(UpSampling2D((2,2)))\n",
        "model.add(UpSampling2D((2,2)))\n",
        "model.add(EffNet_model)\n",
        "model.add(Flatten())\n",
        "model.add(BatchNormalization())\n",
        "model.add(Dense(128, activation='relu'))\n",
        "model.add(Dropout(0.5))\n",
        "model.add(BatchNormalization())\n",
        "model.add(Dense(64, activation='relu'))\n",
        "model.add(Dropout(0.5))\n",
        "model.add(BatchNormalization())\n",
        "model.add(Dense(10, activation='softmax'))"
      ],
      "metadata": {
        "id": "zwNGX9QFI9HG"
      },
      "execution_count": null,
      "outputs": []
    },
    {
      "cell_type": "code",
      "source": [
        "from tensorflow.keras.preprocessing.image import ImageDataGenerator\n",
        "\n",
        "# Define data generator\n",
        "train_datagen = ImageDataGenerator(\n",
        "    shear_range = 0.2,\n",
        "    zoom_range = 0.2,\n",
        "    horizontal_flip = True,\n",
        "    rotation_range = 10,\n",
        ")\n",
        "\n",
        "train_generator = train_datagen.flow(X_train_fl, y_train_oh, batch_size=50)\n"
      ],
      "metadata": {
        "id": "JBsxY-bCILLR"
      },
      "execution_count": null,
      "outputs": []
    },
    {
      "cell_type": "code",
      "source": [
        "model.compile(optimizer=RMSprop(lr=2e-5), loss='categorical_crossentropy', metrics=['acc'])\n"
      ],
      "metadata": {
        "id": "Ckqxz3TgJRH_",
        "outputId": "43b3195a-02dc-4024-cd0f-07611628bcf8",
        "colab": {
          "base_uri": "https://localhost:8080/"
        }
      },
      "execution_count": null,
      "outputs": [
        {
          "output_type": "stream",
          "name": "stderr",
          "text": [
            "WARNING:absl:`lr` is deprecated in Keras optimizer, please use `learning_rate` or use the legacy optimizer, e.g.,tf.keras.optimizers.legacy.RMSprop.\n"
          ]
        }
      ]
    },
    {
      "cell_type": "code",
      "source": [
        "history = model.fit(train_generator, epochs=5, validation_data=(X_val, y_val))"
      ],
      "metadata": {
        "id": "3-h7tB4iJS4k",
        "outputId": "d5ab833e-7ab5-4f76-d7b2-3dc0eae85d2a",
        "colab": {
          "base_uri": "https://localhost:8080/",
          "height": 375
        }
      },
      "execution_count": null,
      "outputs": [
        {
          "output_type": "stream",
          "name": "stdout",
          "text": [
            "Epoch 1/5\n",
            "1000/1000 [==============================] - 1078s 1000ms/step - loss: 0.9300 - acc: 0.7198 - val_loss: 1.2931 - val_acc: 0.6184\n",
            "Epoch 2/5\n",
            "  83/1000 [=>............................] - ETA: 14:39 - loss: 0.6002 - acc: 0.8313"
          ]
        },
        {
          "output_type": "error",
          "ename": "KeyboardInterrupt",
          "evalue": "ignored",
          "traceback": [
            "\u001b[0;31m---------------------------------------------------------------------------\u001b[0m",
            "\u001b[0;31mKeyboardInterrupt\u001b[0m                         Traceback (most recent call last)",
            "\u001b[0;32m<ipython-input-21-bc8e97c244a3>\u001b[0m in \u001b[0;36m<cell line: 1>\u001b[0;34m()\u001b[0m\n\u001b[0;32m----> 1\u001b[0;31m \u001b[0mhistory\u001b[0m \u001b[0;34m=\u001b[0m \u001b[0mmodel\u001b[0m\u001b[0;34m.\u001b[0m\u001b[0mfit\u001b[0m\u001b[0;34m(\u001b[0m\u001b[0mtrain_generator\u001b[0m\u001b[0;34m,\u001b[0m \u001b[0mepochs\u001b[0m\u001b[0;34m=\u001b[0m\u001b[0;36m5\u001b[0m\u001b[0;34m,\u001b[0m \u001b[0mvalidation_data\u001b[0m\u001b[0;34m=\u001b[0m\u001b[0;34m(\u001b[0m\u001b[0mX_val\u001b[0m\u001b[0;34m,\u001b[0m \u001b[0my_val\u001b[0m\u001b[0;34m)\u001b[0m\u001b[0;34m)\u001b[0m\u001b[0;34m\u001b[0m\u001b[0;34m\u001b[0m\u001b[0m\n\u001b[0m",
            "\u001b[0;32m/usr/local/lib/python3.10/dist-packages/keras/utils/traceback_utils.py\u001b[0m in \u001b[0;36merror_handler\u001b[0;34m(*args, **kwargs)\u001b[0m\n\u001b[1;32m     63\u001b[0m         \u001b[0mfiltered_tb\u001b[0m \u001b[0;34m=\u001b[0m \u001b[0;32mNone\u001b[0m\u001b[0;34m\u001b[0m\u001b[0;34m\u001b[0m\u001b[0m\n\u001b[1;32m     64\u001b[0m         \u001b[0;32mtry\u001b[0m\u001b[0;34m:\u001b[0m\u001b[0;34m\u001b[0m\u001b[0;34m\u001b[0m\u001b[0m\n\u001b[0;32m---> 65\u001b[0;31m             \u001b[0;32mreturn\u001b[0m \u001b[0mfn\u001b[0m\u001b[0;34m(\u001b[0m\u001b[0;34m*\u001b[0m\u001b[0margs\u001b[0m\u001b[0;34m,\u001b[0m \u001b[0;34m**\u001b[0m\u001b[0mkwargs\u001b[0m\u001b[0;34m)\u001b[0m\u001b[0;34m\u001b[0m\u001b[0;34m\u001b[0m\u001b[0m\n\u001b[0m\u001b[1;32m     66\u001b[0m         \u001b[0;32mexcept\u001b[0m \u001b[0mException\u001b[0m \u001b[0;32mas\u001b[0m \u001b[0me\u001b[0m\u001b[0;34m:\u001b[0m\u001b[0;34m\u001b[0m\u001b[0;34m\u001b[0m\u001b[0m\n\u001b[1;32m     67\u001b[0m             \u001b[0mfiltered_tb\u001b[0m \u001b[0;34m=\u001b[0m \u001b[0m_process_traceback_frames\u001b[0m\u001b[0;34m(\u001b[0m\u001b[0me\u001b[0m\u001b[0;34m.\u001b[0m\u001b[0m__traceback__\u001b[0m\u001b[0;34m)\u001b[0m\u001b[0;34m\u001b[0m\u001b[0;34m\u001b[0m\u001b[0m\n",
            "\u001b[0;32m/usr/local/lib/python3.10/dist-packages/keras/engine/training.py\u001b[0m in \u001b[0;36mfit\u001b[0;34m(self, x, y, batch_size, epochs, verbose, callbacks, validation_split, validation_data, shuffle, class_weight, sample_weight, initial_epoch, steps_per_epoch, validation_steps, validation_batch_size, validation_freq, max_queue_size, workers, use_multiprocessing)\u001b[0m\n\u001b[1;32m   1689\u001b[0m                             \u001b[0mlogs\u001b[0m \u001b[0;34m=\u001b[0m \u001b[0mtmp_logs\u001b[0m\u001b[0;34m\u001b[0m\u001b[0;34m\u001b[0m\u001b[0m\n\u001b[1;32m   1690\u001b[0m                             \u001b[0mend_step\u001b[0m \u001b[0;34m=\u001b[0m \u001b[0mstep\u001b[0m \u001b[0;34m+\u001b[0m \u001b[0mdata_handler\u001b[0m\u001b[0;34m.\u001b[0m\u001b[0mstep_increment\u001b[0m\u001b[0;34m\u001b[0m\u001b[0;34m\u001b[0m\u001b[0m\n\u001b[0;32m-> 1691\u001b[0;31m                             \u001b[0mcallbacks\u001b[0m\u001b[0;34m.\u001b[0m\u001b[0mon_train_batch_end\u001b[0m\u001b[0;34m(\u001b[0m\u001b[0mend_step\u001b[0m\u001b[0;34m,\u001b[0m \u001b[0mlogs\u001b[0m\u001b[0;34m)\u001b[0m\u001b[0;34m\u001b[0m\u001b[0;34m\u001b[0m\u001b[0m\n\u001b[0m\u001b[1;32m   1692\u001b[0m                             \u001b[0;32mif\u001b[0m \u001b[0mself\u001b[0m\u001b[0;34m.\u001b[0m\u001b[0mstop_training\u001b[0m\u001b[0;34m:\u001b[0m\u001b[0;34m\u001b[0m\u001b[0;34m\u001b[0m\u001b[0m\n\u001b[1;32m   1693\u001b[0m                                 \u001b[0;32mbreak\u001b[0m\u001b[0;34m\u001b[0m\u001b[0;34m\u001b[0m\u001b[0m\n",
            "\u001b[0;32m/usr/local/lib/python3.10/dist-packages/keras/callbacks.py\u001b[0m in \u001b[0;36mon_train_batch_end\u001b[0;34m(self, batch, logs)\u001b[0m\n\u001b[1;32m    473\u001b[0m         \"\"\"\n\u001b[1;32m    474\u001b[0m         \u001b[0;32mif\u001b[0m \u001b[0mself\u001b[0m\u001b[0;34m.\u001b[0m\u001b[0m_should_call_train_batch_hooks\u001b[0m\u001b[0;34m:\u001b[0m\u001b[0;34m\u001b[0m\u001b[0;34m\u001b[0m\u001b[0m\n\u001b[0;32m--> 475\u001b[0;31m             \u001b[0mself\u001b[0m\u001b[0;34m.\u001b[0m\u001b[0m_call_batch_hook\u001b[0m\u001b[0;34m(\u001b[0m\u001b[0mModeKeys\u001b[0m\u001b[0;34m.\u001b[0m\u001b[0mTRAIN\u001b[0m\u001b[0;34m,\u001b[0m \u001b[0;34m\"end\"\u001b[0m\u001b[0;34m,\u001b[0m \u001b[0mbatch\u001b[0m\u001b[0;34m,\u001b[0m \u001b[0mlogs\u001b[0m\u001b[0;34m=\u001b[0m\u001b[0mlogs\u001b[0m\u001b[0;34m)\u001b[0m\u001b[0;34m\u001b[0m\u001b[0;34m\u001b[0m\u001b[0m\n\u001b[0m\u001b[1;32m    476\u001b[0m \u001b[0;34m\u001b[0m\u001b[0m\n\u001b[1;32m    477\u001b[0m     \u001b[0;32mdef\u001b[0m \u001b[0mon_test_batch_begin\u001b[0m\u001b[0;34m(\u001b[0m\u001b[0mself\u001b[0m\u001b[0;34m,\u001b[0m \u001b[0mbatch\u001b[0m\u001b[0;34m,\u001b[0m \u001b[0mlogs\u001b[0m\u001b[0;34m=\u001b[0m\u001b[0;32mNone\u001b[0m\u001b[0;34m)\u001b[0m\u001b[0;34m:\u001b[0m\u001b[0;34m\u001b[0m\u001b[0;34m\u001b[0m\u001b[0m\n",
            "\u001b[0;32m/usr/local/lib/python3.10/dist-packages/keras/callbacks.py\u001b[0m in \u001b[0;36m_call_batch_hook\u001b[0;34m(self, mode, hook, batch, logs)\u001b[0m\n\u001b[1;32m    320\u001b[0m             \u001b[0mself\u001b[0m\u001b[0;34m.\u001b[0m\u001b[0m_call_batch_begin_hook\u001b[0m\u001b[0;34m(\u001b[0m\u001b[0mmode\u001b[0m\u001b[0;34m,\u001b[0m \u001b[0mbatch\u001b[0m\u001b[0;34m,\u001b[0m \u001b[0mlogs\u001b[0m\u001b[0;34m)\u001b[0m\u001b[0;34m\u001b[0m\u001b[0;34m\u001b[0m\u001b[0m\n\u001b[1;32m    321\u001b[0m         \u001b[0;32melif\u001b[0m \u001b[0mhook\u001b[0m \u001b[0;34m==\u001b[0m \u001b[0;34m\"end\"\u001b[0m\u001b[0;34m:\u001b[0m\u001b[0;34m\u001b[0m\u001b[0;34m\u001b[0m\u001b[0m\n\u001b[0;32m--> 322\u001b[0;31m             \u001b[0mself\u001b[0m\u001b[0;34m.\u001b[0m\u001b[0m_call_batch_end_hook\u001b[0m\u001b[0;34m(\u001b[0m\u001b[0mmode\u001b[0m\u001b[0;34m,\u001b[0m \u001b[0mbatch\u001b[0m\u001b[0;34m,\u001b[0m \u001b[0mlogs\u001b[0m\u001b[0;34m)\u001b[0m\u001b[0;34m\u001b[0m\u001b[0;34m\u001b[0m\u001b[0m\n\u001b[0m\u001b[1;32m    323\u001b[0m         \u001b[0;32melse\u001b[0m\u001b[0;34m:\u001b[0m\u001b[0;34m\u001b[0m\u001b[0;34m\u001b[0m\u001b[0m\n\u001b[1;32m    324\u001b[0m             raise ValueError(\n",
            "\u001b[0;32m/usr/local/lib/python3.10/dist-packages/keras/callbacks.py\u001b[0m in \u001b[0;36m_call_batch_end_hook\u001b[0;34m(self, mode, batch, logs)\u001b[0m\n\u001b[1;32m    343\u001b[0m             \u001b[0mself\u001b[0m\u001b[0;34m.\u001b[0m\u001b[0m_batch_times\u001b[0m\u001b[0;34m.\u001b[0m\u001b[0mappend\u001b[0m\u001b[0;34m(\u001b[0m\u001b[0mbatch_time\u001b[0m\u001b[0;34m)\u001b[0m\u001b[0;34m\u001b[0m\u001b[0;34m\u001b[0m\u001b[0m\n\u001b[1;32m    344\u001b[0m \u001b[0;34m\u001b[0m\u001b[0m\n\u001b[0;32m--> 345\u001b[0;31m         \u001b[0mself\u001b[0m\u001b[0;34m.\u001b[0m\u001b[0m_call_batch_hook_helper\u001b[0m\u001b[0;34m(\u001b[0m\u001b[0mhook_name\u001b[0m\u001b[0;34m,\u001b[0m \u001b[0mbatch\u001b[0m\u001b[0;34m,\u001b[0m \u001b[0mlogs\u001b[0m\u001b[0;34m)\u001b[0m\u001b[0;34m\u001b[0m\u001b[0;34m\u001b[0m\u001b[0m\n\u001b[0m\u001b[1;32m    346\u001b[0m \u001b[0;34m\u001b[0m\u001b[0m\n\u001b[1;32m    347\u001b[0m         \u001b[0;32mif\u001b[0m \u001b[0mlen\u001b[0m\u001b[0;34m(\u001b[0m\u001b[0mself\u001b[0m\u001b[0;34m.\u001b[0m\u001b[0m_batch_times\u001b[0m\u001b[0;34m)\u001b[0m \u001b[0;34m>=\u001b[0m \u001b[0mself\u001b[0m\u001b[0;34m.\u001b[0m\u001b[0m_num_batches_for_timing_check\u001b[0m\u001b[0;34m:\u001b[0m\u001b[0;34m\u001b[0m\u001b[0;34m\u001b[0m\u001b[0m\n",
            "\u001b[0;32m/usr/local/lib/python3.10/dist-packages/keras/callbacks.py\u001b[0m in \u001b[0;36m_call_batch_hook_helper\u001b[0;34m(self, hook_name, batch, logs)\u001b[0m\n\u001b[1;32m    391\u001b[0m         \u001b[0;32mfor\u001b[0m \u001b[0mcallback\u001b[0m \u001b[0;32min\u001b[0m \u001b[0mself\u001b[0m\u001b[0;34m.\u001b[0m\u001b[0mcallbacks\u001b[0m\u001b[0;34m:\u001b[0m\u001b[0;34m\u001b[0m\u001b[0;34m\u001b[0m\u001b[0m\n\u001b[1;32m    392\u001b[0m             \u001b[0mhook\u001b[0m \u001b[0;34m=\u001b[0m \u001b[0mgetattr\u001b[0m\u001b[0;34m(\u001b[0m\u001b[0mcallback\u001b[0m\u001b[0;34m,\u001b[0m \u001b[0mhook_name\u001b[0m\u001b[0;34m)\u001b[0m\u001b[0;34m\u001b[0m\u001b[0;34m\u001b[0m\u001b[0m\n\u001b[0;32m--> 393\u001b[0;31m             \u001b[0mhook\u001b[0m\u001b[0;34m(\u001b[0m\u001b[0mbatch\u001b[0m\u001b[0;34m,\u001b[0m \u001b[0mlogs\u001b[0m\u001b[0;34m)\u001b[0m\u001b[0;34m\u001b[0m\u001b[0;34m\u001b[0m\u001b[0m\n\u001b[0m\u001b[1;32m    394\u001b[0m \u001b[0;34m\u001b[0m\u001b[0m\n\u001b[1;32m    395\u001b[0m         \u001b[0;32mif\u001b[0m \u001b[0mself\u001b[0m\u001b[0;34m.\u001b[0m\u001b[0m_check_timing\u001b[0m\u001b[0;34m:\u001b[0m\u001b[0;34m\u001b[0m\u001b[0;34m\u001b[0m\u001b[0m\n",
            "\u001b[0;32m/usr/local/lib/python3.10/dist-packages/keras/callbacks.py\u001b[0m in \u001b[0;36mon_train_batch_end\u001b[0;34m(self, batch, logs)\u001b[0m\n\u001b[1;32m   1091\u001b[0m \u001b[0;34m\u001b[0m\u001b[0m\n\u001b[1;32m   1092\u001b[0m     \u001b[0;32mdef\u001b[0m \u001b[0mon_train_batch_end\u001b[0m\u001b[0;34m(\u001b[0m\u001b[0mself\u001b[0m\u001b[0;34m,\u001b[0m \u001b[0mbatch\u001b[0m\u001b[0;34m,\u001b[0m \u001b[0mlogs\u001b[0m\u001b[0;34m=\u001b[0m\u001b[0;32mNone\u001b[0m\u001b[0;34m)\u001b[0m\u001b[0;34m:\u001b[0m\u001b[0;34m\u001b[0m\u001b[0;34m\u001b[0m\u001b[0m\n\u001b[0;32m-> 1093\u001b[0;31m         \u001b[0mself\u001b[0m\u001b[0;34m.\u001b[0m\u001b[0m_batch_update_progbar\u001b[0m\u001b[0;34m(\u001b[0m\u001b[0mbatch\u001b[0m\u001b[0;34m,\u001b[0m \u001b[0mlogs\u001b[0m\u001b[0;34m)\u001b[0m\u001b[0;34m\u001b[0m\u001b[0;34m\u001b[0m\u001b[0m\n\u001b[0m\u001b[1;32m   1094\u001b[0m \u001b[0;34m\u001b[0m\u001b[0m\n\u001b[1;32m   1095\u001b[0m     \u001b[0;32mdef\u001b[0m \u001b[0mon_test_batch_end\u001b[0m\u001b[0;34m(\u001b[0m\u001b[0mself\u001b[0m\u001b[0;34m,\u001b[0m \u001b[0mbatch\u001b[0m\u001b[0;34m,\u001b[0m \u001b[0mlogs\u001b[0m\u001b[0;34m=\u001b[0m\u001b[0;32mNone\u001b[0m\u001b[0;34m)\u001b[0m\u001b[0;34m:\u001b[0m\u001b[0;34m\u001b[0m\u001b[0;34m\u001b[0m\u001b[0m\n",
            "\u001b[0;32m/usr/local/lib/python3.10/dist-packages/keras/callbacks.py\u001b[0m in \u001b[0;36m_batch_update_progbar\u001b[0;34m(self, batch, logs)\u001b[0m\n\u001b[1;32m   1167\u001b[0m         \u001b[0;32mif\u001b[0m \u001b[0mself\u001b[0m\u001b[0;34m.\u001b[0m\u001b[0mverbose\u001b[0m \u001b[0;34m==\u001b[0m \u001b[0;36m1\u001b[0m\u001b[0;34m:\u001b[0m\u001b[0;34m\u001b[0m\u001b[0;34m\u001b[0m\u001b[0m\n\u001b[1;32m   1168\u001b[0m             \u001b[0;31m# Only block async when verbose = 1.\u001b[0m\u001b[0;34m\u001b[0m\u001b[0;34m\u001b[0m\u001b[0m\n\u001b[0;32m-> 1169\u001b[0;31m             \u001b[0mlogs\u001b[0m \u001b[0;34m=\u001b[0m \u001b[0mtf_utils\u001b[0m\u001b[0;34m.\u001b[0m\u001b[0msync_to_numpy_or_python_type\u001b[0m\u001b[0;34m(\u001b[0m\u001b[0mlogs\u001b[0m\u001b[0;34m)\u001b[0m\u001b[0;34m\u001b[0m\u001b[0;34m\u001b[0m\u001b[0m\n\u001b[0m\u001b[1;32m   1170\u001b[0m             \u001b[0mself\u001b[0m\u001b[0;34m.\u001b[0m\u001b[0mprogbar\u001b[0m\u001b[0;34m.\u001b[0m\u001b[0mupdate\u001b[0m\u001b[0;34m(\u001b[0m\u001b[0mself\u001b[0m\u001b[0;34m.\u001b[0m\u001b[0mseen\u001b[0m\u001b[0;34m,\u001b[0m \u001b[0mlist\u001b[0m\u001b[0;34m(\u001b[0m\u001b[0mlogs\u001b[0m\u001b[0;34m.\u001b[0m\u001b[0mitems\u001b[0m\u001b[0;34m(\u001b[0m\u001b[0;34m)\u001b[0m\u001b[0;34m)\u001b[0m\u001b[0;34m,\u001b[0m \u001b[0mfinalize\u001b[0m\u001b[0;34m=\u001b[0m\u001b[0;32mFalse\u001b[0m\u001b[0;34m)\u001b[0m\u001b[0;34m\u001b[0m\u001b[0;34m\u001b[0m\u001b[0m\n\u001b[1;32m   1171\u001b[0m \u001b[0;34m\u001b[0m\u001b[0m\n",
            "\u001b[0;32m/usr/local/lib/python3.10/dist-packages/keras/utils/tf_utils.py\u001b[0m in \u001b[0;36msync_to_numpy_or_python_type\u001b[0;34m(tensors)\u001b[0m\n\u001b[1;32m    678\u001b[0m         \u001b[0;32mreturn\u001b[0m \u001b[0mt\u001b[0m\u001b[0;34m.\u001b[0m\u001b[0mitem\u001b[0m\u001b[0;34m(\u001b[0m\u001b[0;34m)\u001b[0m \u001b[0;32mif\u001b[0m \u001b[0mnp\u001b[0m\u001b[0;34m.\u001b[0m\u001b[0mndim\u001b[0m\u001b[0;34m(\u001b[0m\u001b[0mt\u001b[0m\u001b[0;34m)\u001b[0m \u001b[0;34m==\u001b[0m \u001b[0;36m0\u001b[0m \u001b[0;32melse\u001b[0m \u001b[0mt\u001b[0m\u001b[0;34m\u001b[0m\u001b[0;34m\u001b[0m\u001b[0m\n\u001b[1;32m    679\u001b[0m \u001b[0;34m\u001b[0m\u001b[0m\n\u001b[0;32m--> 680\u001b[0;31m     \u001b[0;32mreturn\u001b[0m \u001b[0mtf\u001b[0m\u001b[0;34m.\u001b[0m\u001b[0mnest\u001b[0m\u001b[0;34m.\u001b[0m\u001b[0mmap_structure\u001b[0m\u001b[0;34m(\u001b[0m\u001b[0m_to_single_numpy_or_python_type\u001b[0m\u001b[0;34m,\u001b[0m \u001b[0mtensors\u001b[0m\u001b[0;34m)\u001b[0m\u001b[0;34m\u001b[0m\u001b[0;34m\u001b[0m\u001b[0m\n\u001b[0m\u001b[1;32m    681\u001b[0m \u001b[0;34m\u001b[0m\u001b[0m\n\u001b[1;32m    682\u001b[0m \u001b[0;34m\u001b[0m\u001b[0m\n",
            "\u001b[0;32m/usr/local/lib/python3.10/dist-packages/tensorflow/python/util/nest.py\u001b[0m in \u001b[0;36mmap_structure\u001b[0;34m(func, *structure, **kwargs)\u001b[0m\n\u001b[1;32m    915\u001b[0m \u001b[0;34m\u001b[0m\u001b[0m\n\u001b[1;32m    916\u001b[0m   return pack_sequence_as(\n\u001b[0;32m--> 917\u001b[0;31m       \u001b[0mstructure\u001b[0m\u001b[0;34m[\u001b[0m\u001b[0;36m0\u001b[0m\u001b[0;34m]\u001b[0m\u001b[0;34m,\u001b[0m \u001b[0;34m[\u001b[0m\u001b[0mfunc\u001b[0m\u001b[0;34m(\u001b[0m\u001b[0;34m*\u001b[0m\u001b[0mx\u001b[0m\u001b[0;34m)\u001b[0m \u001b[0;32mfor\u001b[0m \u001b[0mx\u001b[0m \u001b[0;32min\u001b[0m \u001b[0mentries\u001b[0m\u001b[0;34m]\u001b[0m\u001b[0;34m,\u001b[0m\u001b[0;34m\u001b[0m\u001b[0;34m\u001b[0m\u001b[0m\n\u001b[0m\u001b[1;32m    918\u001b[0m       expand_composites=expand_composites)\n\u001b[1;32m    919\u001b[0m \u001b[0;34m\u001b[0m\u001b[0m\n",
            "\u001b[0;32m/usr/local/lib/python3.10/dist-packages/tensorflow/python/util/nest.py\u001b[0m in \u001b[0;36m<listcomp>\u001b[0;34m(.0)\u001b[0m\n\u001b[1;32m    915\u001b[0m \u001b[0;34m\u001b[0m\u001b[0m\n\u001b[1;32m    916\u001b[0m   return pack_sequence_as(\n\u001b[0;32m--> 917\u001b[0;31m       \u001b[0mstructure\u001b[0m\u001b[0;34m[\u001b[0m\u001b[0;36m0\u001b[0m\u001b[0;34m]\u001b[0m\u001b[0;34m,\u001b[0m \u001b[0;34m[\u001b[0m\u001b[0mfunc\u001b[0m\u001b[0;34m(\u001b[0m\u001b[0;34m*\u001b[0m\u001b[0mx\u001b[0m\u001b[0;34m)\u001b[0m \u001b[0;32mfor\u001b[0m \u001b[0mx\u001b[0m \u001b[0;32min\u001b[0m \u001b[0mentries\u001b[0m\u001b[0;34m]\u001b[0m\u001b[0;34m,\u001b[0m\u001b[0;34m\u001b[0m\u001b[0;34m\u001b[0m\u001b[0m\n\u001b[0m\u001b[1;32m    918\u001b[0m       expand_composites=expand_composites)\n\u001b[1;32m    919\u001b[0m \u001b[0;34m\u001b[0m\u001b[0m\n",
            "\u001b[0;32m/usr/local/lib/python3.10/dist-packages/keras/utils/tf_utils.py\u001b[0m in \u001b[0;36m_to_single_numpy_or_python_type\u001b[0;34m(t)\u001b[0m\n\u001b[1;32m    671\u001b[0m         \u001b[0;31m# Don't turn ragged or sparse tensors to NumPy.\u001b[0m\u001b[0;34m\u001b[0m\u001b[0;34m\u001b[0m\u001b[0m\n\u001b[1;32m    672\u001b[0m         \u001b[0;32mif\u001b[0m \u001b[0misinstance\u001b[0m\u001b[0;34m(\u001b[0m\u001b[0mt\u001b[0m\u001b[0;34m,\u001b[0m \u001b[0mtf\u001b[0m\u001b[0;34m.\u001b[0m\u001b[0mTensor\u001b[0m\u001b[0;34m)\u001b[0m\u001b[0;34m:\u001b[0m\u001b[0;34m\u001b[0m\u001b[0;34m\u001b[0m\u001b[0m\n\u001b[0;32m--> 673\u001b[0;31m             \u001b[0mt\u001b[0m \u001b[0;34m=\u001b[0m \u001b[0mt\u001b[0m\u001b[0;34m.\u001b[0m\u001b[0mnumpy\u001b[0m\u001b[0;34m(\u001b[0m\u001b[0;34m)\u001b[0m\u001b[0;34m\u001b[0m\u001b[0;34m\u001b[0m\u001b[0m\n\u001b[0m\u001b[1;32m    674\u001b[0m         \u001b[0;31m# Strings, ragged and sparse tensors don't have .item(). Return them\u001b[0m\u001b[0;34m\u001b[0m\u001b[0;34m\u001b[0m\u001b[0m\n\u001b[1;32m    675\u001b[0m         \u001b[0;31m# as-is.\u001b[0m\u001b[0;34m\u001b[0m\u001b[0;34m\u001b[0m\u001b[0m\n",
            "\u001b[0;32m/usr/local/lib/python3.10/dist-packages/tensorflow/python/framework/ops.py\u001b[0m in \u001b[0;36mnumpy\u001b[0;34m(self)\u001b[0m\n\u001b[1;32m   1158\u001b[0m     \"\"\"\n\u001b[1;32m   1159\u001b[0m     \u001b[0;31m# TODO(slebedev): Consider avoiding a copy for non-CPU or remote tensors.\u001b[0m\u001b[0;34m\u001b[0m\u001b[0;34m\u001b[0m\u001b[0m\n\u001b[0;32m-> 1160\u001b[0;31m     \u001b[0mmaybe_arr\u001b[0m \u001b[0;34m=\u001b[0m \u001b[0mself\u001b[0m\u001b[0;34m.\u001b[0m\u001b[0m_numpy\u001b[0m\u001b[0;34m(\u001b[0m\u001b[0;34m)\u001b[0m  \u001b[0;31m# pylint: disable=protected-access\u001b[0m\u001b[0;34m\u001b[0m\u001b[0;34m\u001b[0m\u001b[0m\n\u001b[0m\u001b[1;32m   1161\u001b[0m     \u001b[0;32mreturn\u001b[0m \u001b[0mmaybe_arr\u001b[0m\u001b[0;34m.\u001b[0m\u001b[0mcopy\u001b[0m\u001b[0;34m(\u001b[0m\u001b[0;34m)\u001b[0m \u001b[0;32mif\u001b[0m \u001b[0misinstance\u001b[0m\u001b[0;34m(\u001b[0m\u001b[0mmaybe_arr\u001b[0m\u001b[0;34m,\u001b[0m \u001b[0mnp\u001b[0m\u001b[0;34m.\u001b[0m\u001b[0mndarray\u001b[0m\u001b[0;34m)\u001b[0m \u001b[0;32melse\u001b[0m \u001b[0mmaybe_arr\u001b[0m\u001b[0;34m\u001b[0m\u001b[0;34m\u001b[0m\u001b[0m\n\u001b[1;32m   1162\u001b[0m \u001b[0;34m\u001b[0m\u001b[0m\n",
            "\u001b[0;32m/usr/local/lib/python3.10/dist-packages/tensorflow/python/framework/ops.py\u001b[0m in \u001b[0;36m_numpy\u001b[0;34m(self)\u001b[0m\n\u001b[1;32m   1124\u001b[0m   \u001b[0;32mdef\u001b[0m \u001b[0m_numpy\u001b[0m\u001b[0;34m(\u001b[0m\u001b[0mself\u001b[0m\u001b[0;34m)\u001b[0m\u001b[0;34m:\u001b[0m\u001b[0;34m\u001b[0m\u001b[0;34m\u001b[0m\u001b[0m\n\u001b[1;32m   1125\u001b[0m     \u001b[0;32mtry\u001b[0m\u001b[0;34m:\u001b[0m\u001b[0;34m\u001b[0m\u001b[0;34m\u001b[0m\u001b[0m\n\u001b[0;32m-> 1126\u001b[0;31m       \u001b[0;32mreturn\u001b[0m \u001b[0mself\u001b[0m\u001b[0;34m.\u001b[0m\u001b[0m_numpy_internal\u001b[0m\u001b[0;34m(\u001b[0m\u001b[0;34m)\u001b[0m\u001b[0;34m\u001b[0m\u001b[0;34m\u001b[0m\u001b[0m\n\u001b[0m\u001b[1;32m   1127\u001b[0m     \u001b[0;32mexcept\u001b[0m \u001b[0mcore\u001b[0m\u001b[0;34m.\u001b[0m\u001b[0m_NotOkStatusException\u001b[0m \u001b[0;32mas\u001b[0m \u001b[0me\u001b[0m\u001b[0;34m:\u001b[0m  \u001b[0;31m# pylint: disable=protected-access\u001b[0m\u001b[0;34m\u001b[0m\u001b[0;34m\u001b[0m\u001b[0m\n\u001b[1;32m   1128\u001b[0m       \u001b[0;32mraise\u001b[0m \u001b[0mcore\u001b[0m\u001b[0;34m.\u001b[0m\u001b[0m_status_to_exception\u001b[0m\u001b[0;34m(\u001b[0m\u001b[0me\u001b[0m\u001b[0;34m)\u001b[0m \u001b[0;32mfrom\u001b[0m \u001b[0;32mNone\u001b[0m  \u001b[0;31m# pylint: disable=protected-access\u001b[0m\u001b[0;34m\u001b[0m\u001b[0;34m\u001b[0m\u001b[0m\n",
            "\u001b[0;31mKeyboardInterrupt\u001b[0m: "
          ]
        }
      ]
    },
    {
      "cell_type": "markdown",
      "metadata": {
        "id": "-CLwgtnlbKds"
      },
      "source": [
        "# Exercise 2: Use the concepts learnt to train a classifier for CIFAR100 dataset"
      ]
    },
    {
      "cell_type": "code",
      "metadata": {
        "id": "2bWDRvYuPGE1"
      },
      "source": [
        "# Import dependence for downloading CIFAR100\n",
        "from tensorflow import keras\n",
        "from keras.datasets import cifar100"
      ],
      "execution_count": null,
      "outputs": []
    },
    {
      "cell_type": "code",
      "source": [
        "(X_train, y_train), (X_testval, y_testval) = cifar100.load_data()"
      ],
      "metadata": {
        "id": "M9trye27N7Qo",
        "outputId": "547ac56d-3a37-4585-abf5-28d9eb932302",
        "colab": {
          "base_uri": "https://localhost:8080/"
        }
      },
      "execution_count": null,
      "outputs": [
        {
          "output_type": "stream",
          "name": "stdout",
          "text": [
            "Downloading data from https://www.cs.toronto.edu/~kriz/cifar-100-python.tar.gz\n",
            "169001437/169001437 [==============================] - 2s 0us/step\n"
          ]
        }
      ]
    },
    {
      "cell_type": "code",
      "metadata": {
        "id": "y8aeKcKrOB3C"
      },
      "source": [
        "# Import dependence for handling arrays\n",
        "import numpy as np"
      ],
      "execution_count": null,
      "outputs": []
    },
    {
      "cell_type": "code",
      "metadata": {
        "id": "KeDM8M1qOB3C"
      },
      "source": [
        "# Change the range of pixels from [0 255] to [0 1]\n",
        "X_train_fl = X_train.astype('float32')\n",
        "X_testval_fl = X_testval.astype('float32')\n",
        "X_train_fl /= 255\n",
        "X_testval_fl /= 255"
      ],
      "execution_count": null,
      "outputs": []
    },
    {
      "cell_type": "code",
      "metadata": {
        "id": "NA4yoDIiOB3C"
      },
      "source": [
        "# Import dependence for one-hot encoding\n",
        "from sklearn.preprocessing import OneHotEncoder"
      ],
      "execution_count": null,
      "outputs": []
    },
    {
      "cell_type": "code",
      "metadata": {
        "id": "0Gg_uj4VOB3D"
      },
      "source": [
        "# One-hot encoding of labels\n",
        "onehot_enc = OneHotEncoder()\n",
        "y_train_oh = onehot_enc.fit_transform(y_train.reshape(X_train.shape[0], 1)).toarray()\n",
        "y_testval_oh = onehot_enc.fit_transform(y_testval.reshape(X_testval.shape[0], 1)).toarray()"
      ],
      "execution_count": null,
      "outputs": []
    },
    {
      "cell_type": "code",
      "metadata": {
        "colab": {
          "base_uri": "https://localhost:8080/"
        },
        "outputId": "4efa87ae-afb7-48c2-d27b-00770db33a72",
        "id": "watvnOxKOB3D"
      },
      "source": [
        "# Show one-hot encoded labels shape\n",
        "print(\"Training one-hot encoded labels shape:\", y_train_oh.shape)\n",
        "print(\"Testing one-hot encoded labels shape:\", y_testval_oh.shape)"
      ],
      "execution_count": null,
      "outputs": [
        {
          "output_type": "stream",
          "name": "stdout",
          "text": [
            "Training one-hot encoded labels shape: (50000, 100)\n",
            "Testing one-hot encoded labels shape: (10000, 100)\n"
          ]
        }
      ]
    },
    {
      "cell_type": "code",
      "metadata": {
        "id": "Y3aHlGqNOB3E"
      },
      "source": [
        "# Divide testval in test and validation partitions\n",
        "samples_test_nb = int(X_testval.shape[0]/2)\n",
        "X_val = X_testval_fl[:samples_test_nb]\n",
        "y_val = y_testval_oh[:samples_test_nb]\n",
        "X_test = X_testval_fl[samples_test_nb:]\n",
        "y_test = y_testval_oh[samples_test_nb:]"
      ],
      "execution_count": null,
      "outputs": []
    },
    {
      "cell_type": "code",
      "metadata": {
        "colab": {
          "base_uri": "https://localhost:8080/"
        },
        "outputId": "64105379-27e6-4d9e-99ef-5fb39c97dfe8",
        "id": "VyD6E3r2OB3E"
      },
      "source": [
        "# Show shapes of test and validation partitions\n",
        "print(\"Validation matrix shape:\", X_val.shape)\n",
        "print(\"Testing matrix shape:\", X_test.shape)"
      ],
      "execution_count": null,
      "outputs": [
        {
          "output_type": "stream",
          "name": "stdout",
          "text": [
            "Validation matrix shape: (5000, 32, 32, 3)\n",
            "Testing matrix shape: (5000, 32, 32, 3)\n"
          ]
        }
      ]
    },
    {
      "cell_type": "code",
      "metadata": {
        "id": "AQyvKXqkOB3E"
      },
      "source": [
        "# Import depence for CNN\n",
        "from keras.models import Model\n",
        "from keras.layers import Input, Conv2D, MaxPool2D, Flatten, Dense, Dropout"
      ],
      "execution_count": null,
      "outputs": []
    },
    {
      "cell_type": "code",
      "metadata": {
        "id": "yMFT0iBoOB3F"
      },
      "source": [
        "# Define the model\n",
        "input_layer = Input(shape=(X_train.shape[1],X_train.shape[2], X_train.shape[3]))\n",
        "conv_layer_1 = Conv2D(filters=8, kernel_size=(3, 3), activation='relu')(input_layer)\n",
        "maxpool_layer_1 = MaxPool2D(pool_size=(2, 2))(conv_layer_1)\n",
        "conv_layer_2 = Conv2D(filters=16, kernel_size=(3, 3), activation='relu')(maxpool_layer_1)\n",
        "maxpool_layer_2 = MaxPool2D(pool_size=(2, 2))(conv_layer_2)\n",
        "conv_layer_3 = Conv2D(filters=32, kernel_size=(3, 3), activation='relu')(maxpool_layer_2)\n",
        "flatten_layer = Flatten()(conv_layer_3)\n",
        "dense_layer = Dense(128, activation='relu')(flatten_layer)\n",
        "dropout = Dropout(rate=0.4)(dense_layer)\n",
        "output_layer = Dense(100, activation='softmax')(dropout)\n",
        "model= Model(inputs=input_layer, outputs=output_layer)"
      ],
      "execution_count": null,
      "outputs": []
    },
    {
      "cell_type": "code",
      "metadata": {
        "colab": {
          "base_uri": "https://localhost:8080/"
        },
        "outputId": "54b6c085-00f0-4983-a7a4-cbc44b096aa4",
        "id": "MvUK-CdTOB3F"
      },
      "source": [
        "# Show a summary of the model\n",
        "model.summary()"
      ],
      "execution_count": null,
      "outputs": [
        {
          "output_type": "stream",
          "name": "stdout",
          "text": [
            "Model: \"model_1\"\n",
            "_________________________________________________________________\n",
            " Layer (type)                Output Shape              Param #   \n",
            "=================================================================\n",
            " input_4 (InputLayer)        [(None, 32, 32, 3)]       0         \n",
            "                                                                 \n",
            " conv2d_3 (Conv2D)           (None, 30, 30, 8)         224       \n",
            "                                                                 \n",
            " max_pooling2d_2 (MaxPooling  (None, 15, 15, 8)        0         \n",
            " 2D)                                                             \n",
            "                                                                 \n",
            " conv2d_4 (Conv2D)           (None, 13, 13, 16)        1168      \n",
            "                                                                 \n",
            " max_pooling2d_3 (MaxPooling  (None, 6, 6, 16)         0         \n",
            " 2D)                                                             \n",
            "                                                                 \n",
            " conv2d_5 (Conv2D)           (None, 4, 4, 32)          4640      \n",
            "                                                                 \n",
            " flatten_3 (Flatten)         (None, 512)               0         \n",
            "                                                                 \n",
            " dense_8 (Dense)             (None, 128)               65664     \n",
            "                                                                 \n",
            " dropout_5 (Dropout)         (None, 128)               0         \n",
            "                                                                 \n",
            " dense_9 (Dense)             (None, 100)               12900     \n",
            "                                                                 \n",
            "=================================================================\n",
            "Total params: 84,596\n",
            "Trainable params: 84,596\n",
            "Non-trainable params: 0\n",
            "_________________________________________________________________\n"
          ]
        }
      ]
    },
    {
      "cell_type": "code",
      "metadata": {
        "id": "RldHodRLOB3F"
      },
      "source": [
        "# Compile the model\n",
        "model.compile(loss='categorical_crossentropy', optimizer='adam', \n",
        "              metrics=['accuracy'])"
      ],
      "execution_count": null,
      "outputs": []
    },
    {
      "cell_type": "code",
      "metadata": {
        "id": "qmlur7dKOB3G",
        "outputId": "ea484c18-868b-4c4f-a9ea-904d63bf45cb",
        "colab": {
          "base_uri": "https://localhost:8080/"
        }
      },
      "source": [
        "# Train the model\n",
        "history = model.fit(X_train_fl, y_train_oh, epochs=50, batch_size=128,\n",
        "                    validation_data=(X_val, y_val))"
      ],
      "execution_count": null,
      "outputs": [
        {
          "output_type": "stream",
          "name": "stdout",
          "text": [
            "Epoch 1/50\n",
            "391/391 [==============================] - 6s 7ms/step - loss: 4.2717 - accuracy: 0.0508 - val_loss: 3.8315 - val_accuracy: 0.1286\n",
            "Epoch 2/50\n",
            "391/391 [==============================] - 2s 5ms/step - loss: 3.8094 - accuracy: 0.1127 - val_loss: 3.5390 - val_accuracy: 0.1632\n",
            "Epoch 3/50\n",
            "391/391 [==============================] - 2s 5ms/step - loss: 3.6072 - accuracy: 0.1461 - val_loss: 3.3833 - val_accuracy: 0.1944\n",
            "Epoch 4/50\n",
            "391/391 [==============================] - 2s 5ms/step - loss: 3.4670 - accuracy: 0.1715 - val_loss: 3.2670 - val_accuracy: 0.2110\n",
            "Epoch 5/50\n",
            "391/391 [==============================] - 2s 5ms/step - loss: 3.3646 - accuracy: 0.1881 - val_loss: 3.2017 - val_accuracy: 0.2328\n",
            "Epoch 6/50\n",
            "391/391 [==============================] - 3s 7ms/step - loss: 3.2973 - accuracy: 0.2023 - val_loss: 3.1086 - val_accuracy: 0.2542\n",
            "Epoch 7/50\n",
            "391/391 [==============================] - 3s 8ms/step - loss: 3.2350 - accuracy: 0.2118 - val_loss: 3.0496 - val_accuracy: 0.2558\n",
            "Epoch 8/50\n",
            "391/391 [==============================] - 2s 5ms/step - loss: 3.1979 - accuracy: 0.2197 - val_loss: 2.9965 - val_accuracy: 0.2686\n",
            "Epoch 9/50\n",
            "391/391 [==============================] - 2s 5ms/step - loss: 3.1503 - accuracy: 0.2282 - val_loss: 3.0094 - val_accuracy: 0.2692\n",
            "Epoch 10/50\n",
            "391/391 [==============================] - 2s 5ms/step - loss: 3.1158 - accuracy: 0.2343 - val_loss: 2.9546 - val_accuracy: 0.2780\n",
            "Epoch 11/50\n",
            "391/391 [==============================] - 2s 6ms/step - loss: 3.0950 - accuracy: 0.2395 - val_loss: 2.9385 - val_accuracy: 0.2820\n",
            "Epoch 12/50\n",
            "391/391 [==============================] - 2s 6ms/step - loss: 3.0547 - accuracy: 0.2443 - val_loss: 2.9417 - val_accuracy: 0.2742\n",
            "Epoch 13/50\n",
            "391/391 [==============================] - 2s 5ms/step - loss: 3.0378 - accuracy: 0.2473 - val_loss: 2.8908 - val_accuracy: 0.2878\n",
            "Epoch 14/50\n",
            "391/391 [==============================] - 2s 5ms/step - loss: 3.0065 - accuracy: 0.2566 - val_loss: 2.8528 - val_accuracy: 0.3010\n",
            "Epoch 15/50\n",
            "391/391 [==============================] - 2s 5ms/step - loss: 2.9880 - accuracy: 0.2592 - val_loss: 2.8705 - val_accuracy: 0.2926\n",
            "Epoch 16/50\n",
            "391/391 [==============================] - 2s 5ms/step - loss: 2.9698 - accuracy: 0.2630 - val_loss: 2.8324 - val_accuracy: 0.3040\n",
            "Epoch 17/50\n",
            "391/391 [==============================] - 2s 6ms/step - loss: 2.9485 - accuracy: 0.2689 - val_loss: 2.8239 - val_accuracy: 0.3012\n",
            "Epoch 18/50\n",
            "391/391 [==============================] - 2s 6ms/step - loss: 2.9262 - accuracy: 0.2705 - val_loss: 2.8206 - val_accuracy: 0.3066\n",
            "Epoch 19/50\n",
            "391/391 [==============================] - 2s 5ms/step - loss: 2.9074 - accuracy: 0.2743 - val_loss: 2.7957 - val_accuracy: 0.3102\n",
            "Epoch 20/50\n",
            "391/391 [==============================] - 2s 5ms/step - loss: 2.8919 - accuracy: 0.2763 - val_loss: 2.8055 - val_accuracy: 0.3082\n",
            "Epoch 21/50\n",
            "391/391 [==============================] - 2s 5ms/step - loss: 2.8754 - accuracy: 0.2800 - val_loss: 2.7778 - val_accuracy: 0.3104\n",
            "Epoch 22/50\n",
            "391/391 [==============================] - 2s 5ms/step - loss: 2.8676 - accuracy: 0.2791 - val_loss: 2.7823 - val_accuracy: 0.3100\n",
            "Epoch 23/50\n",
            "391/391 [==============================] - 2s 6ms/step - loss: 2.8493 - accuracy: 0.2831 - val_loss: 2.7635 - val_accuracy: 0.3138\n",
            "Epoch 24/50\n",
            "391/391 [==============================] - 2s 5ms/step - loss: 2.8382 - accuracy: 0.2859 - val_loss: 2.7435 - val_accuracy: 0.3190\n",
            "Epoch 25/50\n",
            "391/391 [==============================] - 2s 5ms/step - loss: 2.8253 - accuracy: 0.2888 - val_loss: 2.7548 - val_accuracy: 0.3206\n",
            "Epoch 26/50\n",
            "391/391 [==============================] - 2s 5ms/step - loss: 2.8072 - accuracy: 0.2926 - val_loss: 2.7263 - val_accuracy: 0.3192\n",
            "Epoch 27/50\n",
            "391/391 [==============================] - 2s 5ms/step - loss: 2.8008 - accuracy: 0.2952 - val_loss: 2.7681 - val_accuracy: 0.3154\n",
            "Epoch 28/50\n",
            "391/391 [==============================] - 2s 5ms/step - loss: 2.7846 - accuracy: 0.2935 - val_loss: 2.7279 - val_accuracy: 0.3296\n",
            "Epoch 29/50\n",
            "391/391 [==============================] - 3s 7ms/step - loss: 2.7706 - accuracy: 0.2981 - val_loss: 2.7344 - val_accuracy: 0.3224\n",
            "Epoch 30/50\n",
            "391/391 [==============================] - 2s 5ms/step - loss: 2.7643 - accuracy: 0.3004 - val_loss: 2.7143 - val_accuracy: 0.3272\n",
            "Epoch 31/50\n",
            "391/391 [==============================] - 2s 5ms/step - loss: 2.7465 - accuracy: 0.3035 - val_loss: 2.7104 - val_accuracy: 0.3336\n",
            "Epoch 32/50\n",
            "391/391 [==============================] - 2s 5ms/step - loss: 2.7363 - accuracy: 0.3063 - val_loss: 2.7235 - val_accuracy: 0.3250\n",
            "Epoch 33/50\n",
            "391/391 [==============================] - 2s 5ms/step - loss: 2.7354 - accuracy: 0.3046 - val_loss: 2.7104 - val_accuracy: 0.3286\n",
            "Epoch 34/50\n",
            "391/391 [==============================] - 2s 5ms/step - loss: 2.7217 - accuracy: 0.3092 - val_loss: 2.6984 - val_accuracy: 0.3364\n",
            "Epoch 35/50\n",
            "391/391 [==============================] - 2s 6ms/step - loss: 2.7112 - accuracy: 0.3111 - val_loss: 2.7049 - val_accuracy: 0.3288\n",
            "Epoch 36/50\n",
            "391/391 [==============================] - 2s 5ms/step - loss: 2.6996 - accuracy: 0.3127 - val_loss: 2.7110 - val_accuracy: 0.3348\n",
            "Epoch 37/50\n",
            "391/391 [==============================] - 2s 5ms/step - loss: 2.6957 - accuracy: 0.3113 - val_loss: 2.7002 - val_accuracy: 0.3346\n",
            "Epoch 38/50\n",
            "391/391 [==============================] - 2s 5ms/step - loss: 2.6799 - accuracy: 0.3139 - val_loss: 2.7039 - val_accuracy: 0.3294\n",
            "Epoch 39/50\n",
            "391/391 [==============================] - 2s 5ms/step - loss: 2.6782 - accuracy: 0.3172 - val_loss: 2.7330 - val_accuracy: 0.3264\n",
            "Epoch 40/50\n",
            "391/391 [==============================] - 2s 5ms/step - loss: 2.6570 - accuracy: 0.3202 - val_loss: 2.7064 - val_accuracy: 0.3274\n",
            "Epoch 41/50\n",
            "391/391 [==============================] - 3s 7ms/step - loss: 2.6540 - accuracy: 0.3196 - val_loss: 2.7074 - val_accuracy: 0.3274\n",
            "Epoch 42/50\n",
            "391/391 [==============================] - 3s 7ms/step - loss: 2.6456 - accuracy: 0.3222 - val_loss: 2.6875 - val_accuracy: 0.3332\n",
            "Epoch 43/50\n",
            "391/391 [==============================] - 2s 5ms/step - loss: 2.6454 - accuracy: 0.3233 - val_loss: 2.7183 - val_accuracy: 0.3274\n",
            "Epoch 44/50\n",
            "391/391 [==============================] - 3s 7ms/step - loss: 2.6286 - accuracy: 0.3225 - val_loss: 2.6974 - val_accuracy: 0.3306\n",
            "Epoch 45/50\n",
            "391/391 [==============================] - 2s 6ms/step - loss: 2.6123 - accuracy: 0.3263 - val_loss: 2.6938 - val_accuracy: 0.3396\n",
            "Epoch 46/50\n",
            "391/391 [==============================] - 3s 7ms/step - loss: 2.6126 - accuracy: 0.3298 - val_loss: 2.6920 - val_accuracy: 0.3320\n",
            "Epoch 47/50\n",
            "391/391 [==============================] - 3s 9ms/step - loss: 2.6156 - accuracy: 0.3258 - val_loss: 2.6902 - val_accuracy: 0.3354\n",
            "Epoch 48/50\n",
            "391/391 [==============================] - 2s 6ms/step - loss: 2.6001 - accuracy: 0.3283 - val_loss: 2.7014 - val_accuracy: 0.3346\n",
            "Epoch 49/50\n",
            "391/391 [==============================] - 2s 5ms/step - loss: 2.5983 - accuracy: 0.3292 - val_loss: 2.7042 - val_accuracy: 0.3352\n",
            "Epoch 50/50\n",
            "391/391 [==============================] - 4s 9ms/step - loss: 2.5982 - accuracy: 0.3270 - val_loss: 2.6856 - val_accuracy: 0.3380\n"
          ]
        }
      ]
    },
    {
      "cell_type": "code",
      "metadata": {
        "id": "niCk5gcSOB3G"
      },
      "source": [
        "# Import dependence for visualization of images\n",
        "import matplotlib.pyplot as plt"
      ],
      "execution_count": null,
      "outputs": []
    },
    {
      "cell_type": "code",
      "metadata": {
        "colab": {
          "base_uri": "https://localhost:8080/",
          "height": 472
        },
        "outputId": "ca137c98-3e37-4a7b-a608-83ca7a37969f",
        "id": "RVgb2nJuOB3H"
      },
      "source": [
        "# Plot training and validation accuracy\n",
        "plt.plot(history.history['accuracy'])\n",
        "plt.plot(history.history['val_accuracy'])\n",
        "plt.title('Model accuracy')\n",
        "plt.ylabel('Accuracy')\n",
        "plt.xlabel('Epoch')\n",
        "plt.legend(['Train', 'Val'], loc='upper left')\n",
        "plt.ylim(0, 1)\n",
        "plt.show()"
      ],
      "execution_count": null,
      "outputs": [
        {
          "output_type": "display_data",
          "data": {
            "text/plain": [
              "<Figure size 640x480 with 1 Axes>"
            ],
            "image/png": "[encoded data removed]"
          },
          "metadata": {}
        }
      ]
    },
    {
      "cell_type": "code",
      "metadata": {
        "colab": {
          "base_uri": "https://localhost:8080/",
          "height": 472
        },
        "outputId": "ae1dbe7f-d4c4-4183-91f1-d965f251e546",
        "id": "2I1NgrVnOB3H"
      },
      "source": [
        "# Plot training and test loss\n",
        "plt.plot(history.history['loss']) \n",
        "plt.plot(history.history['val_loss']) \n",
        "plt.title('Model loss') \n",
        "plt.ylabel('Loss') \n",
        "plt.xlabel('Epoch') \n",
        "plt.legend(['Train', 'Val'], loc='upper left') \n",
        "plt.show()"
      ],
      "execution_count": null,
      "outputs": [
        {
          "output_type": "display_data",
          "data": {
            "text/plain": [
              "<Figure size 640x480 with 1 Axes>"
            ],
            "image/png": "[encoded data removed]"
          },
          "metadata": {}
        }
      ]
    },
    {
      "cell_type": "code",
      "source": [
        "from keras.layers import BatchNormalization\n",
        "from tensorflow.keras.optimizers import Adam"
      ],
      "metadata": {
        "id": "ABrbMJBOOozZ"
      },
      "execution_count": null,
      "outputs": []
    },
    {
      "cell_type": "code",
      "source": [
        "# Define the model\n",
        "input_layer = Input(shape=(X_train.shape[1],X_train.shape[2], X_train.shape[3]))\n",
        "conv_layer_1 = Conv2D(filters=8, kernel_size=(3, 3), activation='relu')(input_layer)\n",
        "bn_1 = BatchNormalization()(conv_layer_1)\n",
        "maxpool_layer_1 = MaxPool2D(pool_size=(2, 2))(bn_1)\n",
        "conv_layer_2 = Conv2D(filters=16, kernel_size=(3, 3), activation='relu')(maxpool_layer_1)\n",
        "bn_2 = BatchNormalization()(conv_layer_2)\n",
        "maxpool_layer_2 = MaxPool2D(pool_size=(2, 2))(bn_2)\n",
        "conv_layer_3 = Conv2D(filters=32, kernel_size=(3, 3), activation='relu')(maxpool_layer_2)\n",
        "bn_3 = BatchNormalization()(conv_layer_3)\n",
        "flatten_layer = Flatten()(bn_3)\n",
        "dense_layer = Dense(128, activation='relu')(flatten_layer)\n",
        "dropout = Dropout(rate=0.4)(dense_layer)\n",
        "output_layer = Dense(100, activation='softmax')(dropout)\n",
        "model= Model(inputs=input_layer, outputs=output_layer)"
      ],
      "metadata": {
        "id": "NnHC5nlpOrZN"
      },
      "execution_count": null,
      "outputs": []
    },
    {
      "cell_type": "code",
      "source": [
        "model.compile(loss='categorical_crossentropy', optimizer=Adam(lr=0.01),\n",
        "              metrics=['accuracy'])"
      ],
      "metadata": {
        "id": "wWKlwLc1O7J7",
        "outputId": "e302ce38-7eb5-4e98-f3db-f179e16c5371",
        "colab": {
          "base_uri": "https://localhost:8080/"
        }
      },
      "execution_count": null,
      "outputs": [
        {
          "output_type": "stream",
          "name": "stderr",
          "text": [
            "WARNING:absl:`lr` is deprecated in Keras optimizer, please use `learning_rate` or use the legacy optimizer, e.g.,tf.keras.optimizers.legacy.Adam.\n"
          ]
        }
      ]
    },
    {
      "cell_type": "code",
      "source": [
        "# Train the model\n",
        "history = model.fit(X_train_fl, y_train_oh, epochs=20, batch_size=128,\n",
        "                    validation_data=(X_val, y_val))"
      ],
      "metadata": {
        "id": "L9HLjS8LO9sR",
        "outputId": "23ed35eb-22e9-49d9-fd61-90b5fd7f0e4d",
        "colab": {
          "base_uri": "https://localhost:8080/"
        }
      },
      "execution_count": null,
      "outputs": [
        {
          "output_type": "stream",
          "name": "stdout",
          "text": [
            "Epoch 1/20\n",
            "391/391 [==============================] - 6s 7ms/step - loss: 4.1094 - accuracy: 0.0919 - val_loss: 3.7545 - val_accuracy: 0.1336\n",
            "Epoch 2/20\n",
            "391/391 [==============================] - 2s 6ms/step - loss: 3.5495 - accuracy: 0.1667 - val_loss: 3.4753 - val_accuracy: 0.1856\n",
            "Epoch 3/20\n",
            "391/391 [==============================] - 2s 6ms/step - loss: 3.3161 - accuracy: 0.2027 - val_loss: 3.2396 - val_accuracy: 0.2244\n",
            "Epoch 4/20\n",
            "391/391 [==============================] - 2s 6ms/step - loss: 3.1572 - accuracy: 0.2299 - val_loss: 2.9978 - val_accuracy: 0.2644\n",
            "Epoch 5/20\n",
            "391/391 [==============================] - 3s 8ms/step - loss: 3.0394 - accuracy: 0.2485 - val_loss: 3.0996 - val_accuracy: 0.2514\n",
            "Epoch 6/20\n",
            "391/391 [==============================] - 2s 6ms/step - loss: 2.9401 - accuracy: 0.2668 - val_loss: 2.9448 - val_accuracy: 0.2784\n",
            "Epoch 7/20\n",
            "391/391 [==============================] - 2s 6ms/step - loss: 2.8762 - accuracy: 0.2781 - val_loss: 2.7696 - val_accuracy: 0.3058\n",
            "Epoch 8/20\n",
            "391/391 [==============================] - 2s 6ms/step - loss: 2.8160 - accuracy: 0.2911 - val_loss: 2.7910 - val_accuracy: 0.3044\n",
            "Epoch 9/20\n",
            "391/391 [==============================] - 2s 6ms/step - loss: 2.7676 - accuracy: 0.3029 - val_loss: 2.8593 - val_accuracy: 0.2902\n",
            "Epoch 10/20\n",
            "391/391 [==============================] - 3s 7ms/step - loss: 2.7340 - accuracy: 0.3066 - val_loss: 2.9362 - val_accuracy: 0.2836\n",
            "Epoch 11/20\n",
            "391/391 [==============================] - 2s 6ms/step - loss: 2.6942 - accuracy: 0.3145 - val_loss: 2.8406 - val_accuracy: 0.2924\n",
            "Epoch 12/20\n",
            "391/391 [==============================] - 2s 6ms/step - loss: 2.6538 - accuracy: 0.3214 - val_loss: 2.7472 - val_accuracy: 0.3134\n",
            "Epoch 13/20\n",
            "391/391 [==============================] - 2s 6ms/step - loss: 2.6212 - accuracy: 0.3312 - val_loss: 2.8049 - val_accuracy: 0.3038\n",
            "Epoch 14/20\n",
            "391/391 [==============================] - 2s 6ms/step - loss: 2.6044 - accuracy: 0.3316 - val_loss: 2.6117 - val_accuracy: 0.3350\n",
            "Epoch 15/20\n",
            "391/391 [==============================] - 3s 8ms/step - loss: 2.5779 - accuracy: 0.3340 - val_loss: 2.7405 - val_accuracy: 0.3210\n",
            "Epoch 16/20\n",
            "391/391 [==============================] - 2s 6ms/step - loss: 2.5466 - accuracy: 0.3432 - val_loss: 2.6591 - val_accuracy: 0.3348\n",
            "Epoch 17/20\n",
            "391/391 [==============================] - 2s 6ms/step - loss: 2.5233 - accuracy: 0.3470 - val_loss: 2.6208 - val_accuracy: 0.3412\n",
            "Epoch 18/20\n",
            "391/391 [==============================] - 2s 6ms/step - loss: 2.5121 - accuracy: 0.3515 - val_loss: 2.6100 - val_accuracy: 0.3372\n",
            "Epoch 19/20\n",
            "391/391 [==============================] - 2s 6ms/step - loss: 2.4870 - accuracy: 0.3546 - val_loss: 2.5976 - val_accuracy: 0.3432\n",
            "Epoch 20/20\n",
            "391/391 [==============================] - 3s 7ms/step - loss: 2.4710 - accuracy: 0.3573 - val_loss: 2.9274 - val_accuracy: 0.2930\n"
          ]
        }
      ]
    },
    {
      "cell_type": "code",
      "source": [
        "# Plot training and validation accuracy\n",
        "plt.plot(history.history['accuracy'])\n",
        "plt.plot(history.history['val_accuracy'])\n",
        "plt.title('Model accuracy')\n",
        "plt.ylabel('Accuracy')\n",
        "plt.xlabel('Epoch')\n",
        "plt.legend(['Train', 'Val'], loc='upper left')\n",
        "plt.ylim(0, 1)\n",
        "plt.show()"
      ],
      "metadata": {
        "id": "3Fod0H3uPJU9",
        "outputId": "e933785d-b347-4eb8-f22c-a579856ef813",
        "colab": {
          "base_uri": "https://localhost:8080/",
          "height": 472
        }
      },
      "execution_count": null,
      "outputs": [
        {
          "output_type": "display_data",
          "data": {
            "text/plain": [
              "<Figure size 640x480 with 1 Axes>"
            ],
            "image/png": "[encoded data removed]"
          },
          "metadata": {}
        }
      ]
    }
  ]
}