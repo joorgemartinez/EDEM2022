{
  "nbformat": 4,
  "nbformat_minor": 0,
  "metadata": {
    "colab": {
      "provenance": []
    },
    "kernelspec": {
      "name": "python3",
      "display_name": "Python 3"
    },
    "language_info": {
      "name": "python"
    }
  },
  "cells": [
    {
      "cell_type": "markdown",
      "source": [
        "# Limpieza de un texto\n",
        "\n",
        "En este notebook deberéis utilizar las herramientas vistas para limpiar el siguiente fragmento:\n",
        "\n",
        "“Es relativamente fácil ponerse de acuerdo en que solo “Homo sapiens” puede hablar sobre cosas que no existen realmente, y creerse seis cosas imposibles antes del desayuno. En cambio, ¡nunca convenceremos a un mono para que nos dé un plátano con la promesa de que después de morir tendrá un número ilimitado de bananas a su disposición en el cielo de los monos!” \n"
      ],
      "metadata": {
        "id": "QixPUd5uHMqv"
      }
    },
    {
      "cell_type": "code",
      "source": [
        "texto = 'Es relativamente fácil ponerse de acuerdo en que solo “Homo sapiens” puede hablar sobre cosas que no existen realmente, y creerse seis cosas imposibles antes del desayuno. En cambio, ¡nunca convenceremos a un mono para que nos dé un plátano con la promesa de que después de morir tendrá un número ilimitado de bananas a su disposición en el cielo de los monos!'"
      ],
      "metadata": {
        "id": "PLBl33MCHqHG"
      },
      "execution_count": 1,
      "outputs": []
    },
    {
      "cell_type": "code",
      "source": [
        "print(texto)"
      ],
      "metadata": {
        "colab": {
          "base_uri": "https://localhost:8080/"
        },
        "id": "TA207L4cHrdP",
        "outputId": "d0101702-7413-4a6b-bf1d-70c86713ef3d"
      },
      "execution_count": 2,
      "outputs": [
        {
          "output_type": "stream",
          "name": "stdout",
          "text": [
            "Es relativamente fácil ponerse de acuerdo en que solo “Homo sapiens” puede hablar sobre cosas que no existen realmente, y creerse seis cosas imposibles antes del desayuno. En cambio, ¡nunca convenceremos a un mono para que nos dé un plátano con la promesa de que después de morir tendrá un número ilimitado de bananas a su disposición en el cielo de los monos!\n"
          ]
        }
      ]
    },
    {
      "cell_type": "markdown",
      "source": [
        "Para ello, lo primero que deberéis hacer es utilizar expresiones regulares para eliminar los símbolos de puntuación, etc."
      ],
      "metadata": {
        "id": "SQ-Re3PJHfhF"
      }
    },
    {
      "cell_type": "code",
      "source": [
        "import string\n",
        "import re\n",
        "print(string.punctuation)\n"
      ],
      "metadata": {
        "id": "Pv0z5npkXWl9"
      },
      "execution_count": 5,
      "outputs": []
    },
    {
      "cell_type": "code",
      "source": [
        "chars = string.punctuation + '“”¿¡'\n",
        "re_punc = re.compile('[%s]'% re.escape(chars))\n",
        "\n",
        "texto_sin_puntos = re_punc.sub('',texto)\n",
        "print(texto_sin_puntos)\n"
      ],
      "metadata": {
        "id": "FQ5NePw0HkF9",
        "outputId": "390c2d7d-9b3c-469b-8ca9-ebdd4aa81b83",
        "colab": {
          "base_uri": "https://localhost:8080/"
        }
      },
      "execution_count": 17,
      "outputs": [
        {
          "output_type": "stream",
          "name": "stdout",
          "text": [
            "Es relativamente fácil ponerse de acuerdo en que solo Homo sapiens puede hablar sobre cosas que no existen realmente y creerse seis cosas imposibles antes del desayuno En cambio nunca convenceremos a un mono para que nos dé un plátano con la promesa de que después de morir tendrá un número ilimitado de bananas a su disposición en el cielo de los monos\n"
          ]
        }
      ]
    },
    {
      "cell_type": "markdown",
      "source": [
        "A continuación, tenemos que convertir el texto a minúsculas:"
      ],
      "metadata": {
        "id": "EpHXy9LaHt18"
      }
    },
    {
      "cell_type": "code",
      "source": [
        "texto_minusculas =  texto_sin_puntos.lower()\n",
        "print(texto_minusculas)"
      ],
      "metadata": {
        "id": "c8nsuU31ISMD",
        "outputId": "32a290cb-c04b-4589-9276-a9fafffe0e0c",
        "colab": {
          "base_uri": "https://localhost:8080/"
        }
      },
      "execution_count": 18,
      "outputs": [
        {
          "output_type": "stream",
          "name": "stdout",
          "text": [
            "es relativamente fácil ponerse de acuerdo en que solo homo sapiens puede hablar sobre cosas que no existen realmente y creerse seis cosas imposibles antes del desayuno en cambio nunca convenceremos a un mono para que nos dé un plátano con la promesa de que después de morir tendrá un número ilimitado de bananas a su disposición en el cielo de los monos\n"
          ]
        }
      ]
    },
    {
      "cell_type": "markdown",
      "source": [
        "Y eliminar los acentos:"
      ],
      "metadata": {
        "id": "bq95ICPMIVXg"
      }
    },
    {
      "cell_type": "code",
      "source": [
        "!pip install unidecode\n"
      ],
      "metadata": {
        "id": "IK3cnDtzajmJ",
        "outputId": "8d7de5fa-5e8c-4d9c-e0d9-0248d55f1a3a",
        "colab": {
          "base_uri": "https://localhost:8080/"
        }
      },
      "execution_count": 14,
      "outputs": [
        {
          "output_type": "stream",
          "name": "stdout",
          "text": [
            "Looking in indexes: https://pypi.org/simple, https://us-python.pkg.dev/colab-wheels/public/simple/\n",
            "Collecting unidecode\n",
            "  Downloading Unidecode-1.3.6-py3-none-any.whl (235 kB)\n",
            "\u001b[2K     \u001b[90m━━━━━━━━━━━━━━━━━━━━━━━━━━━━━━━━━━━━━━━\u001b[0m \u001b[32m235.9/235.9 kB\u001b[0m \u001b[31m6.1 MB/s\u001b[0m eta \u001b[36m0:00:00\u001b[0m\n",
            "\u001b[?25hInstalling collected packages: unidecode\n",
            "Successfully installed unidecode-1.3.6\n"
          ]
        }
      ]
    },
    {
      "cell_type": "code",
      "execution_count": 19,
      "metadata": {
        "id": "J1hBTvsUHKjW",
        "outputId": "abc8595a-a372-4f31-f8f8-3716e4bf3266",
        "colab": {
          "base_uri": "https://localhost:8080/"
        }
      },
      "outputs": [
        {
          "output_type": "stream",
          "name": "stdout",
          "text": [
            "es relativamente facil ponerse de acuerdo en que solo homo sapiens puede hablar sobre cosas que no existen realmente y creerse seis cosas imposibles antes del desayuno en cambio nunca convenceremos a un mono para que nos de un platano con la promesa de que despues de morir tendra un numero ilimitado de bananas a su disposicion en el cielo de los monos\n"
          ]
        }
      ],
      "source": [
        "import unidecode\n",
        "\n",
        "texto_sin_acentos = unidecode.unidecode(texto_minusculas)\n",
        "print(texto_sin_acentos)"
      ]
    },
    {
      "cell_type": "markdown",
      "source": [
        "Ahora tenemos que dividir el texto en palabras, creando una lista que contenga todas las palabras del texto."
      ],
      "metadata": {
        "id": "Vpk5OZdsIgWN"
      }
    },
    {
      "cell_type": "code",
      "source": [
        "texto_splitted = texto_sin_acentos.split()\n",
        "\n",
        "print(texto_splitted)"
      ],
      "metadata": {
        "id": "p_4NXXD5IlBc",
        "outputId": "6e1af474-c6b9-4a64-a336-5154ab736c3d",
        "colab": {
          "base_uri": "https://localhost:8080/"
        }
      },
      "execution_count": 20,
      "outputs": [
        {
          "output_type": "stream",
          "name": "stdout",
          "text": [
            "['es', 'relativamente', 'facil', 'ponerse', 'de', 'acuerdo', 'en', 'que', 'solo', 'homo', 'sapiens', 'puede', 'hablar', 'sobre', 'cosas', 'que', 'no', 'existen', 'realmente', 'y', 'creerse', 'seis', 'cosas', 'imposibles', 'antes', 'del', 'desayuno', 'en', 'cambio', 'nunca', 'convenceremos', 'a', 'un', 'mono', 'para', 'que', 'nos', 'de', 'un', 'platano', 'con', 'la', 'promesa', 'de', 'que', 'despues', 'de', 'morir', 'tendra', 'un', 'numero', 'ilimitado', 'de', 'bananas', 'a', 'su', 'disposicion', 'en', 'el', 'cielo', 'de', 'los', 'monos']\n"
          ]
        }
      ]
    },
    {
      "cell_type": "markdown",
      "source": [
        "Por último, vamos a emplear la librería `nltk` para eliminar las *stop-words*."
      ],
      "metadata": {
        "id": "uJ8rej6fIaSe"
      }
    },
    {
      "cell_type": "code",
      "source": [
        "!pip install nltk"
      ],
      "metadata": {
        "id": "YLlSPoPWIZkL",
        "outputId": "c007f32f-6ad5-4bad-d9df-2e27d6f9021c",
        "colab": {
          "base_uri": "https://localhost:8080/"
        }
      },
      "execution_count": 21,
      "outputs": [
        {
          "output_type": "stream",
          "name": "stdout",
          "text": [
            "Looking in indexes: https://pypi.org/simple, https://us-python.pkg.dev/colab-wheels/public/simple/\n",
            "Requirement already satisfied: nltk in /usr/local/lib/python3.10/dist-packages (3.8.1)\n",
            "Requirement already satisfied: click in /usr/local/lib/python3.10/dist-packages (from nltk) (8.1.3)\n",
            "Requirement already satisfied: joblib in /usr/local/lib/python3.10/dist-packages (from nltk) (1.2.0)\n",
            "Requirement already satisfied: regex>=2021.8.3 in /usr/local/lib/python3.10/dist-packages (from nltk) (2022.10.31)\n",
            "Requirement already satisfied: tqdm in /usr/local/lib/python3.10/dist-packages (from nltk) (4.65.0)\n"
          ]
        }
      ]
    },
    {
      "cell_type": "code",
      "source": [
        "import nltk \n",
        "from nltk.corpus import stopwords\n",
        "nltk.download('stopwords')\n",
        "\n"
      ],
      "metadata": {
        "id": "xkezXXDOcKO_",
        "outputId": "00bbfc1b-5945-417c-884c-3ac3b2cd54f9",
        "colab": {
          "base_uri": "https://localhost:8080/"
        }
      },
      "execution_count": 22,
      "outputs": [
        {
          "output_type": "stream",
          "name": "stderr",
          "text": [
            "[nltk_data] Downloading package stopwords to /root/nltk_data...\n",
            "[nltk_data]   Unzipping corpora/stopwords.zip.\n"
          ]
        },
        {
          "output_type": "execute_result",
          "data": {
            "text/plain": [
              "True"
            ]
          },
          "metadata": {},
          "execution_count": 22
        }
      ]
    },
    {
      "cell_type": "code",
      "source": [
        "stop_words= stopwords.words('spanish')\n",
        "print(stop_words)"
      ],
      "metadata": {
        "id": "MwbYW1QncYZM",
        "outputId": "fc17cef3-1b7d-4e09-bf7d-76a310519ee7",
        "colab": {
          "base_uri": "https://localhost:8080/"
        }
      },
      "execution_count": 23,
      "outputs": [
        {
          "output_type": "stream",
          "name": "stdout",
          "text": [
            "['de', 'la', 'que', 'el', 'en', 'y', 'a', 'los', 'del', 'se', 'las', 'por', 'un', 'para', 'con', 'no', 'una', 'su', 'al', 'lo', 'como', 'más', 'pero', 'sus', 'le', 'ya', 'o', 'este', 'sí', 'porque', 'esta', 'entre', 'cuando', 'muy', 'sin', 'sobre', 'también', 'me', 'hasta', 'hay', 'donde', 'quien', 'desde', 'todo', 'nos', 'durante', 'todos', 'uno', 'les', 'ni', 'contra', 'otros', 'ese', 'eso', 'ante', 'ellos', 'e', 'esto', 'mí', 'antes', 'algunos', 'qué', 'unos', 'yo', 'otro', 'otras', 'otra', 'él', 'tanto', 'esa', 'estos', 'mucho', 'quienes', 'nada', 'muchos', 'cual', 'poco', 'ella', 'estar', 'estas', 'algunas', 'algo', 'nosotros', 'mi', 'mis', 'tú', 'te', 'ti', 'tu', 'tus', 'ellas', 'nosotras', 'vosotros', 'vosotras', 'os', 'mío', 'mía', 'míos', 'mías', 'tuyo', 'tuya', 'tuyos', 'tuyas', 'suyo', 'suya', 'suyos', 'suyas', 'nuestro', 'nuestra', 'nuestros', 'nuestras', 'vuestro', 'vuestra', 'vuestros', 'vuestras', 'esos', 'esas', 'estoy', 'estás', 'está', 'estamos', 'estáis', 'están', 'esté', 'estés', 'estemos', 'estéis', 'estén', 'estaré', 'estarás', 'estará', 'estaremos', 'estaréis', 'estarán', 'estaría', 'estarías', 'estaríamos', 'estaríais', 'estarían', 'estaba', 'estabas', 'estábamos', 'estabais', 'estaban', 'estuve', 'estuviste', 'estuvo', 'estuvimos', 'estuvisteis', 'estuvieron', 'estuviera', 'estuvieras', 'estuviéramos', 'estuvierais', 'estuvieran', 'estuviese', 'estuvieses', 'estuviésemos', 'estuvieseis', 'estuviesen', 'estando', 'estado', 'estada', 'estados', 'estadas', 'estad', 'he', 'has', 'ha', 'hemos', 'habéis', 'han', 'haya', 'hayas', 'hayamos', 'hayáis', 'hayan', 'habré', 'habrás', 'habrá', 'habremos', 'habréis', 'habrán', 'habría', 'habrías', 'habríamos', 'habríais', 'habrían', 'había', 'habías', 'habíamos', 'habíais', 'habían', 'hube', 'hubiste', 'hubo', 'hubimos', 'hubisteis', 'hubieron', 'hubiera', 'hubieras', 'hubiéramos', 'hubierais', 'hubieran', 'hubiese', 'hubieses', 'hubiésemos', 'hubieseis', 'hubiesen', 'habiendo', 'habido', 'habida', 'habidos', 'habidas', 'soy', 'eres', 'es', 'somos', 'sois', 'son', 'sea', 'seas', 'seamos', 'seáis', 'sean', 'seré', 'serás', 'será', 'seremos', 'seréis', 'serán', 'sería', 'serías', 'seríamos', 'seríais', 'serían', 'era', 'eras', 'éramos', 'erais', 'eran', 'fui', 'fuiste', 'fue', 'fuimos', 'fuisteis', 'fueron', 'fuera', 'fueras', 'fuéramos', 'fuerais', 'fueran', 'fuese', 'fueses', 'fuésemos', 'fueseis', 'fuesen', 'sintiendo', 'sentido', 'sentida', 'sentidos', 'sentidas', 'siente', 'sentid', 'tengo', 'tienes', 'tiene', 'tenemos', 'tenéis', 'tienen', 'tenga', 'tengas', 'tengamos', 'tengáis', 'tengan', 'tendré', 'tendrás', 'tendrá', 'tendremos', 'tendréis', 'tendrán', 'tendría', 'tendrías', 'tendríamos', 'tendríais', 'tendrían', 'tenía', 'tenías', 'teníamos', 'teníais', 'tenían', 'tuve', 'tuviste', 'tuvo', 'tuvimos', 'tuvisteis', 'tuvieron', 'tuviera', 'tuvieras', 'tuviéramos', 'tuvierais', 'tuvieran', 'tuviese', 'tuvieses', 'tuviésemos', 'tuvieseis', 'tuviesen', 'teniendo', 'tenido', 'tenida', 'tenidos', 'tenidas', 'tened']\n"
          ]
        }
      ]
    },
    {
      "cell_type": "code",
      "source": [
        "texto_limpio = [palabra for palabra in texto_splitted if palabra.lower() not in stop_words]\n",
        "print(texto_limpio)"
      ],
      "metadata": {
        "id": "raJKn7DHcf_k",
        "outputId": "a5a4b494-4502-40be-8c7e-ac1cda125e7e",
        "colab": {
          "base_uri": "https://localhost:8080/"
        }
      },
      "execution_count": 25,
      "outputs": [
        {
          "output_type": "stream",
          "name": "stdout",
          "text": [
            "['relativamente', 'facil', 'ponerse', 'acuerdo', 'solo', 'homo', 'sapiens', 'puede', 'hablar', 'cosas', 'existen', 'realmente', 'creerse', 'seis', 'cosas', 'imposibles', 'desayuno', 'cambio', 'nunca', 'convenceremos', 'mono', 'platano', 'promesa', 'despues', 'morir', 'tendra', 'numero', 'ilimitado', 'bananas', 'disposicion', 'cielo', 'monos']\n"
          ]
        }
      ]
    }
  ]
}